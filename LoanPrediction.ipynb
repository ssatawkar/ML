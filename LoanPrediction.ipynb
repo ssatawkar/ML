{
 "cells": [
  {
   "cell_type": "raw",
   "metadata": {},
   "source": []
  },
  {
   "cell_type": "code",
   "execution_count": 1,
   "metadata": {
    "ExecuteTime": {
     "end_time": "2020-11-03T10:56:35.589244Z",
     "start_time": "2020-11-03T10:56:33.170413Z"
    }
   },
   "outputs": [
    {
     "name": "stdout",
     "output_type": "stream",
     "text": [
      "Once deleted, variables cannot be recovered. Proceed (y/[n])? y\n"
     ]
    }
   ],
   "source": [
    "%reset"
   ]
  },
  {
   "cell_type": "code",
   "execution_count": 2,
   "metadata": {
    "ExecuteTime": {
     "end_time": "2020-11-03T10:56:37.369010Z",
     "start_time": "2020-11-03T10:56:35.593158Z"
    }
   },
   "outputs": [],
   "source": [
    "import warnings\n",
    "import pandas as pd \n",
    "warnings.filterwarnings(\"ignore\")\n",
    "pd.set_option('display.float_format', lambda x: '%.3f' % x)\n",
    "#df['Traded Value'] = df['Traded Value'].apply(lambda x: '{:.2f}'.format(x))"
   ]
  },
  {
   "cell_type": "code",
   "execution_count": 3,
   "metadata": {
    "ExecuteTime": {
     "end_time": "2020-11-03T10:56:40.776236Z",
     "start_time": "2020-11-03T10:56:37.372812Z"
    }
   },
   "outputs": [],
   "source": [
    "import numpy as np\n",
    "import pandas as pd\n",
    "import sklearn.metrics as sk \n",
    "import matplotlib.pyplot as plt \n",
    "import seaborn as sns                  # For data visualization \n",
    "import matplotlib.pyplot as plt        # For plotting graphs \n",
    "from sklearn.model_selection import train_test_split\n",
    "from sklearn.metrics import accuracy_score\n",
    "from sklearn.metrics import confusion_matrix\n",
    "from sklearn.metrics import classification_report\n",
    "from sklearn.impute import SimpleImputer\n",
    "\n",
    "from sklearn.ensemble import RandomForestClassifier\n",
    "from sklearn.linear_model import LinearRegression, LogisticRegression \n",
    "from sklearn.linear_model import Ridge\n",
    "from sklearn.model_selection import KFold\n",
    "from sklearn.model_selection import cross_val_score\n",
    "from sklearn.model_selection import cross_val_predict\n",
    "from sklearn.tree import DecisionTreeClassifier\n",
    "from sklearn.metrics import classification_report\n",
    "from sklearn.metrics import confusion_matrix\n",
    "from sklearn.metrics import accuracy_score\n",
    "from sklearn.linear_model import LogisticRegression\n",
    "from sklearn.tree import DecisionTreeClassifier\n",
    "from sklearn.ensemble import RandomForestClassifier, GradientBoostingClassifier\n",
    "from sklearn.neighbors import KNeighborsClassifier\n",
    "from xgboost import XGBClassifier\n",
    "from sklearn.discriminant_analysis import LinearDiscriminantAnalysis\n",
    "from sklearn.naive_bayes import GaussianNB\n",
    "from sklearn.svm import SVC\n",
    "\n",
    "import sklearn.metrics"
   ]
  },
  {
   "cell_type": "code",
   "execution_count": 4,
   "metadata": {
    "ExecuteTime": {
     "end_time": "2020-11-03T10:56:40.786398Z",
     "start_time": "2020-11-03T10:56:40.780825Z"
    }
   },
   "outputs": [],
   "source": [
    "#train_filename = \"c:/aa mtas/AA_ER/ml/python-code/loan prediction/train.csv\"\n",
    "train_filename = \"c:/aa mtas/AA_ER/ml/python-code/A1Practice/loan-prediction-train.csv\"\n",
    "test_filename = \"c:/aa mtas/AA_ER/ml/python-code/loan prediction/test.csv\""
   ]
  },
  {
   "cell_type": "code",
   "execution_count": 5,
   "metadata": {
    "ExecuteTime": {
     "end_time": "2020-11-03T10:56:40.824840Z",
     "start_time": "2020-11-03T10:56:40.790556Z"
    }
   },
   "outputs": [],
   "source": [
    "train_orig = pd.read_csv(train_filename)\n",
    "test_orig = pd.read_csv(test_filename)"
   ]
  },
  {
   "cell_type": "code",
   "execution_count": 6,
   "metadata": {
    "ExecuteTime": {
     "end_time": "2020-11-03T10:56:40.842546Z",
     "start_time": "2020-11-03T10:56:40.828591Z"
    }
   },
   "outputs": [
    {
     "data": {
      "text/plain": [
       "(614, 13)"
      ]
     },
     "execution_count": 6,
     "metadata": {},
     "output_type": "execute_result"
    }
   ],
   "source": [
    "train_orig.shape"
   ]
  },
  {
   "cell_type": "code",
   "execution_count": 7,
   "metadata": {
    "ExecuteTime": {
     "end_time": "2020-11-03T10:56:40.854515Z",
     "start_time": "2020-11-03T10:56:40.846535Z"
    }
   },
   "outputs": [],
   "source": [
    "train = train_orig.copy()\n",
    "test = test_orig.copy()"
   ]
  },
  {
   "cell_type": "code",
   "execution_count": 8,
   "metadata": {
    "ExecuteTime": {
     "end_time": "2020-11-03T10:56:40.872551Z",
     "start_time": "2020-11-03T10:56:40.862572Z"
    }
   },
   "outputs": [
    {
     "data": {
      "text/plain": [
       "((614, 13), (367, 12))"
      ]
     },
     "execution_count": 8,
     "metadata": {},
     "output_type": "execute_result"
    }
   ],
   "source": [
    "train.shape, test.shape"
   ]
  },
  {
   "cell_type": "code",
   "execution_count": 9,
   "metadata": {
    "ExecuteTime": {
     "end_time": "2020-11-03T10:56:40.887025Z",
     "start_time": "2020-11-03T10:56:40.877050Z"
    }
   },
   "outputs": [
    {
     "data": {
      "text/plain": [
       "(Index(['Loan_ID', 'Gender', 'Married', 'Dependents', 'Education',\n",
       "        'Self_Employed', 'ApplicantIncome', 'CoapplicantIncome', 'LoanAmount',\n",
       "        'Loan_Amount_Term', 'Credit_History', 'Property_Area', 'Loan_Status'],\n",
       "       dtype='object'),\n",
       " Index(['Loan_ID', 'Gender', 'Married', 'Dependents', 'Education',\n",
       "        'Self_Employed', 'ApplicantIncome', 'CoapplicantIncome', 'LoanAmount',\n",
       "        'Loan_Amount_Term', 'Credit_History', 'Property_Area'],\n",
       "       dtype='object'))"
      ]
     },
     "execution_count": 9,
     "metadata": {},
     "output_type": "execute_result"
    }
   ],
   "source": [
    "train.columns, test.columns"
   ]
  },
  {
   "cell_type": "code",
   "execution_count": 10,
   "metadata": {
    "ExecuteTime": {
     "end_time": "2020-11-03T10:56:40.955892Z",
     "start_time": "2020-11-03T10:56:40.891013Z"
    }
   },
   "outputs": [
    {
     "data": {
      "text/html": [
       "<div>\n",
       "<style scoped>\n",
       "    .dataframe tbody tr th:only-of-type {\n",
       "        vertical-align: middle;\n",
       "    }\n",
       "\n",
       "    .dataframe tbody tr th {\n",
       "        vertical-align: top;\n",
       "    }\n",
       "\n",
       "    .dataframe thead th {\n",
       "        text-align: right;\n",
       "    }\n",
       "</style>\n",
       "<table border=\"1\" class=\"dataframe\">\n",
       "  <thead>\n",
       "    <tr style=\"text-align: right;\">\n",
       "      <th></th>\n",
       "      <th>ApplicantIncome</th>\n",
       "      <th>CoapplicantIncome</th>\n",
       "      <th>LoanAmount</th>\n",
       "      <th>Loan_Amount_Term</th>\n",
       "      <th>Credit_History</th>\n",
       "    </tr>\n",
       "  </thead>\n",
       "  <tbody>\n",
       "    <tr>\n",
       "      <td>count</td>\n",
       "      <td>614.000</td>\n",
       "      <td>614.000</td>\n",
       "      <td>592.000</td>\n",
       "      <td>600.000</td>\n",
       "      <td>564.000</td>\n",
       "    </tr>\n",
       "    <tr>\n",
       "      <td>mean</td>\n",
       "      <td>5403.459</td>\n",
       "      <td>1621.246</td>\n",
       "      <td>146.412</td>\n",
       "      <td>342.000</td>\n",
       "      <td>0.842</td>\n",
       "    </tr>\n",
       "    <tr>\n",
       "      <td>std</td>\n",
       "      <td>6109.042</td>\n",
       "      <td>2926.248</td>\n",
       "      <td>85.587</td>\n",
       "      <td>65.120</td>\n",
       "      <td>0.365</td>\n",
       "    </tr>\n",
       "    <tr>\n",
       "      <td>min</td>\n",
       "      <td>150.000</td>\n",
       "      <td>0.000</td>\n",
       "      <td>9.000</td>\n",
       "      <td>12.000</td>\n",
       "      <td>0.000</td>\n",
       "    </tr>\n",
       "    <tr>\n",
       "      <td>25%</td>\n",
       "      <td>2877.500</td>\n",
       "      <td>0.000</td>\n",
       "      <td>100.000</td>\n",
       "      <td>360.000</td>\n",
       "      <td>1.000</td>\n",
       "    </tr>\n",
       "    <tr>\n",
       "      <td>50%</td>\n",
       "      <td>3812.500</td>\n",
       "      <td>1188.500</td>\n",
       "      <td>128.000</td>\n",
       "      <td>360.000</td>\n",
       "      <td>1.000</td>\n",
       "    </tr>\n",
       "    <tr>\n",
       "      <td>75%</td>\n",
       "      <td>5795.000</td>\n",
       "      <td>2297.250</td>\n",
       "      <td>168.000</td>\n",
       "      <td>360.000</td>\n",
       "      <td>1.000</td>\n",
       "    </tr>\n",
       "    <tr>\n",
       "      <td>max</td>\n",
       "      <td>81000.000</td>\n",
       "      <td>41667.000</td>\n",
       "      <td>700.000</td>\n",
       "      <td>480.000</td>\n",
       "      <td>1.000</td>\n",
       "    </tr>\n",
       "  </tbody>\n",
       "</table>\n",
       "</div>"
      ],
      "text/plain": [
       "       ApplicantIncome  CoapplicantIncome  LoanAmount  Loan_Amount_Term  \\\n",
       "count          614.000            614.000     592.000           600.000   \n",
       "mean          5403.459           1621.246     146.412           342.000   \n",
       "std           6109.042           2926.248      85.587            65.120   \n",
       "min            150.000              0.000       9.000            12.000   \n",
       "25%           2877.500              0.000     100.000           360.000   \n",
       "50%           3812.500           1188.500     128.000           360.000   \n",
       "75%           5795.000           2297.250     168.000           360.000   \n",
       "max          81000.000          41667.000     700.000           480.000   \n",
       "\n",
       "       Credit_History  \n",
       "count         564.000  \n",
       "mean            0.842  \n",
       "std             0.365  \n",
       "min             0.000  \n",
       "25%             1.000  \n",
       "50%             1.000  \n",
       "75%             1.000  \n",
       "max             1.000  "
      ]
     },
     "execution_count": 10,
     "metadata": {},
     "output_type": "execute_result"
    }
   ],
   "source": [
    "train.describe()"
   ]
  },
  {
   "cell_type": "code",
   "execution_count": 11,
   "metadata": {
    "ExecuteTime": {
     "end_time": "2020-11-03T10:56:40.998043Z",
     "start_time": "2020-11-03T10:56:40.962870Z"
    }
   },
   "outputs": [
    {
     "name": "stdout",
     "output_type": "stream",
     "text": [
      "<class 'pandas.core.frame.DataFrame'>\n",
      "RangeIndex: 614 entries, 0 to 613\n",
      "Data columns (total 13 columns):\n",
      "Loan_ID              614 non-null object\n",
      "Gender               601 non-null object\n",
      "Married              611 non-null object\n",
      "Dependents           599 non-null object\n",
      "Education            614 non-null object\n",
      "Self_Employed        582 non-null object\n",
      "ApplicantIncome      614 non-null int64\n",
      "CoapplicantIncome    614 non-null float64\n",
      "LoanAmount           592 non-null float64\n",
      "Loan_Amount_Term     600 non-null float64\n",
      "Credit_History       564 non-null float64\n",
      "Property_Area        614 non-null object\n",
      "Loan_Status          614 non-null object\n",
      "dtypes: float64(4), int64(1), object(8)\n",
      "memory usage: 62.5+ KB\n"
     ]
    }
   ],
   "source": [
    "train.info()"
   ]
  },
  {
   "cell_type": "code",
   "execution_count": 12,
   "metadata": {
    "ExecuteTime": {
     "end_time": "2020-11-03T10:56:41.040903Z",
     "start_time": "2020-11-03T10:56:41.007962Z"
    }
   },
   "outputs": [
    {
     "data": {
      "text/plain": [
       "Loan_ID               0\n",
       "Gender               13\n",
       "Married               3\n",
       "Dependents           15\n",
       "Education             0\n",
       "Self_Employed        32\n",
       "ApplicantIncome       0\n",
       "CoapplicantIncome     0\n",
       "LoanAmount           22\n",
       "Loan_Amount_Term     14\n",
       "Credit_History       50\n",
       "Property_Area         0\n",
       "Loan_Status           0\n",
       "dtype: int64"
      ]
     },
     "execution_count": 12,
     "metadata": {},
     "output_type": "execute_result"
    }
   ],
   "source": [
    "train.isna().sum()"
   ]
  },
  {
   "cell_type": "code",
   "execution_count": 13,
   "metadata": {
    "ExecuteTime": {
     "end_time": "2020-11-03T10:56:41.139652Z",
     "start_time": "2020-11-03T10:56:41.053834Z"
    }
   },
   "outputs": [
    {
     "data": {
      "text/html": [
       "<div>\n",
       "<style scoped>\n",
       "    .dataframe tbody tr th:only-of-type {\n",
       "        vertical-align: middle;\n",
       "    }\n",
       "\n",
       "    .dataframe tbody tr th {\n",
       "        vertical-align: top;\n",
       "    }\n",
       "\n",
       "    .dataframe thead th {\n",
       "        text-align: right;\n",
       "    }\n",
       "</style>\n",
       "<table border=\"1\" class=\"dataframe\">\n",
       "  <thead>\n",
       "    <tr style=\"text-align: right;\">\n",
       "      <th></th>\n",
       "      <th>Loan_ID</th>\n",
       "      <th>Gender</th>\n",
       "      <th>Married</th>\n",
       "      <th>Dependents</th>\n",
       "      <th>Education</th>\n",
       "      <th>Self_Employed</th>\n",
       "      <th>ApplicantIncome</th>\n",
       "      <th>CoapplicantIncome</th>\n",
       "      <th>LoanAmount</th>\n",
       "      <th>Loan_Amount_Term</th>\n",
       "      <th>Credit_History</th>\n",
       "      <th>Property_Area</th>\n",
       "      <th>Loan_Status</th>\n",
       "    </tr>\n",
       "  </thead>\n",
       "  <tbody>\n",
       "    <tr>\n",
       "      <td>0</td>\n",
       "      <td>LP001002</td>\n",
       "      <td>Male</td>\n",
       "      <td>No</td>\n",
       "      <td>0</td>\n",
       "      <td>Graduate</td>\n",
       "      <td>No</td>\n",
       "      <td>5849</td>\n",
       "      <td>0.000</td>\n",
       "      <td>nan</td>\n",
       "      <td>360.000</td>\n",
       "      <td>1.000</td>\n",
       "      <td>Urban</td>\n",
       "      <td>Y</td>\n",
       "    </tr>\n",
       "    <tr>\n",
       "      <td>1</td>\n",
       "      <td>LP001003</td>\n",
       "      <td>Male</td>\n",
       "      <td>Yes</td>\n",
       "      <td>1</td>\n",
       "      <td>Graduate</td>\n",
       "      <td>No</td>\n",
       "      <td>4583</td>\n",
       "      <td>1508.000</td>\n",
       "      <td>128.000</td>\n",
       "      <td>360.000</td>\n",
       "      <td>1.000</td>\n",
       "      <td>Rural</td>\n",
       "      <td>N</td>\n",
       "    </tr>\n",
       "    <tr>\n",
       "      <td>2</td>\n",
       "      <td>LP001005</td>\n",
       "      <td>Male</td>\n",
       "      <td>Yes</td>\n",
       "      <td>0</td>\n",
       "      <td>Graduate</td>\n",
       "      <td>Yes</td>\n",
       "      <td>3000</td>\n",
       "      <td>0.000</td>\n",
       "      <td>66.000</td>\n",
       "      <td>360.000</td>\n",
       "      <td>1.000</td>\n",
       "      <td>Urban</td>\n",
       "      <td>Y</td>\n",
       "    </tr>\n",
       "    <tr>\n",
       "      <td>3</td>\n",
       "      <td>LP001006</td>\n",
       "      <td>Male</td>\n",
       "      <td>Yes</td>\n",
       "      <td>0</td>\n",
       "      <td>Not Graduate</td>\n",
       "      <td>No</td>\n",
       "      <td>2583</td>\n",
       "      <td>2358.000</td>\n",
       "      <td>120.000</td>\n",
       "      <td>360.000</td>\n",
       "      <td>1.000</td>\n",
       "      <td>Urban</td>\n",
       "      <td>Y</td>\n",
       "    </tr>\n",
       "    <tr>\n",
       "      <td>4</td>\n",
       "      <td>LP001008</td>\n",
       "      <td>Male</td>\n",
       "      <td>No</td>\n",
       "      <td>0</td>\n",
       "      <td>Graduate</td>\n",
       "      <td>No</td>\n",
       "      <td>6000</td>\n",
       "      <td>0.000</td>\n",
       "      <td>141.000</td>\n",
       "      <td>360.000</td>\n",
       "      <td>1.000</td>\n",
       "      <td>Urban</td>\n",
       "      <td>Y</td>\n",
       "    </tr>\n",
       "    <tr>\n",
       "      <td>5</td>\n",
       "      <td>LP001011</td>\n",
       "      <td>Male</td>\n",
       "      <td>Yes</td>\n",
       "      <td>2</td>\n",
       "      <td>Graduate</td>\n",
       "      <td>Yes</td>\n",
       "      <td>5417</td>\n",
       "      <td>4196.000</td>\n",
       "      <td>267.000</td>\n",
       "      <td>360.000</td>\n",
       "      <td>1.000</td>\n",
       "      <td>Urban</td>\n",
       "      <td>Y</td>\n",
       "    </tr>\n",
       "    <tr>\n",
       "      <td>6</td>\n",
       "      <td>LP001013</td>\n",
       "      <td>Male</td>\n",
       "      <td>Yes</td>\n",
       "      <td>0</td>\n",
       "      <td>Not Graduate</td>\n",
       "      <td>No</td>\n",
       "      <td>2333</td>\n",
       "      <td>1516.000</td>\n",
       "      <td>95.000</td>\n",
       "      <td>360.000</td>\n",
       "      <td>1.000</td>\n",
       "      <td>Urban</td>\n",
       "      <td>Y</td>\n",
       "    </tr>\n",
       "    <tr>\n",
       "      <td>7</td>\n",
       "      <td>LP001014</td>\n",
       "      <td>Male</td>\n",
       "      <td>Yes</td>\n",
       "      <td>3+</td>\n",
       "      <td>Graduate</td>\n",
       "      <td>No</td>\n",
       "      <td>3036</td>\n",
       "      <td>2504.000</td>\n",
       "      <td>158.000</td>\n",
       "      <td>360.000</td>\n",
       "      <td>0.000</td>\n",
       "      <td>Semiurban</td>\n",
       "      <td>N</td>\n",
       "    </tr>\n",
       "    <tr>\n",
       "      <td>8</td>\n",
       "      <td>LP001018</td>\n",
       "      <td>Male</td>\n",
       "      <td>Yes</td>\n",
       "      <td>2</td>\n",
       "      <td>Graduate</td>\n",
       "      <td>No</td>\n",
       "      <td>4006</td>\n",
       "      <td>1526.000</td>\n",
       "      <td>168.000</td>\n",
       "      <td>360.000</td>\n",
       "      <td>1.000</td>\n",
       "      <td>Urban</td>\n",
       "      <td>Y</td>\n",
       "    </tr>\n",
       "    <tr>\n",
       "      <td>9</td>\n",
       "      <td>LP001020</td>\n",
       "      <td>Male</td>\n",
       "      <td>Yes</td>\n",
       "      <td>1</td>\n",
       "      <td>Graduate</td>\n",
       "      <td>No</td>\n",
       "      <td>12841</td>\n",
       "      <td>10968.000</td>\n",
       "      <td>349.000</td>\n",
       "      <td>360.000</td>\n",
       "      <td>1.000</td>\n",
       "      <td>Semiurban</td>\n",
       "      <td>N</td>\n",
       "    </tr>\n",
       "  </tbody>\n",
       "</table>\n",
       "</div>"
      ],
      "text/plain": [
       "    Loan_ID Gender Married Dependents     Education Self_Employed  \\\n",
       "0  LP001002   Male      No          0      Graduate            No   \n",
       "1  LP001003   Male     Yes          1      Graduate            No   \n",
       "2  LP001005   Male     Yes          0      Graduate           Yes   \n",
       "3  LP001006   Male     Yes          0  Not Graduate            No   \n",
       "4  LP001008   Male      No          0      Graduate            No   \n",
       "5  LP001011   Male     Yes          2      Graduate           Yes   \n",
       "6  LP001013   Male     Yes          0  Not Graduate            No   \n",
       "7  LP001014   Male     Yes         3+      Graduate            No   \n",
       "8  LP001018   Male     Yes          2      Graduate            No   \n",
       "9  LP001020   Male     Yes          1      Graduate            No   \n",
       "\n",
       "   ApplicantIncome  CoapplicantIncome  LoanAmount  Loan_Amount_Term  \\\n",
       "0             5849              0.000         nan           360.000   \n",
       "1             4583           1508.000     128.000           360.000   \n",
       "2             3000              0.000      66.000           360.000   \n",
       "3             2583           2358.000     120.000           360.000   \n",
       "4             6000              0.000     141.000           360.000   \n",
       "5             5417           4196.000     267.000           360.000   \n",
       "6             2333           1516.000      95.000           360.000   \n",
       "7             3036           2504.000     158.000           360.000   \n",
       "8             4006           1526.000     168.000           360.000   \n",
       "9            12841          10968.000     349.000           360.000   \n",
       "\n",
       "   Credit_History Property_Area Loan_Status  \n",
       "0           1.000         Urban           Y  \n",
       "1           1.000         Rural           N  \n",
       "2           1.000         Urban           Y  \n",
       "3           1.000         Urban           Y  \n",
       "4           1.000         Urban           Y  \n",
       "5           1.000         Urban           Y  \n",
       "6           1.000         Urban           Y  \n",
       "7           0.000     Semiurban           N  \n",
       "8           1.000         Urban           Y  \n",
       "9           1.000     Semiurban           N  "
      ]
     },
     "execution_count": 13,
     "metadata": {},
     "output_type": "execute_result"
    }
   ],
   "source": [
    "train.head(10)"
   ]
  },
  {
   "cell_type": "code",
   "execution_count": 14,
   "metadata": {
    "ExecuteTime": {
     "end_time": "2020-11-03T10:56:41.162567Z",
     "start_time": "2020-11-03T10:56:41.145586Z"
    }
   },
   "outputs": [
    {
     "data": {
      "text/plain": [
       "(592, 13)"
      ]
     },
     "execution_count": 14,
     "metadata": {},
     "output_type": "execute_result"
    }
   ],
   "source": [
    "train.dropna(subset=['LoanAmount'],inplace=True)\n",
    "train.shape"
   ]
  },
  {
   "cell_type": "code",
   "execution_count": 15,
   "metadata": {
    "ExecuteTime": {
     "end_time": "2020-11-03T10:56:41.211410Z",
     "start_time": "2020-11-03T10:56:41.166530Z"
    }
   },
   "outputs": [
    {
     "data": {
      "text/html": [
       "<div>\n",
       "<style scoped>\n",
       "    .dataframe tbody tr th:only-of-type {\n",
       "        vertical-align: middle;\n",
       "    }\n",
       "\n",
       "    .dataframe tbody tr th {\n",
       "        vertical-align: top;\n",
       "    }\n",
       "\n",
       "    .dataframe thead th {\n",
       "        text-align: right;\n",
       "    }\n",
       "</style>\n",
       "<table border=\"1\" class=\"dataframe\">\n",
       "  <thead>\n",
       "    <tr style=\"text-align: right;\">\n",
       "      <th>Loan_Status</th>\n",
       "      <th>N</th>\n",
       "      <th>Y</th>\n",
       "    </tr>\n",
       "    <tr>\n",
       "      <th>Gender</th>\n",
       "      <th></th>\n",
       "      <th></th>\n",
       "    </tr>\n",
       "  </thead>\n",
       "  <tbody>\n",
       "    <tr>\n",
       "      <td>Female</td>\n",
       "      <td>36</td>\n",
       "      <td>73</td>\n",
       "    </tr>\n",
       "    <tr>\n",
       "      <td>Male</td>\n",
       "      <td>140</td>\n",
       "      <td>330</td>\n",
       "    </tr>\n",
       "  </tbody>\n",
       "</table>\n",
       "</div>"
      ],
      "text/plain": [
       "Loan_Status    N    Y\n",
       "Gender               \n",
       "Female        36   73\n",
       "Male         140  330"
      ]
     },
     "execution_count": 15,
     "metadata": {},
     "output_type": "execute_result"
    }
   ],
   "source": [
    "pd.crosstab(train['Gender'],train['Loan_Status']) "
   ]
  },
  {
   "cell_type": "code",
   "execution_count": 16,
   "metadata": {
    "ExecuteTime": {
     "end_time": "2020-11-03T10:56:41.262277Z",
     "start_time": "2020-11-03T10:56:41.215835Z"
    }
   },
   "outputs": [
    {
     "data": {
      "text/html": [
       "<div>\n",
       "<style scoped>\n",
       "    .dataframe tbody tr th:only-of-type {\n",
       "        vertical-align: middle;\n",
       "    }\n",
       "\n",
       "    .dataframe tbody tr th {\n",
       "        vertical-align: top;\n",
       "    }\n",
       "\n",
       "    .dataframe thead th {\n",
       "        text-align: right;\n",
       "    }\n",
       "</style>\n",
       "<table border=\"1\" class=\"dataframe\">\n",
       "  <thead>\n",
       "    <tr style=\"text-align: right;\">\n",
       "      <th>Loan_Status</th>\n",
       "      <th>N</th>\n",
       "      <th>Y</th>\n",
       "    </tr>\n",
       "    <tr>\n",
       "      <th>Married</th>\n",
       "      <th></th>\n",
       "      <th></th>\n",
       "    </tr>\n",
       "  </thead>\n",
       "  <tbody>\n",
       "    <tr>\n",
       "      <td>No</td>\n",
       "      <td>75</td>\n",
       "      <td>131</td>\n",
       "    </tr>\n",
       "    <tr>\n",
       "      <td>Yes</td>\n",
       "      <td>106</td>\n",
       "      <td>278</td>\n",
       "    </tr>\n",
       "  </tbody>\n",
       "</table>\n",
       "</div>"
      ],
      "text/plain": [
       "Loan_Status    N    Y\n",
       "Married              \n",
       "No            75  131\n",
       "Yes          106  278"
      ]
     },
     "execution_count": 16,
     "metadata": {},
     "output_type": "execute_result"
    }
   ],
   "source": [
    "pd.crosstab(train['Married'],train['Loan_Status']) "
   ]
  },
  {
   "cell_type": "code",
   "execution_count": 17,
   "metadata": {
    "ExecuteTime": {
     "end_time": "2020-11-03T10:56:41.307709Z",
     "start_time": "2020-11-03T10:56:41.266303Z"
    }
   },
   "outputs": [
    {
     "data": {
      "text/html": [
       "<div>\n",
       "<style scoped>\n",
       "    .dataframe tbody tr th:only-of-type {\n",
       "        vertical-align: middle;\n",
       "    }\n",
       "\n",
       "    .dataframe tbody tr th {\n",
       "        vertical-align: top;\n",
       "    }\n",
       "\n",
       "    .dataframe thead th {\n",
       "        text-align: right;\n",
       "    }\n",
       "</style>\n",
       "<table border=\"1\" class=\"dataframe\">\n",
       "  <thead>\n",
       "    <tr style=\"text-align: right;\">\n",
       "      <th>Loan_Status</th>\n",
       "      <th>N</th>\n",
       "      <th>Y</th>\n",
       "    </tr>\n",
       "    <tr>\n",
       "      <th>Education</th>\n",
       "      <th></th>\n",
       "      <th></th>\n",
       "    </tr>\n",
       "  </thead>\n",
       "  <tbody>\n",
       "    <tr>\n",
       "      <td>Graduate</td>\n",
       "      <td>134</td>\n",
       "      <td>331</td>\n",
       "    </tr>\n",
       "    <tr>\n",
       "      <td>Not Graduate</td>\n",
       "      <td>47</td>\n",
       "      <td>80</td>\n",
       "    </tr>\n",
       "  </tbody>\n",
       "</table>\n",
       "</div>"
      ],
      "text/plain": [
       "Loan_Status     N    Y\n",
       "Education             \n",
       "Graduate      134  331\n",
       "Not Graduate   47   80"
      ]
     },
     "execution_count": 17,
     "metadata": {},
     "output_type": "execute_result"
    }
   ],
   "source": [
    "pd.crosstab(train['Education'],train['Loan_Status'])"
   ]
  },
  {
   "cell_type": "code",
   "execution_count": 18,
   "metadata": {
    "ExecuteTime": {
     "end_time": "2020-11-03T10:56:41.327656Z",
     "start_time": "2020-11-03T10:56:41.312695Z"
    }
   },
   "outputs": [
    {
     "data": {
      "text/plain": [
       "Yes    384\n",
       "No     206\n",
       "Name: Married, dtype: int64"
      ]
     },
     "execution_count": 18,
     "metadata": {},
     "output_type": "execute_result"
    }
   ],
   "source": [
    "train['Married'].value_counts()\n"
   ]
  },
  {
   "cell_type": "code",
   "execution_count": 19,
   "metadata": {
    "ExecuteTime": {
     "end_time": "2020-11-03T10:56:41.347601Z",
     "start_time": "2020-11-03T10:56:41.332643Z"
    }
   },
   "outputs": [
    {
     "data": {
      "text/plain": [
       "Y    411\n",
       "N    181\n",
       "Name: Loan_Status, dtype: int64"
      ]
     },
     "execution_count": 19,
     "metadata": {},
     "output_type": "execute_result"
    }
   ],
   "source": [
    "train['Loan_Status'].value_counts()"
   ]
  },
  {
   "cell_type": "code",
   "execution_count": 20,
   "metadata": {
    "ExecuteTime": {
     "end_time": "2020-11-03T10:56:41.386807Z",
     "start_time": "2020-11-03T10:56:41.352629Z"
    }
   },
   "outputs": [
    {
     "data": {
      "text/plain": [
       "Y   0.694\n",
       "N   0.306\n",
       "Name: Loan_Status, dtype: float64"
      ]
     },
     "execution_count": 20,
     "metadata": {},
     "output_type": "execute_result"
    }
   ],
   "source": [
    "train['Loan_Status'].value_counts(normalize=True)"
   ]
  },
  {
   "cell_type": "code",
   "execution_count": 21,
   "metadata": {
    "ExecuteTime": {
     "end_time": "2020-11-03T10:56:41.667114Z",
     "start_time": "2020-11-03T10:56:41.391559Z"
    }
   },
   "outputs": [
    {
     "data": {
      "text/plain": [
       "<AxesSubplot:>"
      ]
     },
     "execution_count": 21,
     "metadata": {},
     "output_type": "execute_result"
    },
    {
     "data": {
      "image/png": "[encoded data removed]",
      "text/plain": [
       "<Figure size 432x288 with 1 Axes>"
      ]
     },
     "metadata": {
      "needs_background": "light"
     },
     "output_type": "display_data"
    }
   ],
   "source": [
    "train['Loan_Status'].value_counts().plot.bar()"
   ]
  },
  {
   "cell_type": "code",
   "execution_count": 22,
   "metadata": {
    "ExecuteTime": {
     "end_time": "2020-11-03T10:56:42.660249Z",
     "start_time": "2020-11-03T10:56:41.671187Z"
    }
   },
   "outputs": [
    {
     "data": {
      "image/png": "[encoded data removed]",
      "text/plain": [
       "<Figure size 1440x720 with 4 Axes>"
      ]
     },
     "metadata": {
      "needs_background": "light"
     },
     "output_type": "display_data"
    }
   ],
   "source": [
    "plt.figure(1)\n",
    "plt.subplot(221) \n",
    "train['Gender'].value_counts(normalize=True).plot.bar(figsize=(20,10), title= 'Gender') \n",
    "plt.subplot(222) \n",
    "train['Married'].value_counts(normalize=True).plot.bar(title= 'Married') \n",
    "plt.subplot(223)\n",
    "train['Self_Employed'].value_counts(normalize=True).plot.bar(title= 'Self_Employed') \n",
    "plt.subplot(224)\n",
    "train['Credit_History'].value_counts(normalize=True).plot.bar(title= 'Credit_History') \n",
    "plt.show()"
   ]
  },
  {
   "cell_type": "code",
   "execution_count": 23,
   "metadata": {
    "ExecuteTime": {
     "end_time": "2020-11-03T10:56:43.222098Z",
     "start_time": "2020-11-03T10:56:42.669192Z"
    }
   },
   "outputs": [
    {
     "data": {
      "text/plain": [
       "<AxesSubplot:title={'center':'Education'}>"
      ]
     },
     "execution_count": 23,
     "metadata": {},
     "output_type": "execute_result"
    },
    {
     "data": {
      "image/png": "[encoded data removed]",
      "text/plain": [
       "<Figure size 432x288 with 2 Axes>"
      ]
     },
     "metadata": {
      "needs_background": "light"
     },
     "output_type": "display_data"
    }
   ],
   "source": [
    "plt.figure(1)\n",
    "plt.subplot(121) \n",
    "train['Dependents'].value_counts(normalize=True).plot.bar(  title= 'Dependents') \n",
    "plt.subplot(122) \n",
    "train['Education'].value_counts(normalize=True).plot.bar(  title= 'Education') "
   ]
  },
  {
   "cell_type": "code",
   "execution_count": 24,
   "metadata": {
    "ExecuteTime": {
     "end_time": "2020-11-03T10:56:43.241420Z",
     "start_time": "2020-11-03T10:56:43.228086Z"
    }
   },
   "outputs": [
    {
     "data": {
      "text/plain": [
       "Loan_ID               0\n",
       "Gender               13\n",
       "Married               2\n",
       "Dependents           13\n",
       "Education             0\n",
       "Self_Employed        31\n",
       "ApplicantIncome       0\n",
       "CoapplicantIncome     0\n",
       "LoanAmount            0\n",
       "Loan_Amount_Term     14\n",
       "Credit_History       49\n",
       "Property_Area         0\n",
       "Loan_Status           0\n",
       "dtype: int64"
      ]
     },
     "execution_count": 24,
     "metadata": {},
     "output_type": "execute_result"
    }
   ],
   "source": [
    "train.isna().sum()"
   ]
  },
  {
   "cell_type": "code",
   "execution_count": 25,
   "metadata": {
    "ExecuteTime": {
     "end_time": "2020-11-03T10:56:43.268346Z",
     "start_time": "2020-11-03T10:56:43.245457Z"
    }
   },
   "outputs": [],
   "source": [
    "train['Gender'].fillna(train['Gender'].mode()[0], inplace = True)\n",
    "train['Married'].fillna(train['Married'].mode()[0], inplace = True)\n",
    "train['Dependents'].fillna(train['Dependents'].mode()[0], inplace=True) \n",
    "train['Self_Employed'].fillna(train['Self_Employed'].mode()[0], inplace=True) \n",
    "train['Credit_History'].fillna(train['Credit_History'].mode()[0], inplace=True)\n"
   ]
  },
  {
   "cell_type": "code",
   "execution_count": 26,
   "metadata": {
    "ExecuteTime": {
     "end_time": "2020-11-03T10:56:43.289291Z",
     "start_time": "2020-11-03T10:56:43.272369Z"
    }
   },
   "outputs": [],
   "source": [
    "test['Gender'].fillna(test['Gender'].mode()[0], inplace = True)\n",
    "test['Dependents'].fillna(test['Dependents'].mode()[0], inplace=True) \n",
    "test['Self_Employed'].fillna(test['Self_Employed'].mode()[0], inplace=True) \n",
    "test['Credit_History'].fillna(test['Credit_History'].mode()[0], inplace=True)\n",
    "\n"
   ]
  },
  {
   "cell_type": "code",
   "execution_count": 27,
   "metadata": {
    "ExecuteTime": {
     "end_time": "2020-11-03T10:56:43.306280Z",
     "start_time": "2020-11-03T10:56:43.293283Z"
    }
   },
   "outputs": [
    {
     "data": {
      "text/plain": [
       "360.000    493\n",
       "180.000     42\n",
       "480.000     15\n",
       "300.000     13\n",
       "84.000       4\n",
       "240.000      3\n",
       "120.000      3\n",
       "36.000       2\n",
       "60.000       2\n",
       "12.000       1\n",
       "Name: Loan_Amount_Term, dtype: int64"
      ]
     },
     "execution_count": 27,
     "metadata": {},
     "output_type": "execute_result"
    }
   ],
   "source": [
    "train['Loan_Amount_Term'].value_counts()"
   ]
  },
  {
   "cell_type": "code",
   "execution_count": 28,
   "metadata": {
    "ExecuteTime": {
     "end_time": "2020-11-03T10:56:43.323199Z",
     "start_time": "2020-11-03T10:56:43.310283Z"
    }
   },
   "outputs": [],
   "source": [
    "train['Loan_Amount_Term'].fillna(train['Loan_Amount_Term'].mode()[0], inplace=True)\n",
    "test['Loan_Amount_Term'].fillna(test['Loan_Amount_Term'].mode()[0], inplace=True)\n",
    "test['LoanAmount'].fillna(test['LoanAmount'].median(), inplace=True)"
   ]
  },
  {
   "cell_type": "code",
   "execution_count": 29,
   "metadata": {
    "ExecuteTime": {
     "end_time": "2020-11-03T10:56:43.348137Z",
     "start_time": "2020-11-03T10:56:43.328225Z"
    }
   },
   "outputs": [
    {
     "data": {
      "text/plain": [
       "(Loan_ID              0\n",
       " Gender               0\n",
       " Married              0\n",
       " Dependents           0\n",
       " Education            0\n",
       " Self_Employed        0\n",
       " ApplicantIncome      0\n",
       " CoapplicantIncome    0\n",
       " LoanAmount           0\n",
       " Loan_Amount_Term     0\n",
       " Credit_History       0\n",
       " Property_Area        0\n",
       " Loan_Status          0\n",
       " dtype: int64,\n",
       " Loan_ID              0\n",
       " Gender               0\n",
       " Married              0\n",
       " Dependents           0\n",
       " Education            0\n",
       " Self_Employed        0\n",
       " ApplicantIncome      0\n",
       " CoapplicantIncome    0\n",
       " LoanAmount           0\n",
       " Loan_Amount_Term     0\n",
       " Credit_History       0\n",
       " Property_Area        0\n",
       " dtype: int64)"
      ]
     },
     "execution_count": 29,
     "metadata": {},
     "output_type": "execute_result"
    }
   ],
   "source": [
    "train.isnull().sum(), test.isna().sum()"
   ]
  },
  {
   "cell_type": "code",
   "execution_count": 30,
   "metadata": {
    "ExecuteTime": {
     "end_time": "2020-11-03T10:56:43.365088Z",
     "start_time": "2020-11-03T10:56:43.353121Z"
    }
   },
   "outputs": [],
   "source": [
    "train=train.drop('Loan_ID',axis=1) \n",
    "test=test.drop('Loan_ID',axis=1)"
   ]
  },
  {
   "cell_type": "code",
   "execution_count": 31,
   "metadata": {
    "ExecuteTime": {
     "end_time": "2020-11-03T10:56:43.378120Z",
     "start_time": "2020-11-03T10:56:43.370484Z"
    }
   },
   "outputs": [],
   "source": [
    "y = train.Loan_Status\n",
    "x = train.drop('Loan_Status',axis=1) "
   ]
  },
  {
   "cell_type": "code",
   "execution_count": 32,
   "metadata": {
    "ExecuteTime": {
     "end_time": "2020-11-03T10:56:43.447502Z",
     "start_time": "2020-11-03T10:56:43.383039Z"
    }
   },
   "outputs": [],
   "source": [
    "x=pd.get_dummies(x) \n",
    "test=pd.get_dummies(test)"
   ]
  },
  {
   "cell_type": "code",
   "execution_count": 33,
   "metadata": {
    "ExecuteTime": {
     "end_time": "2020-11-03T10:56:43.460537Z",
     "start_time": "2020-11-03T10:56:43.450492Z"
    }
   },
   "outputs": [
    {
     "data": {
      "text/plain": [
       "((592, 20), (367, 20))"
      ]
     },
     "execution_count": 33,
     "metadata": {},
     "output_type": "execute_result"
    }
   ],
   "source": [
    "x.shape,test.shape"
   ]
  },
  {
   "cell_type": "code",
   "execution_count": null,
   "metadata": {},
   "outputs": [],
   "source": []
  },
  {
   "cell_type": "code",
   "execution_count": 34,
   "metadata": {
    "ExecuteTime": {
     "end_time": "2020-11-03T10:56:43.476590Z",
     "start_time": "2020-11-03T10:56:43.465497Z"
    }
   },
   "outputs": [],
   "source": [
    "x_train, x_test, y_train, y_test = train_test_split(x,y, test_size =0.3)"
   ]
  },
  {
   "cell_type": "code",
   "execution_count": 35,
   "metadata": {
    "ExecuteTime": {
     "end_time": "2020-11-03T10:56:43.491388Z",
     "start_time": "2020-11-03T10:56:43.481412Z"
    }
   },
   "outputs": [
    {
     "data": {
      "text/plain": [
       "((414, 20), (178, 20))"
      ]
     },
     "execution_count": 35,
     "metadata": {},
     "output_type": "execute_result"
    }
   ],
   "source": [
    "x_train.shape, x_test.shape  "
   ]
  },
  {
   "cell_type": "code",
   "execution_count": 36,
   "metadata": {
    "ExecuteTime": {
     "end_time": "2020-11-03T10:56:43.574751Z",
     "start_time": "2020-11-03T10:56:43.496370Z"
    }
   },
   "outputs": [
    {
     "data": {
      "text/plain": [
       "LogisticRegression()"
      ]
     },
     "execution_count": 36,
     "metadata": {},
     "output_type": "execute_result"
    }
   ],
   "source": [
    "model = LogisticRegression() \n",
    "model.fit(x_train, y_train)"
   ]
  },
  {
   "cell_type": "code",
   "execution_count": 37,
   "metadata": {
    "ExecuteTime": {
     "end_time": "2020-11-03T10:56:43.591706Z",
     "start_time": "2020-11-03T10:56:43.579737Z"
    }
   },
   "outputs": [],
   "source": [
    "y_test_pred = model.predict(x_test)"
   ]
  },
  {
   "cell_type": "code",
   "execution_count": 38,
   "metadata": {
    "ExecuteTime": {
     "end_time": "2020-11-03T10:56:43.610655Z",
     "start_time": "2020-11-03T10:56:43.597690Z"
    }
   },
   "outputs": [
    {
     "data": {
      "text/plain": [
       "0.7584269662921348"
      ]
     },
     "execution_count": 38,
     "metadata": {},
     "output_type": "execute_result"
    }
   ],
   "source": [
    "accuracy_score(y_test,y_test_pred)"
   ]
  },
  {
   "cell_type": "code",
   "execution_count": 39,
   "metadata": {
    "ExecuteTime": {
     "end_time": "2020-11-03T10:56:43.633015Z",
     "start_time": "2020-11-03T10:56:43.616639Z"
    }
   },
   "outputs": [],
   "source": [
    "test_pred = model.predict(test)"
   ]
  },
  {
   "cell_type": "code",
   "execution_count": 40,
   "metadata": {
    "ExecuteTime": {
     "end_time": "2020-11-03T10:56:43.647934Z",
     "start_time": "2020-11-03T10:56:43.636964Z"
    }
   },
   "outputs": [
    {
     "data": {
      "text/plain": [
       "array(['Y', 'Y', 'Y', 'Y'], dtype=object)"
      ]
     },
     "execution_count": 40,
     "metadata": {},
     "output_type": "execute_result"
    }
   ],
   "source": [
    "test_pred[1:5]"
   ]
  },
  {
   "cell_type": "code",
   "execution_count": 41,
   "metadata": {
    "ExecuteTime": {
     "end_time": "2020-11-03T10:56:43.666885Z",
     "start_time": "2020-11-03T10:56:43.652924Z"
    }
   },
   "outputs": [
    {
     "data": {
      "text/plain": [
       "0      LP001015\n",
       "1      LP001022\n",
       "2      LP001031\n",
       "3      LP001035\n",
       "4      LP001051\n",
       "         ...   \n",
       "362    LP002971\n",
       "363    LP002975\n",
       "364    LP002980\n",
       "365    LP002986\n",
       "366    LP002989\n",
       "Name: Loan_ID, Length: 367, dtype: object"
      ]
     },
     "execution_count": 41,
     "metadata": {},
     "output_type": "execute_result"
    }
   ],
   "source": [
    "test_orig.Loan_ID"
   ]
  },
  {
   "cell_type": "code",
   "execution_count": 42,
   "metadata": {
    "ExecuteTime": {
     "end_time": "2020-11-03T10:56:43.699797Z",
     "start_time": "2020-11-03T10:56:43.671871Z"
    }
   },
   "outputs": [
    {
     "data": {
      "text/html": [
       "<div>\n",
       "<style scoped>\n",
       "    .dataframe tbody tr th:only-of-type {\n",
       "        vertical-align: middle;\n",
       "    }\n",
       "\n",
       "    .dataframe tbody tr th {\n",
       "        vertical-align: top;\n",
       "    }\n",
       "\n",
       "    .dataframe thead th {\n",
       "        text-align: right;\n",
       "    }\n",
       "</style>\n",
       "<table border=\"1\" class=\"dataframe\">\n",
       "  <thead>\n",
       "    <tr style=\"text-align: right;\">\n",
       "      <th></th>\n",
       "      <th>Loan_Status</th>\n",
       "    </tr>\n",
       "    <tr>\n",
       "      <th>Loan_ID</th>\n",
       "      <th></th>\n",
       "    </tr>\n",
       "  </thead>\n",
       "  <tbody>\n",
       "    <tr>\n",
       "      <td>LP001015</td>\n",
       "      <td>Y</td>\n",
       "    </tr>\n",
       "    <tr>\n",
       "      <td>LP001022</td>\n",
       "      <td>Y</td>\n",
       "    </tr>\n",
       "    <tr>\n",
       "      <td>LP001031</td>\n",
       "      <td>Y</td>\n",
       "    </tr>\n",
       "    <tr>\n",
       "      <td>LP001035</td>\n",
       "      <td>Y</td>\n",
       "    </tr>\n",
       "    <tr>\n",
       "      <td>LP001051</td>\n",
       "      <td>Y</td>\n",
       "    </tr>\n",
       "    <tr>\n",
       "      <td>...</td>\n",
       "      <td>...</td>\n",
       "    </tr>\n",
       "    <tr>\n",
       "      <td>LP002971</td>\n",
       "      <td>Y</td>\n",
       "    </tr>\n",
       "    <tr>\n",
       "      <td>LP002975</td>\n",
       "      <td>Y</td>\n",
       "    </tr>\n",
       "    <tr>\n",
       "      <td>LP002980</td>\n",
       "      <td>Y</td>\n",
       "    </tr>\n",
       "    <tr>\n",
       "      <td>LP002986</td>\n",
       "      <td>Y</td>\n",
       "    </tr>\n",
       "    <tr>\n",
       "      <td>LP002989</td>\n",
       "      <td>Y</td>\n",
       "    </tr>\n",
       "  </tbody>\n",
       "</table>\n",
       "<p>367 rows × 1 columns</p>\n",
       "</div>"
      ],
      "text/plain": [
       "         Loan_Status\n",
       "Loan_ID             \n",
       "LP001015           Y\n",
       "LP001022           Y\n",
       "LP001031           Y\n",
       "LP001035           Y\n",
       "LP001051           Y\n",
       "...              ...\n",
       "LP002971           Y\n",
       "LP002975           Y\n",
       "LP002980           Y\n",
       "LP002986           Y\n",
       "LP002989           Y\n",
       "\n",
       "[367 rows x 1 columns]"
      ]
     },
     "execution_count": 42,
     "metadata": {},
     "output_type": "execute_result"
    }
   ],
   "source": [
    "submit = pd.DataFrame()\n",
    "submit[\"Loan_ID\"] = test_orig.Loan_ID\n",
    "submit[\"Loan_Status\"] = test_pred\n",
    "submit.set_index(\"Loan_ID\")"
   ]
  },
  {
   "cell_type": "code",
   "execution_count": 43,
   "metadata": {
    "ExecuteTime": {
     "end_time": "2020-11-03T10:56:43.719744Z",
     "start_time": "2020-11-03T10:56:43.703786Z"
    }
   },
   "outputs": [],
   "source": [
    "submit.to_csv(\"c:/aa mtas/AA_ER/ml/python-code/loan prediction/result-linear.csv\")"
   ]
  },
  {
   "cell_type": "markdown",
   "metadata": {},
   "source": [
    "# cross validation for better score"
   ]
  },
  {
   "cell_type": "code",
   "execution_count": 44,
   "metadata": {
    "ExecuteTime": {
     "end_time": "2020-11-03T10:56:43.731712Z",
     "start_time": "2020-11-03T10:56:43.724832Z"
    }
   },
   "outputs": [],
   "source": [
    "from sklearn.model_selection import StratifiedKFold"
   ]
  },
  {
   "cell_type": "code",
   "execution_count": 45,
   "metadata": {
    "ExecuteTime": {
     "end_time": "2020-11-03T10:56:43.748006Z",
     "start_time": "2020-11-03T10:56:43.736035Z"
    }
   },
   "outputs": [
    {
     "data": {
      "text/plain": [
       "StratifiedKFold(n_splits=3, random_state=1, shuffle=True)"
      ]
     },
     "execution_count": 45,
     "metadata": {},
     "output_type": "execute_result"
    }
   ],
   "source": [
    "i=1 \n",
    "kf = StratifiedKFold(n_splits=3,random_state=1,shuffle=True)\n",
    "kf"
   ]
  },
  {
   "cell_type": "code",
   "execution_count": 46,
   "metadata": {
    "ExecuteTime": {
     "end_time": "2020-11-03T10:56:44.098067Z",
     "start_time": "2020-11-03T10:56:43.752990Z"
    }
   },
   "outputs": [
    {
     "name": "stdout",
     "output_type": "stream",
     "text": [
      "\n",
      "0 of kfold 3\n",
      "accuracy_score 0.7731958762886598\n",
      "\n",
      "1 of kfold 3\n",
      "accuracy_score 0.8279569892473119\n",
      "\n",
      "2 of kfold 3\n",
      "accuracy_score 0.806282722513089\n"
     ]
    }
   ],
   "source": [
    "models = pd.DataFrame()\n",
    "i=0\n",
    "for train_index,test_index in kf.split(x,y):\n",
    "        print('\\n{} of kfold {}'.format(i,kf.n_splits))\n",
    "        xtrn,xtst = x.loc[train_index],x.loc[test_index]  \n",
    "        ytrn,ytst = y[train_index],y[test_index]\n",
    "       \n",
    "        xtrn.dropna(axis =0, how=\"any\",inplace = True)\n",
    "        ytrn.dropna(axis =0, how=\"any\",inplace = True)\n",
    "        xtst.dropna(axis=0,how=\"any\",inplace  = True)\n",
    "        ytst.dropna(axis=0,how=\"any\",inplace=True)\n",
    "#        print(xtrn.isna().sum(), ytrn.isna().sum(), xtst.isna().sum(), ytst.isna().sum()) \n",
    "        model = LogisticRegression(random_state=1)  \n",
    "        model.fit(xtrn, ytrn)    \n",
    "        pred_test = model.predict(xtst)     \n",
    "        score = accuracy_score(ytst,pred_test) \n",
    "        print('accuracy_score',score)     \n",
    "        #print('score',metrics.r2_score(ytst,pred_test))     \n",
    "        i = i+1\n",
    "       \n"
   ]
  },
  {
   "cell_type": "code",
   "execution_count": 47,
   "metadata": {
    "ExecuteTime": {
     "end_time": "2020-11-03T10:56:44.118036Z",
     "start_time": "2020-11-03T10:56:44.103076Z"
    }
   },
   "outputs": [],
   "source": [
    "pred_test = model.predict(xtst)     "
   ]
  },
  {
   "cell_type": "code",
   "execution_count": 48,
   "metadata": {
    "ExecuteTime": {
     "end_time": "2020-11-03T10:56:44.153948Z",
     "start_time": "2020-11-03T10:56:44.123998Z"
    }
   },
   "outputs": [
    {
     "data": {
      "text/plain": [
       "(0.806282722513089, (191, 20), (191,))"
      ]
     },
     "execution_count": 48,
     "metadata": {},
     "output_type": "execute_result"
    }
   ],
   "source": [
    "score = accuracy_score(ytst,pred_test)    \n",
    "\n",
    "test_pred = model.predict(test)\n",
    "\n",
    "pred_ytst=model.predict(xtst)\n",
    "score, xtst.shape, ytst.shape"
   ]
  },
  {
   "cell_type": "code",
   "execution_count": 49,
   "metadata": {
    "ExecuteTime": {
     "end_time": "2020-11-03T10:56:44.174891Z",
     "start_time": "2020-11-03T10:56:44.158958Z"
    }
   },
   "outputs": [
    {
     "data": {
      "text/plain": [
       "1     0\n",
       "4     1\n",
       "5     1\n",
       "11    1\n",
       "12    1\n",
       "Name: Loan_Status, dtype: int64"
      ]
     },
     "execution_count": 49,
     "metadata": {},
     "output_type": "execute_result"
    }
   ],
   "source": [
    "ytst.replace('N',0,inplace=True)\n",
    "ytst.replace('Y',1,inplace=True)\n",
    "ytst.head()"
   ]
  },
  {
   "cell_type": "code",
   "execution_count": 50,
   "metadata": {
    "ExecuteTime": {
     "end_time": "2020-11-03T10:56:44.186859Z",
     "start_time": "2020-11-03T10:56:44.179880Z"
    }
   },
   "outputs": [],
   "source": [
    "from sklearn import metrics \n",
    "#fpr, tpr, thresholds  = metrics.roc_curve(ytst,  pred_ytst)\n",
    "#auc = metrics.roc_auc_score(ytst, pred_ytst)\n",
    "#auc,fpr, tpr,len(fpr)"
   ]
  },
  {
   "cell_type": "code",
   "execution_count": null,
   "metadata": {},
   "outputs": [],
   "source": []
  },
  {
   "cell_type": "code",
   "execution_count": 51,
   "metadata": {
    "ExecuteTime": {
     "end_time": "2020-11-03T10:56:44.215785Z",
     "start_time": "2020-11-03T10:56:44.191845Z"
    }
   },
   "outputs": [],
   "source": [
    "submit[\"Loan_ID\"] = test_orig.Loan_ID\n",
    "submit[\"Loan_Status\"] = test_pred\n",
    "submit.set_index(\"Loan_ID\")\n",
    "submit.to_csv(\"c:/aa mtas/AA_ER/ml/python-code/loan prediction/result-kfold.csv\")"
   ]
  },
  {
   "cell_type": "code",
   "execution_count": 52,
   "metadata": {
    "ExecuteTime": {
     "end_time": "2020-11-03T10:56:45.023365Z",
     "start_time": "2020-11-03T10:56:44.220800Z"
    }
   },
   "outputs": [
    {
     "name": "stdout",
     "output_type": "stream",
     "text": [
      "LR [0.82608696 0.79710145 0.82608696]\n",
      "LR: 0.816425 (0.013664)\n",
      "LDA [0.8115942  0.78985507 0.81884058]\n",
      "LDA: 0.806763 (0.012316)\n",
      "KNN [0.58695652 0.63043478 0.63043478]\n",
      "KNN: 0.615942 (0.020496)\n",
      "CART [0.67391304 0.65942029 0.65942029]\n",
      "CART: 0.664251 (0.006832)\n",
      "NB [0.8115942  0.7826087  0.79710145]\n",
      "NB: 0.797101 (0.011833)\n",
      "SVM [0.68115942 0.68115942 0.68115942]\n",
      "SVM: 0.681159 (0.000000)\n"
     ]
    }
   ],
   "source": [
    "models = []\n",
    "models.append(('LR', LogisticRegression()))\n",
    "models.append(('LDA', LinearDiscriminantAnalysis()))\n",
    "models.append(('KNN', KNeighborsClassifier()))\n",
    "models.append(('CART', DecisionTreeClassifier()))\n",
    "models.append(('NB', GaussianNB()))\n",
    "models.append(('SVM', SVC()))\n",
    "# evaluate each model in turn\n",
    "results = []\n",
    "names = []\n",
    "for name, model in models:\n",
    "    kfold = KFold(n_splits=10, random_state=1)\n",
    "    cv_results = cross_val_score(model, x_train, y_train, cv=kf, scoring='accuracy')\n",
    "    print(name,cv_results)\n",
    "    results.append(cv_results)\n",
    "    names.append(name)\n",
    "    msg = \"%s: %f (%f)\" % (name, cv_results.mean(), cv_results.std())\n",
    "    print(msg)"
   ]
  },
  {
   "cell_type": "code",
   "execution_count": 53,
   "metadata": {
    "ExecuteTime": {
     "end_time": "2020-11-03T10:56:45.403049Z",
     "start_time": "2020-11-03T10:56:45.027289Z"
    }
   },
   "outputs": [
    {
     "name": "stdout",
     "output_type": "stream",
     "text": [
      "LR: 0.786517 \n",
      "LDA: 0.825843 \n",
      "KNN: 0.696629 \n",
      "CART: 0.679775 \n",
      "NB: 0.679775 \n",
      "SVM: 0.724719 \n"
     ]
    }
   ],
   "source": [
    "accu = [] \n",
    "for name, model in models:\n",
    "    pred =  cross_val_predict(model, x_test, y_test, cv=2)\n",
    "    score = accuracy_score(y_test,pred)\n",
    "    accu.append(score)\n",
    "    names.append(name)\n",
    "    msg = \"%s: %f \" % (name, score)\n",
    "    print(msg)"
   ]
  },
  {
   "cell_type": "code",
   "execution_count": 54,
   "metadata": {
    "ExecuteTime": {
     "end_time": "2020-11-03T10:56:45.885414Z",
     "start_time": "2020-11-03T10:56:45.407002Z"
    }
   },
   "outputs": [
    {
     "data": {
      "text/plain": [
       "array([0.74698795, 0.81927711, 0.79518072, 0.77108434, 0.79268293])"
      ]
     },
     "execution_count": 54,
     "metadata": {},
     "output_type": "execute_result"
    }
   ],
   "source": [
    "#fold = StratifiedKFold(n_splits=2,random_state=1,shuffle=True)\n",
    "model = LogisticRegression ()\n",
    "model.fit(x_train,y_train)\n",
    "cross_val_score(model, x_train, y_train, cv=5, scoring='accuracy')\n",
    "    "
   ]
  },
  {
   "cell_type": "code",
   "execution_count": 55,
   "metadata": {
    "ExecuteTime": {
     "end_time": "2020-11-03T10:56:46.094952Z",
     "start_time": "2020-11-03T10:56:45.890372Z"
    }
   },
   "outputs": [],
   "source": [
    "y_test_pred= cross_val_predict(model, x_test, y_test, cv=3)"
   ]
  },
  {
   "cell_type": "code",
   "execution_count": 56,
   "metadata": {
    "ExecuteTime": {
     "end_time": "2020-11-03T10:56:46.108842Z",
     "start_time": "2020-11-03T10:56:46.098279Z"
    }
   },
   "outputs": [
    {
     "data": {
      "text/plain": [
       "0.7808988764044944"
      ]
     },
     "execution_count": 56,
     "metadata": {},
     "output_type": "execute_result"
    }
   ],
   "source": [
    "metrics.accuracy_score (y_test, y_test_pred)"
   ]
  },
  {
   "cell_type": "code",
   "execution_count": 57,
   "metadata": {
    "ExecuteTime": {
     "end_time": "2020-11-03T10:56:46.127387Z",
     "start_time": "2020-11-03T10:56:46.113456Z"
    }
   },
   "outputs": [
    {
     "data": {
      "text/plain": [
       "array(['N', 'Y', 'Y', 'Y', 'Y', 'Y', 'Y', 'Y', 'N', 'Y', 'Y', 'Y', 'Y',\n",
       "       'Y', 'N', 'Y', 'Y', 'Y', 'Y', 'Y', 'Y', 'Y', 'Y', 'Y', 'Y', 'Y',\n",
       "       'Y', 'Y', 'Y', 'Y', 'Y', 'N', 'Y', 'Y', 'Y', 'Y', 'Y', 'Y', 'Y',\n",
       "       'N', 'Y', 'Y', 'Y', 'Y', 'Y', 'Y', 'Y', 'Y', 'Y', 'Y', 'Y', 'N',\n",
       "       'N', 'Y', 'Y', 'Y', 'N', 'Y', 'Y', 'Y', 'Y', 'N', 'Y', 'Y', 'Y',\n",
       "       'Y', 'Y', 'Y', 'Y', 'N', 'Y', 'N', 'Y', 'Y', 'Y', 'Y', 'Y', 'N',\n",
       "       'N', 'N', 'Y', 'Y', 'Y', 'Y', 'Y', 'N', 'Y', 'Y', 'Y', 'Y', 'Y',\n",
       "       'Y', 'Y', 'Y', 'Y', 'Y', 'Y', 'Y', 'Y', 'Y', 'Y', 'N', 'Y', 'Y',\n",
       "       'Y', 'Y', 'Y', 'Y', 'Y', 'Y', 'N', 'Y', 'Y', 'N', 'Y', 'Y', 'N',\n",
       "       'Y', 'N', 'Y', 'Y', 'Y', 'Y', 'Y', 'Y', 'Y', 'Y', 'Y', 'Y', 'Y',\n",
       "       'Y', 'Y', 'Y', 'Y', 'Y', 'Y', 'Y', 'Y', 'Y', 'Y', 'Y', 'Y', 'Y',\n",
       "       'Y', 'Y', 'N', 'Y', 'Y', 'Y', 'Y', 'Y', 'Y', 'Y', 'Y', 'Y', 'Y',\n",
       "       'Y', 'Y', 'Y', 'Y', 'Y', 'Y', 'Y', 'Y', 'Y', 'N', 'Y', 'Y', 'Y',\n",
       "       'N', 'N', 'N', 'Y', 'Y', 'Y', 'Y', 'Y', 'N'], dtype=object)"
      ]
     },
     "execution_count": 57,
     "metadata": {},
     "output_type": "execute_result"
    }
   ],
   "source": [
    "y_test_pred"
   ]
  },
  {
   "cell_type": "code",
   "execution_count": 63,
   "metadata": {
    "ExecuteTime": {
     "end_time": "2020-11-03T11:00:16.745577Z",
     "start_time": "2020-11-03T11:00:16.738428Z"
    }
   },
   "outputs": [],
   "source": [
    "y_test_pred_bin=np.where(y_test_pred==\"N\", 0, 1) \n"
   ]
  },
  {
   "cell_type": "code",
   "execution_count": 67,
   "metadata": {
    "ExecuteTime": {
     "end_time": "2020-11-03T11:01:01.798038Z",
     "start_time": "2020-11-03T11:01:01.791050Z"
    }
   },
   "outputs": [],
   "source": [
    "y_test_bin=np.where(y_test==\"N\", 0, 1) \n"
   ]
  },
  {
   "cell_type": "code",
   "execution_count": 69,
   "metadata": {
    "ExecuteTime": {
     "end_time": "2020-11-03T11:01:22.463059Z",
     "start_time": "2020-11-03T11:01:22.455073Z"
    }
   },
   "outputs": [
    {
     "data": {
      "text/plain": [
       "-0.09824394874228748"
      ]
     },
     "execution_count": 69,
     "metadata": {},
     "output_type": "execute_result"
    }
   ],
   "source": [
    "metrics.r2_score(y_test_bin, y_test_pred_bin)"
   ]
  },
  {
   "cell_type": "code",
   "execution_count": 70,
   "metadata": {
    "ExecuteTime": {
     "end_time": "2020-11-03T11:01:23.156865Z",
     "start_time": "2020-11-03T11:01:23.137235Z"
    }
   },
   "outputs": [
    {
     "data": {
      "text/html": [
       "<div>\n",
       "<style scoped>\n",
       "    .dataframe tbody tr th:only-of-type {\n",
       "        vertical-align: middle;\n",
       "    }\n",
       "\n",
       "    .dataframe tbody tr th {\n",
       "        vertical-align: top;\n",
       "    }\n",
       "\n",
       "    .dataframe thead th {\n",
       "        text-align: right;\n",
       "    }\n",
       "</style>\n",
       "<table border=\"1\" class=\"dataframe\">\n",
       "  <thead>\n",
       "    <tr style=\"text-align: right;\">\n",
       "      <th></th>\n",
       "      <th>Loan_ID</th>\n",
       "      <th>Loan_Status</th>\n",
       "    </tr>\n",
       "  </thead>\n",
       "  <tbody>\n",
       "    <tr>\n",
       "      <td>0</td>\n",
       "      <td>LP001015</td>\n",
       "      <td>Y</td>\n",
       "    </tr>\n",
       "    <tr>\n",
       "      <td>1</td>\n",
       "      <td>LP001022</td>\n",
       "      <td>Y</td>\n",
       "    </tr>\n",
       "    <tr>\n",
       "      <td>2</td>\n",
       "      <td>LP001031</td>\n",
       "      <td>Y</td>\n",
       "    </tr>\n",
       "    <tr>\n",
       "      <td>3</td>\n",
       "      <td>LP001035</td>\n",
       "      <td>Y</td>\n",
       "    </tr>\n",
       "    <tr>\n",
       "      <td>4</td>\n",
       "      <td>LP001051</td>\n",
       "      <td>Y</td>\n",
       "    </tr>\n",
       "  </tbody>\n",
       "</table>\n",
       "</div>"
      ],
      "text/plain": [
       "    Loan_ID Loan_Status\n",
       "0  LP001015           Y\n",
       "1  LP001022           Y\n",
       "2  LP001031           Y\n",
       "3  LP001035           Y\n",
       "4  LP001051           Y"
      ]
     },
     "execution_count": 70,
     "metadata": {},
     "output_type": "execute_result"
    }
   ],
   "source": [
    "test_pred = model.predict(test)\n",
    "submit[\"Loan_ID\"] = test_orig.Loan_ID\n",
    "submit[\"Loan_Status\"] = test_pred\n",
    "#submit.set_index(\"Loan_ID\")\n",
    "submit.head()"
   ]
  },
  {
   "cell_type": "code",
   "execution_count": 71,
   "metadata": {
    "ExecuteTime": {
     "end_time": "2020-11-03T11:01:24.652831Z",
     "start_time": "2020-11-03T11:01:24.638169Z"
    }
   },
   "outputs": [
    {
     "data": {
      "text/html": [
       "<div>\n",
       "<style scoped>\n",
       "    .dataframe tbody tr th:only-of-type {\n",
       "        vertical-align: middle;\n",
       "    }\n",
       "\n",
       "    .dataframe tbody tr th {\n",
       "        vertical-align: top;\n",
       "    }\n",
       "\n",
       "    .dataframe thead th {\n",
       "        text-align: right;\n",
       "    }\n",
       "</style>\n",
       "<table border=\"1\" class=\"dataframe\">\n",
       "  <thead>\n",
       "    <tr style=\"text-align: right;\">\n",
       "      <th></th>\n",
       "      <th>Loan_Status</th>\n",
       "    </tr>\n",
       "    <tr>\n",
       "      <th>Loan_ID</th>\n",
       "      <th></th>\n",
       "    </tr>\n",
       "  </thead>\n",
       "  <tbody>\n",
       "    <tr>\n",
       "      <td>LP001015</td>\n",
       "      <td>Y</td>\n",
       "    </tr>\n",
       "    <tr>\n",
       "      <td>LP001022</td>\n",
       "      <td>Y</td>\n",
       "    </tr>\n",
       "    <tr>\n",
       "      <td>LP001031</td>\n",
       "      <td>Y</td>\n",
       "    </tr>\n",
       "    <tr>\n",
       "      <td>LP001035</td>\n",
       "      <td>Y</td>\n",
       "    </tr>\n",
       "    <tr>\n",
       "      <td>LP001051</td>\n",
       "      <td>Y</td>\n",
       "    </tr>\n",
       "  </tbody>\n",
       "</table>\n",
       "</div>"
      ],
      "text/plain": [
       "         Loan_Status\n",
       "Loan_ID             \n",
       "LP001015           Y\n",
       "LP001022           Y\n",
       "LP001031           Y\n",
       "LP001035           Y\n",
       "LP001051           Y"
      ]
     },
     "execution_count": 71,
     "metadata": {},
     "output_type": "execute_result"
    }
   ],
   "source": [
    "submit.set_index(\"Loan_ID\",inplace=True)\n",
    "submit.head()"
   ]
  },
  {
   "cell_type": "code",
   "execution_count": 72,
   "metadata": {
    "ExecuteTime": {
     "end_time": "2020-11-03T11:01:25.669734Z",
     "start_time": "2020-11-03T11:01:25.653037Z"
    }
   },
   "outputs": [],
   "source": [
    "submit.to_csv(\"c:/aa mtas/AA_ER/ml/python-code/loan prediction/result-crossval.csv\")"
   ]
  },
  {
   "cell_type": "code",
   "execution_count": 73,
   "metadata": {
    "ExecuteTime": {
     "end_time": "2020-11-03T11:01:26.446025Z",
     "start_time": "2020-11-03T11:01:26.433049Z"
    }
   },
   "outputs": [
    {
     "data": {
      "text/html": [
       "<div>\n",
       "<style scoped>\n",
       "    .dataframe tbody tr th:only-of-type {\n",
       "        vertical-align: middle;\n",
       "    }\n",
       "\n",
       "    .dataframe tbody tr th {\n",
       "        vertical-align: top;\n",
       "    }\n",
       "\n",
       "    .dataframe thead th {\n",
       "        text-align: right;\n",
       "    }\n",
       "</style>\n",
       "<table border=\"1\" class=\"dataframe\">\n",
       "  <thead>\n",
       "    <tr style=\"text-align: right;\">\n",
       "      <th></th>\n",
       "      <th>Loan_Status</th>\n",
       "    </tr>\n",
       "    <tr>\n",
       "      <th>Loan_ID</th>\n",
       "      <th></th>\n",
       "    </tr>\n",
       "  </thead>\n",
       "  <tbody>\n",
       "    <tr>\n",
       "      <td>LP001015</td>\n",
       "      <td>Y</td>\n",
       "    </tr>\n",
       "    <tr>\n",
       "      <td>LP001022</td>\n",
       "      <td>Y</td>\n",
       "    </tr>\n",
       "    <tr>\n",
       "      <td>LP001031</td>\n",
       "      <td>Y</td>\n",
       "    </tr>\n",
       "    <tr>\n",
       "      <td>LP001035</td>\n",
       "      <td>Y</td>\n",
       "    </tr>\n",
       "    <tr>\n",
       "      <td>LP001051</td>\n",
       "      <td>Y</td>\n",
       "    </tr>\n",
       "  </tbody>\n",
       "</table>\n",
       "</div>"
      ],
      "text/plain": [
       "         Loan_Status\n",
       "Loan_ID             \n",
       "LP001015           Y\n",
       "LP001022           Y\n",
       "LP001031           Y\n",
       "LP001035           Y\n",
       "LP001051           Y"
      ]
     },
     "execution_count": 73,
     "metadata": {},
     "output_type": "execute_result"
    }
   ],
   "source": [
    "submit.head()"
   ]
  },
  {
   "cell_type": "code",
   "execution_count": 74,
   "metadata": {
    "ExecuteTime": {
     "end_time": "2020-11-03T11:01:27.337100Z",
     "start_time": "2020-11-03T11:01:27.326087Z"
    }
   },
   "outputs": [],
   "source": [
    "x['Total_Income']=x['ApplicantIncome']+x['CoapplicantIncome'] \n",
    "test['Total_Income']=test['ApplicantIncome']+test['CoapplicantIncome']"
   ]
  },
  {
   "cell_type": "code",
   "execution_count": 75,
   "metadata": {
    "ExecuteTime": {
     "end_time": "2020-11-03T11:01:29.186611Z",
     "start_time": "2020-11-03T11:01:28.728121Z"
    }
   },
   "outputs": [
    {
     "data": {
      "image/png": "[encoded data removed]",
      "text/plain": [
       "<Figure size 432x288 with 1 Axes>"
      ]
     },
     "metadata": {
      "needs_background": "light"
     },
     "output_type": "display_data"
    }
   ],
   "source": [
    "sns.distplot(x['Total_Income']);"
   ]
  },
  {
   "cell_type": "code",
   "execution_count": 76,
   "metadata": {
    "ExecuteTime": {
     "end_time": "2020-11-03T11:01:29.206083Z",
     "start_time": "2020-11-03T11:01:29.191490Z"
    }
   },
   "outputs": [],
   "source": [
    "x['Total_Income_log'] = np.log(x['Total_Income']) "
   ]
  },
  {
   "cell_type": "code",
   "execution_count": 77,
   "metadata": {
    "ExecuteTime": {
     "end_time": "2020-11-03T11:01:29.503825Z",
     "start_time": "2020-11-03T11:01:29.218062Z"
    }
   },
   "outputs": [
    {
     "data": {
      "text/plain": [
       "<AxesSubplot:xlabel='Total_Income_log'>"
      ]
     },
     "execution_count": 77,
     "metadata": {},
     "output_type": "execute_result"
    },
    {
     "data": {
      "image/png": "[encoded data removed]",
      "text/plain": [
       "<Figure size 432x288 with 1 Axes>"
      ]
     },
     "metadata": {
      "needs_background": "light"
     },
     "output_type": "display_data"
    }
   ],
   "source": [
    "sns.distplot(x['Total_Income_log'])"
   ]
  },
  {
   "cell_type": "code",
   "execution_count": 78,
   "metadata": {
    "ExecuteTime": {
     "end_time": "2020-11-03T11:01:29.516845Z",
     "start_time": "2020-11-03T11:01:29.506820Z"
    }
   },
   "outputs": [],
   "source": [
    "test['Total_Income_log'] = np.log(test['Total_Income'])"
   ]
  },
  {
   "cell_type": "code",
   "execution_count": 79,
   "metadata": {
    "ExecuteTime": {
     "end_time": "2020-11-03T11:01:30.576823Z",
     "start_time": "2020-11-03T11:01:30.246430Z"
    }
   },
   "outputs": [
    {
     "data": {
      "text/plain": [
       "<AxesSubplot:xlabel='Total_Income_log'>"
      ]
     },
     "execution_count": 79,
     "metadata": {},
     "output_type": "execute_result"
    },
    {
     "data": {
      "image/png": "[encoded data removed]",
      "text/plain": [
       "<Figure size 432x288 with 1 Axes>"
      ]
     },
     "metadata": {
      "needs_background": "light"
     },
     "output_type": "display_data"
    }
   ],
   "source": [
    "sns.distplot(test['Total_Income_log'] )"
   ]
  },
  {
   "cell_type": "code",
   "execution_count": 80,
   "metadata": {
    "ExecuteTime": {
     "end_time": "2020-11-03T11:01:31.626736Z",
     "start_time": "2020-11-03T11:01:31.618201Z"
    }
   },
   "outputs": [],
   "source": [
    "x['EMI']=x['LoanAmount']/x['Loan_Amount_Term']\n",
    "test['EMI']=test['LoanAmount']/test['Loan_Amount_Term']"
   ]
  },
  {
   "cell_type": "code",
   "execution_count": 81,
   "metadata": {
    "ExecuteTime": {
     "end_time": "2020-11-03T11:01:32.662150Z",
     "start_time": "2020-11-03T11:01:32.653668Z"
    }
   },
   "outputs": [
    {
     "data": {
      "text/plain": [
       "Index(['ApplicantIncome', 'CoapplicantIncome', 'LoanAmount',\n",
       "       'Loan_Amount_Term', 'Credit_History', 'Gender_Female', 'Gender_Male',\n",
       "       'Married_No', 'Married_Yes', 'Dependents_0', 'Dependents_1',\n",
       "       'Dependents_2', 'Dependents_3+', 'Education_Graduate',\n",
       "       'Education_Not Graduate', 'Self_Employed_No', 'Self_Employed_Yes',\n",
       "       'Property_Area_Rural', 'Property_Area_Semiurban', 'Property_Area_Urban',\n",
       "       'Total_Income', 'Total_Income_log', 'EMI'],\n",
       "      dtype='object')"
      ]
     },
     "execution_count": 81,
     "metadata": {},
     "output_type": "execute_result"
    }
   ],
   "source": [
    "x.columns"
   ]
  },
  {
   "cell_type": "code",
   "execution_count": 82,
   "metadata": {
    "ExecuteTime": {
     "end_time": "2020-11-03T11:01:33.419059Z",
     "start_time": "2020-11-03T11:01:32.989489Z"
    }
   },
   "outputs": [
    {
     "data": {
      "image/png": "[encoded data removed]",
      "text/plain": [
       "<Figure size 432x288 with 1 Axes>"
      ]
     },
     "metadata": {
      "needs_background": "light"
     },
     "output_type": "display_data"
    }
   ],
   "source": [
    "x['Balance Income']=x['Total_Income']-(x['EMI']*1000)\n",
    "test['Balance Income']=test['Total_Income']-(test['EMI']*1000)\n",
    "sns.distplot(x['Balance Income']);"
   ]
  },
  {
   "cell_type": "code",
   "execution_count": 83,
   "metadata": {
    "ExecuteTime": {
     "end_time": "2020-11-03T11:01:33.435359Z",
     "start_time": "2020-11-03T11:01:33.423002Z"
    }
   },
   "outputs": [],
   "source": [
    "x=x.drop(['ApplicantIncome', 'CoapplicantIncome', 'LoanAmount', 'Loan_Amount_Term'], axis=1) \n",
    "test=test.drop(['ApplicantIncome', 'CoapplicantIncome', 'LoanAmount', 'Loan_Amount_Term'], axis=1)"
   ]
  },
  {
   "cell_type": "code",
   "execution_count": 84,
   "metadata": {
    "ExecuteTime": {
     "end_time": "2020-11-03T11:01:33.573418Z",
     "start_time": "2020-11-03T11:01:33.560460Z"
    }
   },
   "outputs": [
    {
     "data": {
      "text/plain": [
       "(414, 20)"
      ]
     },
     "execution_count": 84,
     "metadata": {},
     "output_type": "execute_result"
    }
   ],
   "source": [
    "x_train, x_test, y_train, y_test = train_test_split(x,y, test_size =0.3)\n",
    "x_train.shape"
   ]
  },
  {
   "cell_type": "code",
   "execution_count": 85,
   "metadata": {
    "ExecuteTime": {
     "end_time": "2020-11-03T11:01:35.505872Z",
     "start_time": "2020-11-03T11:01:33.812535Z"
    }
   },
   "outputs": [
    {
     "data": {
      "text/plain": [
       "RandomForestClassifier(max_depth=5, n_estimators=500)"
      ]
     },
     "execution_count": 85,
     "metadata": {},
     "output_type": "execute_result"
    }
   ],
   "source": [
    "# model = LogisticRegression ()\n",
    "#model = DecisionTreeClassifier(random_state=1) \n",
    "model = RandomForestClassifier(n_estimators=500, max_depth=5)\n",
    "#model = XGBClassifier(n_estimators=50, max_depth=3)     \n",
    "\n",
    "model.fit(x_train,y_train)"
   ]
  },
  {
   "cell_type": "code",
   "execution_count": 86,
   "metadata": {
    "ExecuteTime": {
     "end_time": "2020-11-03T11:01:40.350306Z",
     "start_time": "2020-11-03T11:01:35.509872Z"
    }
   },
   "outputs": [
    {
     "data": {
      "text/plain": [
       "array([0.81884058, 0.82608696, 0.79710145])"
      ]
     },
     "execution_count": 86,
     "metadata": {},
     "output_type": "execute_result"
    }
   ],
   "source": [
    "kf = StratifiedKFold(n_splits=3,random_state=1,shuffle=True)\n",
    "cross_val_score(model, x_train, y_train,cv=kf,  scoring='accuracy')\n",
    "    "
   ]
  },
  {
   "cell_type": "code",
   "execution_count": 87,
   "metadata": {
    "ExecuteTime": {
     "end_time": "2020-11-03T11:01:45.296008Z",
     "start_time": "2020-11-03T11:01:40.354259Z"
    }
   },
   "outputs": [
    {
     "data": {
      "text/plain": [
       "0.7865168539325843"
      ]
     },
     "execution_count": 87,
     "metadata": {},
     "output_type": "execute_result"
    }
   ],
   "source": [
    "y_test_pred= cross_val_predict(model, x_test, y_test, cv=3)\n",
    "metrics.accuracy_score (y_test, y_test_pred)"
   ]
  },
  {
   "cell_type": "code",
   "execution_count": 88,
   "metadata": {
    "ExecuteTime": {
     "end_time": "2020-11-03T11:01:45.437599Z",
     "start_time": "2020-11-03T11:01:45.300015Z"
    }
   },
   "outputs": [],
   "source": [
    "test_pred = model.predict(test)"
   ]
  },
  {
   "cell_type": "code",
   "execution_count": 89,
   "metadata": {
    "ExecuteTime": {
     "end_time": "2020-11-03T11:01:45.462031Z",
     "start_time": "2020-11-03T11:01:45.442631Z"
    }
   },
   "outputs": [
    {
     "data": {
      "text/html": [
       "<div>\n",
       "<style scoped>\n",
       "    .dataframe tbody tr th:only-of-type {\n",
       "        vertical-align: middle;\n",
       "    }\n",
       "\n",
       "    .dataframe tbody tr th {\n",
       "        vertical-align: top;\n",
       "    }\n",
       "\n",
       "    .dataframe thead th {\n",
       "        text-align: right;\n",
       "    }\n",
       "</style>\n",
       "<table border=\"1\" class=\"dataframe\">\n",
       "  <thead>\n",
       "    <tr style=\"text-align: right;\">\n",
       "      <th></th>\n",
       "      <th>Loan_Status</th>\n",
       "    </tr>\n",
       "    <tr>\n",
       "      <th>Loan_ID</th>\n",
       "      <th></th>\n",
       "    </tr>\n",
       "  </thead>\n",
       "  <tbody>\n",
       "    <tr>\n",
       "      <td>LP001015</td>\n",
       "      <td>Y</td>\n",
       "    </tr>\n",
       "    <tr>\n",
       "      <td>LP001022</td>\n",
       "      <td>Y</td>\n",
       "    </tr>\n",
       "    <tr>\n",
       "      <td>LP001031</td>\n",
       "      <td>Y</td>\n",
       "    </tr>\n",
       "    <tr>\n",
       "      <td>LP001035</td>\n",
       "      <td>Y</td>\n",
       "    </tr>\n",
       "    <tr>\n",
       "      <td>LP001051</td>\n",
       "      <td>Y</td>\n",
       "    </tr>\n",
       "  </tbody>\n",
       "</table>\n",
       "</div>"
      ],
      "text/plain": [
       "         Loan_Status\n",
       "Loan_ID             \n",
       "LP001015           Y\n",
       "LP001022           Y\n",
       "LP001031           Y\n",
       "LP001035           Y\n",
       "LP001051           Y"
      ]
     },
     "execution_count": 89,
     "metadata": {},
     "output_type": "execute_result"
    }
   ],
   "source": [
    "#test_pred = model.predict(test)\n",
    "submit = pd.DataFrame()\n",
    "submit[\"Loan_ID\"] = test_orig.Loan_ID\n",
    "submit[\"Loan_Status\"] = test_pred\n",
    "submit.set_index(\"Loan_ID\",inplace= True)\n",
    "submit.head()"
   ]
  },
  {
   "cell_type": "code",
   "execution_count": 90,
   "metadata": {
    "ExecuteTime": {
     "end_time": "2020-11-03T11:01:45.485055Z",
     "start_time": "2020-11-03T11:01:45.465994Z"
    }
   },
   "outputs": [],
   "source": [
    "submit.to_csv(\"c:/aa mtas/AA_ER/ml/python-code/loan prediction/result-randomforst.csv\")"
   ]
  },
  {
   "cell_type": "code",
   "execution_count": null,
   "metadata": {
    "ExecuteTime": {
     "end_time": "2020-11-03T10:56:46.726284Z",
     "start_time": "2020-11-03T10:56:33.527Z"
    }
   },
   "outputs": [],
   "source": [
    "# running Random forest and tree "
   ]
  },
  {
   "cell_type": "code",
   "execution_count": null,
   "metadata": {
    "ExecuteTime": {
     "end_time": "2020-11-03T10:56:46.731023Z",
     "start_time": "2020-11-03T10:56:33.532Z"
    }
   },
   "outputs": [],
   "source": [
    "train = train_orig.copy()\n",
    "test = test_orig.copy()"
   ]
  },
  {
   "cell_type": "code",
   "execution_count": null,
   "metadata": {
    "ExecuteTime": {
     "end_time": "2020-11-03T10:56:46.733983Z",
     "start_time": "2020-11-03T10:56:33.537Z"
    }
   },
   "outputs": [],
   "source": [
    "train.isna().sum()"
   ]
  },
  {
   "cell_type": "code",
   "execution_count": null,
   "metadata": {
    "ExecuteTime": {
     "end_time": "2020-11-03T10:56:46.738974Z",
     "start_time": "2020-11-03T10:56:33.541Z"
    }
   },
   "outputs": [],
   "source": [
    "train.shape, test.shape, train.columns"
   ]
  },
  {
   "cell_type": "code",
   "execution_count": null,
   "metadata": {
    "ExecuteTime": {
     "end_time": "2020-11-03T10:56:46.743967Z",
     "start_time": "2020-11-03T10:56:33.545Z"
    }
   },
   "outputs": [],
   "source": [
    "#used from above after dummy variable created "
   ]
  },
  {
   "cell_type": "code",
   "execution_count": null,
   "metadata": {
    "ExecuteTime": {
     "end_time": "2020-11-03T10:56:46.746950Z",
     "start_time": "2020-11-03T10:56:33.549Z"
    }
   },
   "outputs": [],
   "source": [
    "train.shape, test.shape, x_train.shape , x_test.shape, y_train.shape,y_test.shape"
   ]
  },
  {
   "cell_type": "code",
   "execution_count": null,
   "metadata": {
    "ExecuteTime": {
     "end_time": "2020-11-03T10:56:46.751938Z",
     "start_time": "2020-11-03T10:56:33.553Z"
    }
   },
   "outputs": [],
   "source": [
    "x_test.info()"
   ]
  },
  {
   "cell_type": "code",
   "execution_count": null,
   "metadata": {
    "ExecuteTime": {
     "end_time": "2020-11-03T10:56:46.754962Z",
     "start_time": "2020-11-03T10:56:33.557Z"
    }
   },
   "outputs": [],
   "source": [
    "x_test.head()"
   ]
  },
  {
   "cell_type": "code",
   "execution_count": null,
   "metadata": {
    "ExecuteTime": {
     "end_time": "2020-11-03T10:56:46.757953Z",
     "start_time": "2020-11-03T10:56:33.561Z"
    }
   },
   "outputs": [],
   "source": [
    "model_rfr = RandomForestClassifier(n_estimators = 400,random_state=123,max_features=\"sqrt\",max_depth=50,min_samples_leaf=5, oob_score = True)\n"
   ]
  },
  {
   "cell_type": "code",
   "execution_count": null,
   "metadata": {
    "ExecuteTime": {
     "end_time": "2020-11-03T10:56:46.760944Z",
     "start_time": "2020-11-03T10:56:33.565Z"
    }
   },
   "outputs": [],
   "source": [
    "model_rfr.fit(x_train,y_train)"
   ]
  },
  {
   "cell_type": "code",
   "execution_count": null,
   "metadata": {
    "ExecuteTime": {
     "end_time": "2020-11-03T10:56:46.763980Z",
     "start_time": "2020-11-03T10:56:33.570Z"
    }
   },
   "outputs": [],
   "source": [
    "y_test_pred = model_rfr.predict(x_test)"
   ]
  },
  {
   "cell_type": "code",
   "execution_count": null,
   "metadata": {
    "ExecuteTime": {
     "end_time": "2020-11-03T10:56:46.767938Z",
     "start_time": "2020-11-03T10:56:33.574Z"
    }
   },
   "outputs": [],
   "source": [
    "accuracy_score (y_test, y_test_pred)"
   ]
  },
  {
   "cell_type": "code",
   "execution_count": null,
   "metadata": {
    "ExecuteTime": {
     "end_time": "2020-11-03T10:56:46.770926Z",
     "start_time": "2020-11-03T10:56:33.578Z"
    }
   },
   "outputs": [],
   "source": [
    "test_pred = model_rfr.predict(test)"
   ]
  },
  {
   "cell_type": "code",
   "execution_count": null,
   "metadata": {
    "ExecuteTime": {
     "end_time": "2020-11-03T10:56:46.773918Z",
     "start_time": "2020-11-03T10:56:33.582Z"
    }
   },
   "outputs": [],
   "source": [
    "len(x_test.columns), len(test.columns)"
   ]
  },
  {
   "cell_type": "code",
   "execution_count": null,
   "metadata": {
    "ExecuteTime": {
     "end_time": "2020-11-03T10:56:46.775900Z",
     "start_time": "2020-11-03T10:56:33.588Z"
    }
   },
   "outputs": [],
   "source": [
    "submit = pd.DataFrame()\n",
    "submit[\"Loan_ID\"] = test_orig.Loan_ID\n",
    "submit[\"Loan_Status\"] = test_pred\n",
    "submit.set_index(\"Loan_ID\",inplace= True)\n",
    "submit.head()"
   ]
  },
  {
   "cell_type": "code",
   "execution_count": null,
   "metadata": {
    "ExecuteTime": {
     "end_time": "2020-11-03T10:56:46.778893Z",
     "start_time": "2020-11-03T10:56:33.593Z"
    }
   },
   "outputs": [],
   "source": [
    "submit.to_csv(\"c:/aa mtas/AA_ER/ml/python-code/loan prediction/result-rfr1.csv\")"
   ]
  },
  {
   "cell_type": "code",
   "execution_count": null,
   "metadata": {
    "ExecuteTime": {
     "end_time": "2020-11-03T10:56:46.781856Z",
     "start_time": "2020-11-03T10:56:33.599Z"
    }
   },
   "outputs": [],
   "source": [
    "test.head()"
   ]
  },
  {
   "cell_type": "markdown",
   "metadata": {},
   "source": [
    "# Random forest "
   ]
  },
  {
   "cell_type": "code",
   "execution_count": null,
   "metadata": {
    "ExecuteTime": {
     "end_time": "2020-11-03T10:56:46.784848Z",
     "start_time": "2020-11-03T10:56:33.613Z"
    }
   },
   "outputs": [],
   "source": [
    "# after keep important features only"
   ]
  },
  {
   "cell_type": "code",
   "execution_count": null,
   "metadata": {
    "ExecuteTime": {
     "end_time": "2020-11-03T10:56:46.788837Z",
     "start_time": "2020-11-03T10:56:33.617Z"
    }
   },
   "outputs": [],
   "source": [
    "model_rfr = RandomForestClassifier(n_estimators = 400,criterion = \"entropy\", random_state=123,max_depth=50,min_samples_leaf=5, oob_score = True)\n",
    "model_rfr.fit(x_train,y_train)\n",
    "importances = list(model_rfr.feature_importances_)\n",
    "importances"
   ]
  },
  {
   "cell_type": "code",
   "execution_count": null,
   "metadata": {
    "ExecuteTime": {
     "end_time": "2020-11-03T10:56:46.792828Z",
     "start_time": "2020-11-03T10:56:33.622Z"
    }
   },
   "outputs": [],
   "source": [
    "feature_list = list(x_train.columns)"
   ]
  },
  {
   "cell_type": "code",
   "execution_count": null,
   "metadata": {
    "ExecuteTime": {
     "end_time": "2020-11-03T10:56:46.795819Z",
     "start_time": "2020-11-03T10:56:33.626Z"
    }
   },
   "outputs": [],
   "source": [
    "feature_importances = [(feature, round(importance, 2)) for feature, importance in zip(feature_list, importances)]"
   ]
  },
  {
   "cell_type": "code",
   "execution_count": null,
   "metadata": {
    "ExecuteTime": {
     "end_time": "2020-11-03T10:56:46.797849Z",
     "start_time": "2020-11-03T10:56:33.630Z"
    }
   },
   "outputs": [],
   "source": [
    "feature_importances"
   ]
  },
  {
   "cell_type": "code",
   "execution_count": null,
   "metadata": {
    "ExecuteTime": {
     "end_time": "2020-11-03T10:56:46.800805Z",
     "start_time": "2020-11-03T10:56:33.634Z"
    }
   },
   "outputs": [],
   "source": [
    "('Credit_History', 0.44),\n",
    " ('ApplicantIncome', 0.12),\n",
    " ('LoanAmount', 0.12),\n",
    " ('CoapplicantIncome', 0.09),\n",
    " ('Married_Yes', 0.03),\n",
    " ('Married_No', 0.02),\n",
    " ('Property_Area_Rural', 0.02),\n",
    " ('Property_Area_Semiurban', 0.02),\n",
    " ('Loan_Amount_Term', 0.01),\n",
    " ('Gender_Female', 0.01),\n",
    " ('Gender_Male', 0.01),\n",
    " ('Dependents_0', 0.01),\n",
    " ('Dependents_1', 0.01),\n",
    " ('Dependents_2', 0.01),\n",
    " ('Dependents_3+', 0.01),\n",
    " ('Education_Graduate', 0.01),\n",
    " ('Education_Not Graduate', 0.01),\n",
    " ('Self_Employed_No', 0.01),\n",
    " ('Self_Employed_Yes', 0.01),\n",
    " ('Property_Area_Urban', 0.01)]"
   ]
  },
  {
   "cell_type": "code",
   "execution_count": null,
   "metadata": {
    "ExecuteTime": {
     "end_time": "2020-11-03T10:56:46.802835Z",
     "start_time": "2020-11-03T10:56:33.642Z"
    }
   },
   "outputs": [],
   "source": [
    "sorted(feature_importances, key = lambda x: x[1], reverse = True)"
   ]
  },
  {
   "cell_type": "code",
   "execution_count": null,
   "metadata": {
    "ExecuteTime": {
     "end_time": "2020-11-03T10:56:46.804887Z",
     "start_time": "2020-11-03T10:56:33.648Z"
    }
   },
   "outputs": [],
   "source": [
    "important_indices = [feature_list.index('Credit_History'), feature_list.index('ApplicantIncome'),feature_list.index('LoanAmount')\\\n",
    ",feature_list.index('CoapplicantIncome'), feature_list.index('Property_Area_Rural'),feature_list.index('Property_Area_Semiurban')]"
   ]
  },
  {
   "cell_type": "code",
   "execution_count": null,
   "metadata": {
    "ExecuteTime": {
     "end_time": "2020-11-03T10:56:46.807787Z",
     "start_time": "2020-11-03T10:56:33.652Z"
    }
   },
   "outputs": [],
   "source": [
    "important_indices"
   ]
  },
  {
   "cell_type": "markdown",
   "metadata": {},
   "source": [
    "# XGBOOST"
   ]
  },
  {
   "cell_type": "code",
   "execution_count": null,
   "metadata": {
    "ExecuteTime": {
     "end_time": "2020-11-03T10:56:46.811775Z",
     "start_time": "2020-11-03T10:56:33.659Z"
    }
   },
   "outputs": [],
   "source": [
    "x_train_imp = x_train.iloc[:,important_indices]\n",
    "\n",
    "#x_train_imp.columns = (\"Credit_History\",\"ApplicantIncome\" ,\"LoanAmount\",\"CoapplicantIncome\",\"Married_Yes\",\"Married_No\")\n",
    "x_train_imp.columns = (\"Credit_History\",\"ApplicantIncome\" ,\"LoanAmount\",\"CoapplicantIncome\",\"Property_Area_Rural\",\"Property_Area_Semiurban\")"
   ]
  },
  {
   "cell_type": "code",
   "execution_count": null,
   "metadata": {
    "ExecuteTime": {
     "end_time": "2020-11-03T10:56:46.814948Z",
     "start_time": "2020-11-03T10:56:33.663Z"
    }
   },
   "outputs": [],
   "source": [
    "x_test_imp = x_test.iloc[:,important_indices]\n",
    "#x_test_imp.columns = (\"Credit_History\",\"ApplicantIncome\" ,\"LoanAmount\",\"CoapplicantIncome\",\"Married_Yes\",\"Married_No\")\n",
    "x_test_imp.columns = (\"Credit_History\",\"ApplicantIncome\" ,\"LoanAmount\",\"CoapplicantIncome\",\"Property_Area_Rural\",\"Property_Area_Semiurban\")"
   ]
  },
  {
   "cell_type": "code",
   "execution_count": null,
   "metadata": {
    "ExecuteTime": {
     "end_time": "2020-11-03T10:56:46.817760Z",
     "start_time": "2020-11-03T10:56:33.670Z"
    }
   },
   "outputs": [],
   "source": [
    "test_imp = test.iloc[:,important_indices]\n",
    "#test_imp.columns = (\"Credit_History\",\"ApplicantIncome\" ,\"LoanAmount\",\"CoapplicantIncome\",\"Married_Yes\",\"Married_No\")\n",
    "test_imp.columns = (\"Credit_History\",\"ApplicantIncome\" ,\"LoanAmount\",\"CoapplicantIncome\",\"Property_Area_Rural\",\"Property_Area_Semiurban\")"
   ]
  },
  {
   "cell_type": "code",
   "execution_count": null,
   "metadata": {
    "ExecuteTime": {
     "end_time": "2020-11-03T10:56:46.820753Z",
     "start_time": "2020-11-03T10:56:33.675Z"
    }
   },
   "outputs": [],
   "source": [
    "x_train_imp.head(), x_train_imp.columns, "
   ]
  },
  {
   "cell_type": "code",
   "execution_count": null,
   "metadata": {
    "ExecuteTime": {
     "end_time": "2020-11-03T10:56:46.822748Z",
     "start_time": "2020-11-03T10:56:33.680Z"
    }
   },
   "outputs": [],
   "source": [
    "x_train.head()"
   ]
  },
  {
   "cell_type": "code",
   "execution_count": null,
   "metadata": {
    "ExecuteTime": {
     "end_time": "2020-11-03T10:56:46.825740Z",
     "start_time": "2020-11-03T10:56:33.685Z"
    }
   },
   "outputs": [],
   "source": [
    "\n",
    "#model_rfr_f = GradientBoostingClassifier(n_estimators=100,max_depth=5)\n",
    "#model_rfr_f = RandomForestClassifier(n_estimators = 400,criterion = \"entropy\", random_state=123,max_depth=50,min_samples_leaf=5, oob_score = True)\n",
    "model_rfr_f = XGBClassifier (n_estimators=100,max_depth=5)\n",
    "model_rfr_f"
   ]
  },
  {
   "cell_type": "code",
   "execution_count": null,
   "metadata": {
    "ExecuteTime": {
     "end_time": "2020-11-03T10:56:46.827740Z",
     "start_time": "2020-11-03T10:56:33.691Z"
    }
   },
   "outputs": [],
   "source": [
    "model_rfr_f.fit(x_train_imp,y_train)"
   ]
  },
  {
   "cell_type": "code",
   "execution_count": null,
   "metadata": {
    "ExecuteTime": {
     "end_time": "2020-11-03T10:56:46.831408Z",
     "start_time": "2020-11-03T10:56:33.697Z"
    }
   },
   "outputs": [],
   "source": [
    "y_test_pred = model_rfr_f.predict(x_test_imp)"
   ]
  },
  {
   "cell_type": "code",
   "execution_count": null,
   "metadata": {
    "ExecuteTime": {
     "end_time": "2020-11-03T10:56:46.833403Z",
     "start_time": "2020-11-03T10:56:33.703Z"
    }
   },
   "outputs": [],
   "source": [
    "accuracy_score(y_test,y_test_pred)"
   ]
  },
  {
   "cell_type": "code",
   "execution_count": null,
   "metadata": {
    "ExecuteTime": {
     "end_time": "2020-11-03T10:56:46.835397Z",
     "start_time": "2020-11-03T10:56:33.710Z"
    }
   },
   "outputs": [],
   "source": [
    "test_pred = model_rfr_f.predict(test_imp)"
   ]
  },
  {
   "cell_type": "code",
   "execution_count": null,
   "metadata": {
    "ExecuteTime": {
     "end_time": "2020-11-03T10:56:46.837392Z",
     "start_time": "2020-11-03T10:56:33.714Z"
    }
   },
   "outputs": [],
   "source": [
    "submit = pd.DataFrame()\n",
    "submit[\"Loan_ID\"] = test_orig.Loan_ID\n",
    "submit[\"Loan_Status\"] = test_pred\n",
    "submit.set_index(\"Loan_ID\",inplace= True)\n",
    "submit.head()"
   ]
  },
  {
   "cell_type": "code",
   "execution_count": null,
   "metadata": {
    "ExecuteTime": {
     "end_time": "2020-11-03T10:56:46.839391Z",
     "start_time": "2020-11-03T10:56:33.718Z"
    }
   },
   "outputs": [],
   "source": [
    "submit.to_csv(\"c:/aa mtas/AA_ER/ml/python-code/loan prediction/result-gb.csv\")"
   ]
  }
 ],
 "metadata": {
  "kernelspec": {
   "display_name": "Python 3",
   "language": "python",
   "name": "python3"
  },
  "language_info": {
   "codemirror_mode": {
    "name": "ipython",
    "version": 3
   },
   "file_extension": ".py",
   "mimetype": "text/x-python",
   "name": "python",
   "nbconvert_exporter": "python",
   "pygments_lexer": "ipython3",
   "version": "3.6.9"
  }
 },
 "nbformat": 4,
 "nbformat_minor": 2
}
