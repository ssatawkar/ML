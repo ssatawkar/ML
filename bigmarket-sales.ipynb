{
 "cells": [
  {
   "cell_type": "code",
   "execution_count": null,
   "metadata": {},
   "outputs": [],
   "source": []
  },
  {
   "cell_type": "code",
   "execution_count": 1,
   "metadata": {
    "ExecuteTime": {
     "end_time": "2020-11-03T17:09:30.473076Z",
     "start_time": "2020-11-03T17:09:25.240589Z"
    }
   },
   "outputs": [],
   "source": [
    "import numpy as np\n",
    "import pandas as pd\n",
    "import sklearn.metrics as sk \n",
    "import seaborn as sns                  # For data visualization \n",
    "import matplotlib.pyplot as plt        # For plotting graphs \n",
    "from sklearn.model_selection import train_test_split\n",
    "from sklearn.metrics import accuracy_score\n",
    "from sklearn.metrics import confusion_matrix\n",
    "from sklearn.metrics import classification_report\n",
    "from sklearn.impute import SimpleImputer\n",
    "from sklearn.ensemble import RandomForestClassifier\n",
    "from sklearn.linear_model import LinearRegression\n",
    "from sklearn.linear_model import Ridge\n",
    "import sklearn.metrics\n",
    "\n",
    "%matplotlib inline"
   ]
  },
  {
   "cell_type": "code",
   "execution_count": 2,
   "metadata": {
    "ExecuteTime": {
     "end_time": "2020-11-03T17:09:30.482942Z",
     "start_time": "2020-11-03T17:09:30.476028Z"
    }
   },
   "outputs": [],
   "source": [
    "pd.set_option('display.max_columns', None)\n",
    "pd.set_option('display.max_rows', None)\n",
    "pd.options.display.float_format = '{:.4f}'.format\n",
    "pd.set_option('display.float_format', lambda x: '%.5f' % x)"
   ]
  },
  {
   "cell_type": "code",
   "execution_count": 3,
   "metadata": {
    "ExecuteTime": {
     "end_time": "2020-11-03T17:09:30.492881Z",
     "start_time": "2020-11-03T17:09:30.486919Z"
    }
   },
   "outputs": [],
   "source": [
    "#\t\tnp.set_printoptions(precision=3)\n",
    "#\t\tnp.set_printoptions(suppress=True) \n"
   ]
  },
  {
   "cell_type": "code",
   "execution_count": 4,
   "metadata": {
    "ExecuteTime": {
     "end_time": "2020-11-03T17:09:30.609388Z",
     "start_time": "2020-11-03T17:09:30.496866Z"
    }
   },
   "outputs": [
    {
     "data": {
      "text/html": [
       "<div>\n",
       "<style scoped>\n",
       "    .dataframe tbody tr th:only-of-type {\n",
       "        vertical-align: middle;\n",
       "    }\n",
       "\n",
       "    .dataframe tbody tr th {\n",
       "        vertical-align: top;\n",
       "    }\n",
       "\n",
       "    .dataframe thead th {\n",
       "        text-align: right;\n",
       "    }\n",
       "</style>\n",
       "<table border=\"1\" class=\"dataframe\">\n",
       "  <thead>\n",
       "    <tr style=\"text-align: right;\">\n",
       "      <th></th>\n",
       "      <th>Item_Identifier</th>\n",
       "      <th>Item_Weight</th>\n",
       "      <th>Item_Fat_Content</th>\n",
       "      <th>Item_Visibility</th>\n",
       "      <th>Item_Type</th>\n",
       "      <th>Item_MRP</th>\n",
       "      <th>Outlet_Identifier</th>\n",
       "      <th>Outlet_Establishment_Year</th>\n",
       "      <th>Outlet_Size</th>\n",
       "      <th>Outlet_Location_Type</th>\n",
       "      <th>Outlet_Type</th>\n",
       "    </tr>\n",
       "  </thead>\n",
       "  <tbody>\n",
       "    <tr>\n",
       "      <td>0</td>\n",
       "      <td>FDW58</td>\n",
       "      <td>20.75000</td>\n",
       "      <td>Low Fat</td>\n",
       "      <td>0.00756</td>\n",
       "      <td>Snack Foods</td>\n",
       "      <td>107.86220</td>\n",
       "      <td>OUT049</td>\n",
       "      <td>1999</td>\n",
       "      <td>Medium</td>\n",
       "      <td>Tier 1</td>\n",
       "      <td>Supermarket Type1</td>\n",
       "    </tr>\n",
       "    <tr>\n",
       "      <td>1</td>\n",
       "      <td>FDW14</td>\n",
       "      <td>8.30000</td>\n",
       "      <td>reg</td>\n",
       "      <td>0.03843</td>\n",
       "      <td>Dairy</td>\n",
       "      <td>87.31980</td>\n",
       "      <td>OUT017</td>\n",
       "      <td>2007</td>\n",
       "      <td>NaN</td>\n",
       "      <td>Tier 2</td>\n",
       "      <td>Supermarket Type1</td>\n",
       "    </tr>\n",
       "    <tr>\n",
       "      <td>2</td>\n",
       "      <td>NCN55</td>\n",
       "      <td>14.60000</td>\n",
       "      <td>Low Fat</td>\n",
       "      <td>0.09957</td>\n",
       "      <td>Others</td>\n",
       "      <td>241.75380</td>\n",
       "      <td>OUT010</td>\n",
       "      <td>1998</td>\n",
       "      <td>NaN</td>\n",
       "      <td>Tier 3</td>\n",
       "      <td>Grocery Store</td>\n",
       "    </tr>\n",
       "    <tr>\n",
       "      <td>3</td>\n",
       "      <td>FDQ58</td>\n",
       "      <td>7.31500</td>\n",
       "      <td>Low Fat</td>\n",
       "      <td>0.01539</td>\n",
       "      <td>Snack Foods</td>\n",
       "      <td>155.03400</td>\n",
       "      <td>OUT017</td>\n",
       "      <td>2007</td>\n",
       "      <td>NaN</td>\n",
       "      <td>Tier 2</td>\n",
       "      <td>Supermarket Type1</td>\n",
       "    </tr>\n",
       "    <tr>\n",
       "      <td>4</td>\n",
       "      <td>FDY38</td>\n",
       "      <td>nan</td>\n",
       "      <td>Regular</td>\n",
       "      <td>0.11860</td>\n",
       "      <td>Dairy</td>\n",
       "      <td>234.23000</td>\n",
       "      <td>OUT027</td>\n",
       "      <td>1985</td>\n",
       "      <td>Medium</td>\n",
       "      <td>Tier 3</td>\n",
       "      <td>Supermarket Type3</td>\n",
       "    </tr>\n",
       "  </tbody>\n",
       "</table>\n",
       "</div>"
      ],
      "text/plain": [
       "  Item_Identifier  Item_Weight Item_Fat_Content  Item_Visibility    Item_Type  \\\n",
       "0           FDW58     20.75000          Low Fat          0.00756  Snack Foods   \n",
       "1           FDW14      8.30000              reg          0.03843        Dairy   \n",
       "2           NCN55     14.60000          Low Fat          0.09957       Others   \n",
       "3           FDQ58      7.31500          Low Fat          0.01539  Snack Foods   \n",
       "4           FDY38          nan          Regular          0.11860        Dairy   \n",
       "\n",
       "   Item_MRP Outlet_Identifier  Outlet_Establishment_Year Outlet_Size  \\\n",
       "0 107.86220            OUT049                       1999      Medium   \n",
       "1  87.31980            OUT017                       2007         NaN   \n",
       "2 241.75380            OUT010                       1998         NaN   \n",
       "3 155.03400            OUT017                       2007         NaN   \n",
       "4 234.23000            OUT027                       1985      Medium   \n",
       "\n",
       "  Outlet_Location_Type        Outlet_Type  \n",
       "0               Tier 1  Supermarket Type1  \n",
       "1               Tier 2  Supermarket Type1  \n",
       "2               Tier 3      Grocery Store  \n",
       "3               Tier 2  Supermarket Type1  \n",
       "4               Tier 3  Supermarket Type3  "
      ]
     },
     "execution_count": 4,
     "metadata": {},
     "output_type": "execute_result"
    }
   ],
   "source": [
    "filename = \"c:/aa mtas/AA_ER/ml/python-code/bigmart-sales-data/Train.csv\"\n",
    "#names = ['preg', 'plas', 'pres', 'skin', 'test', 'mass', 'pedi', 'age', 'class']\n",
    "\n",
    "df_train= pd.read_csv(filename) \n",
    "df_train.head()\n",
    "\n",
    "df_test = pd.read_csv(\"c:/aa mtas/AA_ER/ml/python-code/bigmart-sales-data/Test.csv\")\n",
    "df_test.head()               "
   ]
  },
  {
   "cell_type": "code",
   "execution_count": 5,
   "metadata": {
    "ExecuteTime": {
     "end_time": "2020-11-03T17:09:30.622079Z",
     "start_time": "2020-11-03T17:09:30.613163Z"
    }
   },
   "outputs": [
    {
     "data": {
      "text/plain": [
       "(Index(['Item_Identifier', 'Item_Weight', 'Item_Fat_Content', 'Item_Visibility',\n",
       "        'Item_Type', 'Item_MRP', 'Outlet_Identifier',\n",
       "        'Outlet_Establishment_Year', 'Outlet_Size', 'Outlet_Location_Type',\n",
       "        'Outlet_Type', 'Item_Outlet_Sales'],\n",
       "       dtype='object'),\n",
       " (8523, 12),\n",
       " (5681, 11))"
      ]
     },
     "execution_count": 5,
     "metadata": {},
     "output_type": "execute_result"
    }
   ],
   "source": [
    "df_train.columns,df_train.shape, df_test.shape"
   ]
  },
  {
   "cell_type": "code",
   "execution_count": 6,
   "metadata": {
    "ExecuteTime": {
     "end_time": "2020-11-03T17:09:30.639059Z",
     "start_time": "2020-11-03T17:09:30.627122Z"
    }
   },
   "outputs": [],
   "source": [
    "train_orig = df_train.copy()\n",
    "test_orig = df_test.copy()"
   ]
  },
  {
   "cell_type": "code",
   "execution_count": 7,
   "metadata": {
    "ExecuteTime": {
     "end_time": "2020-11-03T17:09:30.705697Z",
     "start_time": "2020-11-03T17:09:30.645292Z"
    }
   },
   "outputs": [
    {
     "data": {
      "text/html": [
       "<div>\n",
       "<style scoped>\n",
       "    .dataframe tbody tr th:only-of-type {\n",
       "        vertical-align: middle;\n",
       "    }\n",
       "\n",
       "    .dataframe tbody tr th {\n",
       "        vertical-align: top;\n",
       "    }\n",
       "\n",
       "    .dataframe thead th {\n",
       "        text-align: right;\n",
       "    }\n",
       "</style>\n",
       "<table border=\"1\" class=\"dataframe\">\n",
       "  <thead>\n",
       "    <tr style=\"text-align: right;\">\n",
       "      <th></th>\n",
       "      <th>Item_Weight</th>\n",
       "      <th>Item_Visibility</th>\n",
       "      <th>Item_MRP</th>\n",
       "      <th>Outlet_Establishment_Year</th>\n",
       "      <th>Item_Outlet_Sales</th>\n",
       "    </tr>\n",
       "  </thead>\n",
       "  <tbody>\n",
       "    <tr>\n",
       "      <td>count</td>\n",
       "      <td>7060.00000</td>\n",
       "      <td>8523.00000</td>\n",
       "      <td>8523.00000</td>\n",
       "      <td>8523.00000</td>\n",
       "      <td>8523.00000</td>\n",
       "    </tr>\n",
       "    <tr>\n",
       "      <td>mean</td>\n",
       "      <td>12.85765</td>\n",
       "      <td>0.06613</td>\n",
       "      <td>140.99278</td>\n",
       "      <td>1997.83187</td>\n",
       "      <td>2181.28891</td>\n",
       "    </tr>\n",
       "    <tr>\n",
       "      <td>std</td>\n",
       "      <td>4.64346</td>\n",
       "      <td>0.05160</td>\n",
       "      <td>62.27507</td>\n",
       "      <td>8.37176</td>\n",
       "      <td>1706.49962</td>\n",
       "    </tr>\n",
       "    <tr>\n",
       "      <td>min</td>\n",
       "      <td>4.55500</td>\n",
       "      <td>0.00000</td>\n",
       "      <td>31.29000</td>\n",
       "      <td>1985.00000</td>\n",
       "      <td>33.29000</td>\n",
       "    </tr>\n",
       "    <tr>\n",
       "      <td>25%</td>\n",
       "      <td>8.77375</td>\n",
       "      <td>0.02699</td>\n",
       "      <td>93.82650</td>\n",
       "      <td>1987.00000</td>\n",
       "      <td>834.24740</td>\n",
       "    </tr>\n",
       "    <tr>\n",
       "      <td>50%</td>\n",
       "      <td>12.60000</td>\n",
       "      <td>0.05393</td>\n",
       "      <td>143.01280</td>\n",
       "      <td>1999.00000</td>\n",
       "      <td>1794.33100</td>\n",
       "    </tr>\n",
       "    <tr>\n",
       "      <td>75%</td>\n",
       "      <td>16.85000</td>\n",
       "      <td>0.09459</td>\n",
       "      <td>185.64370</td>\n",
       "      <td>2004.00000</td>\n",
       "      <td>3101.29640</td>\n",
       "    </tr>\n",
       "    <tr>\n",
       "      <td>max</td>\n",
       "      <td>21.35000</td>\n",
       "      <td>0.32839</td>\n",
       "      <td>266.88840</td>\n",
       "      <td>2009.00000</td>\n",
       "      <td>13086.96480</td>\n",
       "    </tr>\n",
       "  </tbody>\n",
       "</table>\n",
       "</div>"
      ],
      "text/plain": [
       "       Item_Weight  Item_Visibility   Item_MRP  Outlet_Establishment_Year  \\\n",
       "count   7060.00000       8523.00000 8523.00000                 8523.00000   \n",
       "mean      12.85765          0.06613  140.99278                 1997.83187   \n",
       "std        4.64346          0.05160   62.27507                    8.37176   \n",
       "min        4.55500          0.00000   31.29000                 1985.00000   \n",
       "25%        8.77375          0.02699   93.82650                 1987.00000   \n",
       "50%       12.60000          0.05393  143.01280                 1999.00000   \n",
       "75%       16.85000          0.09459  185.64370                 2004.00000   \n",
       "max       21.35000          0.32839  266.88840                 2009.00000   \n",
       "\n",
       "       Item_Outlet_Sales  \n",
       "count         8523.00000  \n",
       "mean          2181.28891  \n",
       "std           1706.49962  \n",
       "min             33.29000  \n",
       "25%            834.24740  \n",
       "50%           1794.33100  \n",
       "75%           3101.29640  \n",
       "max          13086.96480  "
      ]
     },
     "execution_count": 7,
     "metadata": {},
     "output_type": "execute_result"
    }
   ],
   "source": [
    "train = df_train\n",
    "df_train.describe()"
   ]
  },
  {
   "cell_type": "code",
   "execution_count": 8,
   "metadata": {
    "ExecuteTime": {
     "end_time": "2020-11-03T17:09:30.754585Z",
     "start_time": "2020-11-03T17:09:30.710665Z"
    }
   },
   "outputs": [
    {
     "data": {
      "text/html": [
       "<div>\n",
       "<style scoped>\n",
       "    .dataframe tbody tr th:only-of-type {\n",
       "        vertical-align: middle;\n",
       "    }\n",
       "\n",
       "    .dataframe tbody tr th {\n",
       "        vertical-align: top;\n",
       "    }\n",
       "\n",
       "    .dataframe thead th {\n",
       "        text-align: right;\n",
       "    }\n",
       "</style>\n",
       "<table border=\"1\" class=\"dataframe\">\n",
       "  <thead>\n",
       "    <tr style=\"text-align: right;\">\n",
       "      <th></th>\n",
       "      <th>Item_Weight</th>\n",
       "      <th>Item_Visibility</th>\n",
       "      <th>Item_MRP</th>\n",
       "      <th>Outlet_Establishment_Year</th>\n",
       "    </tr>\n",
       "  </thead>\n",
       "  <tbody>\n",
       "    <tr>\n",
       "      <td>count</td>\n",
       "      <td>4705.00000</td>\n",
       "      <td>5681.00000</td>\n",
       "      <td>5681.00000</td>\n",
       "      <td>5681.00000</td>\n",
       "    </tr>\n",
       "    <tr>\n",
       "      <td>mean</td>\n",
       "      <td>12.69563</td>\n",
       "      <td>0.06568</td>\n",
       "      <td>141.02327</td>\n",
       "      <td>1997.82890</td>\n",
       "    </tr>\n",
       "    <tr>\n",
       "      <td>std</td>\n",
       "      <td>4.66485</td>\n",
       "      <td>0.05125</td>\n",
       "      <td>61.80909</td>\n",
       "      <td>8.37226</td>\n",
       "    </tr>\n",
       "    <tr>\n",
       "      <td>min</td>\n",
       "      <td>4.55500</td>\n",
       "      <td>0.00000</td>\n",
       "      <td>31.99000</td>\n",
       "      <td>1985.00000</td>\n",
       "    </tr>\n",
       "    <tr>\n",
       "      <td>25%</td>\n",
       "      <td>8.64500</td>\n",
       "      <td>0.02705</td>\n",
       "      <td>94.41200</td>\n",
       "      <td>1987.00000</td>\n",
       "    </tr>\n",
       "    <tr>\n",
       "      <td>50%</td>\n",
       "      <td>12.50000</td>\n",
       "      <td>0.05415</td>\n",
       "      <td>141.41540</td>\n",
       "      <td>1999.00000</td>\n",
       "    </tr>\n",
       "    <tr>\n",
       "      <td>75%</td>\n",
       "      <td>16.70000</td>\n",
       "      <td>0.09346</td>\n",
       "      <td>186.02660</td>\n",
       "      <td>2004.00000</td>\n",
       "    </tr>\n",
       "    <tr>\n",
       "      <td>max</td>\n",
       "      <td>21.35000</td>\n",
       "      <td>0.32364</td>\n",
       "      <td>266.58840</td>\n",
       "      <td>2009.00000</td>\n",
       "    </tr>\n",
       "  </tbody>\n",
       "</table>\n",
       "</div>"
      ],
      "text/plain": [
       "       Item_Weight  Item_Visibility   Item_MRP  Outlet_Establishment_Year\n",
       "count   4705.00000       5681.00000 5681.00000                 5681.00000\n",
       "mean      12.69563          0.06568  141.02327                 1997.82890\n",
       "std        4.66485          0.05125   61.80909                    8.37226\n",
       "min        4.55500          0.00000   31.99000                 1985.00000\n",
       "25%        8.64500          0.02705   94.41200                 1987.00000\n",
       "50%       12.50000          0.05415  141.41540                 1999.00000\n",
       "75%       16.70000          0.09346  186.02660                 2004.00000\n",
       "max       21.35000          0.32364  266.58840                 2009.00000"
      ]
     },
     "execution_count": 8,
     "metadata": {},
     "output_type": "execute_result"
    }
   ],
   "source": [
    "test = df_test\n",
    "test.describe()"
   ]
  },
  {
   "cell_type": "code",
   "execution_count": 9,
   "metadata": {
    "ExecuteTime": {
     "end_time": "2020-11-03T17:09:30.785924Z",
     "start_time": "2020-11-03T17:09:30.758591Z"
    }
   },
   "outputs": [
    {
     "name": "stdout",
     "output_type": "stream",
     "text": [
      "<class 'pandas.core.frame.DataFrame'>\n",
      "RangeIndex: 8523 entries, 0 to 8522\n",
      "Data columns (total 12 columns):\n",
      "Item_Identifier              8523 non-null object\n",
      "Item_Weight                  7060 non-null float64\n",
      "Item_Fat_Content             8523 non-null object\n",
      "Item_Visibility              8523 non-null float64\n",
      "Item_Type                    8523 non-null object\n",
      "Item_MRP                     8523 non-null float64\n",
      "Outlet_Identifier            8523 non-null object\n",
      "Outlet_Establishment_Year    8523 non-null int64\n",
      "Outlet_Size                  6113 non-null object\n",
      "Outlet_Location_Type         8523 non-null object\n",
      "Outlet_Type                  8523 non-null object\n",
      "Item_Outlet_Sales            8523 non-null float64\n",
      "dtypes: float64(4), int64(1), object(7)\n",
      "memory usage: 799.2+ KB\n"
     ]
    }
   ],
   "source": [
    "train.info()"
   ]
  },
  {
   "cell_type": "code",
   "execution_count": 10,
   "metadata": {
    "ExecuteTime": {
     "end_time": "2020-11-03T17:09:30.795326Z",
     "start_time": "2020-11-03T17:09:30.790401Z"
    }
   },
   "outputs": [],
   "source": [
    "# replace establishement year with how year the shop is from 2013"
   ]
  },
  {
   "cell_type": "code",
   "execution_count": 11,
   "metadata": {
    "ExecuteTime": {
     "end_time": "2020-11-03T17:09:30.853097Z",
     "start_time": "2020-11-03T17:09:30.800288Z"
    }
   },
   "outputs": [],
   "source": [
    "train['old'] = 2013 - train['Outlet_Establishment_Year']   \n",
    "test['old'] = 2013 - test['Outlet_Establishment_Year']   \n",
    "train.drop(['Outlet_Establishment_Year'],axis=1,inplace=True)\n",
    "test.drop(['Outlet_Establishment_Year'],axis=1,inplace=True)"
   ]
  },
  {
   "cell_type": "code",
   "execution_count": 12,
   "metadata": {
    "ExecuteTime": {
     "end_time": "2020-11-03T17:09:30.900782Z",
     "start_time": "2020-11-03T17:09:30.858051Z"
    }
   },
   "outputs": [
    {
     "data": {
      "text/html": [
       "<div>\n",
       "<style scoped>\n",
       "    .dataframe tbody tr th:only-of-type {\n",
       "        vertical-align: middle;\n",
       "    }\n",
       "\n",
       "    .dataframe tbody tr th {\n",
       "        vertical-align: top;\n",
       "    }\n",
       "\n",
       "    .dataframe thead th {\n",
       "        text-align: right;\n",
       "    }\n",
       "</style>\n",
       "<table border=\"1\" class=\"dataframe\">\n",
       "  <thead>\n",
       "    <tr style=\"text-align: right;\">\n",
       "      <th></th>\n",
       "      <th>Item_Weight</th>\n",
       "      <th>Item_Visibility</th>\n",
       "      <th>Item_MRP</th>\n",
       "      <th>old</th>\n",
       "    </tr>\n",
       "  </thead>\n",
       "  <tbody>\n",
       "    <tr>\n",
       "      <td>count</td>\n",
       "      <td>4705.00000</td>\n",
       "      <td>5681.00000</td>\n",
       "      <td>5681.00000</td>\n",
       "      <td>5681.00000</td>\n",
       "    </tr>\n",
       "    <tr>\n",
       "      <td>mean</td>\n",
       "      <td>12.69563</td>\n",
       "      <td>0.06568</td>\n",
       "      <td>141.02327</td>\n",
       "      <td>15.17110</td>\n",
       "    </tr>\n",
       "    <tr>\n",
       "      <td>std</td>\n",
       "      <td>4.66485</td>\n",
       "      <td>0.05125</td>\n",
       "      <td>61.80909</td>\n",
       "      <td>8.37226</td>\n",
       "    </tr>\n",
       "    <tr>\n",
       "      <td>min</td>\n",
       "      <td>4.55500</td>\n",
       "      <td>0.00000</td>\n",
       "      <td>31.99000</td>\n",
       "      <td>4.00000</td>\n",
       "    </tr>\n",
       "    <tr>\n",
       "      <td>25%</td>\n",
       "      <td>8.64500</td>\n",
       "      <td>0.02705</td>\n",
       "      <td>94.41200</td>\n",
       "      <td>9.00000</td>\n",
       "    </tr>\n",
       "    <tr>\n",
       "      <td>50%</td>\n",
       "      <td>12.50000</td>\n",
       "      <td>0.05415</td>\n",
       "      <td>141.41540</td>\n",
       "      <td>14.00000</td>\n",
       "    </tr>\n",
       "    <tr>\n",
       "      <td>75%</td>\n",
       "      <td>16.70000</td>\n",
       "      <td>0.09346</td>\n",
       "      <td>186.02660</td>\n",
       "      <td>26.00000</td>\n",
       "    </tr>\n",
       "    <tr>\n",
       "      <td>max</td>\n",
       "      <td>21.35000</td>\n",
       "      <td>0.32364</td>\n",
       "      <td>266.58840</td>\n",
       "      <td>28.00000</td>\n",
       "    </tr>\n",
       "  </tbody>\n",
       "</table>\n",
       "</div>"
      ],
      "text/plain": [
       "       Item_Weight  Item_Visibility   Item_MRP        old\n",
       "count   4705.00000       5681.00000 5681.00000 5681.00000\n",
       "mean      12.69563          0.06568  141.02327   15.17110\n",
       "std        4.66485          0.05125   61.80909    8.37226\n",
       "min        4.55500          0.00000   31.99000    4.00000\n",
       "25%        8.64500          0.02705   94.41200    9.00000\n",
       "50%       12.50000          0.05415  141.41540   14.00000\n",
       "75%       16.70000          0.09346  186.02660   26.00000\n",
       "max       21.35000          0.32364  266.58840   28.00000"
      ]
     },
     "execution_count": 12,
     "metadata": {},
     "output_type": "execute_result"
    }
   ],
   "source": [
    "test.describe()"
   ]
  },
  {
   "cell_type": "code",
   "execution_count": 13,
   "metadata": {
    "ExecuteTime": {
     "end_time": "2020-11-03T17:09:30.912665Z",
     "start_time": "2020-11-03T17:09:30.903765Z"
    }
   },
   "outputs": [
    {
     "data": {
      "text/plain": [
       "Index(['Item_Outlet_Sales'], dtype='object')"
      ]
     },
     "execution_count": 13,
     "metadata": {},
     "output_type": "execute_result"
    }
   ],
   "source": [
    "train.columns.difference(test.columns)"
   ]
  },
  {
   "cell_type": "raw",
   "metadata": {},
   "source": [
    "# Feature Engineering \n",
    "# merge Low Fat, LF , low fat into Low Fat "
   ]
  },
  {
   "cell_type": "code",
   "execution_count": 14,
   "metadata": {
    "ExecuteTime": {
     "end_time": "2020-11-03T17:09:30.941518Z",
     "start_time": "2020-11-03T17:09:30.916641Z"
    }
   },
   "outputs": [
    {
     "data": {
      "text/plain": [
       "(Low Fat    5089\n",
       " Regular    2889\n",
       " LF          316\n",
       " reg         117\n",
       " low fat     112\n",
       " Name: Item_Fat_Content, dtype: int64,\n",
       " Low Fat    3396\n",
       " Regular    1935\n",
       " LF          206\n",
       " reg          78\n",
       " low fat      66\n",
       " Name: Item_Fat_Content, dtype: int64)"
      ]
     },
     "execution_count": 14,
     "metadata": {},
     "output_type": "execute_result"
    }
   ],
   "source": [
    "train['Item_Fat_Content'].value_counts(), test['Item_Fat_Content'].value_counts()"
   ]
  },
  {
   "cell_type": "code",
   "execution_count": 15,
   "metadata": {
    "ExecuteTime": {
     "end_time": "2020-11-03T17:09:30.960374Z",
     "start_time": "2020-11-03T17:09:30.944465Z"
    }
   },
   "outputs": [],
   "source": [
    "train['Item_Fat_Content'].replace(\"LF\", \"Low Fat\", inplace= True)\n",
    "train['Item_Fat_Content'].replace(\"low fat\", \"Low Fat\", inplace= True)\n",
    "train['Item_Fat_Content'].replace(\"reg\", \"Regular\", inplace= True)\n",
    "\n",
    "test['Item_Fat_Content'].replace(\"LF\", \"Low Fat\", inplace= True)\n",
    "test['Item_Fat_Content'].replace(\"low fat\", \"Low Fat\", inplace= True)\n",
    "test['Item_Fat_Content'].replace(\"reg\", \"Regular\", inplace= True)\n"
   ]
  },
  {
   "cell_type": "code",
   "execution_count": 16,
   "metadata": {
    "ExecuteTime": {
     "end_time": "2020-11-03T17:09:30.969372Z",
     "start_time": "2020-11-03T17:09:30.964336Z"
    }
   },
   "outputs": [],
   "source": [
    "# train_feature = train.loc[:,train.columns!='Item_Outlet_Sales']\n",
    "# train_target = train.loc[:,train.columns =='Item_Outlet_Sales']"
   ]
  },
  {
   "cell_type": "code",
   "execution_count": 17,
   "metadata": {
    "ExecuteTime": {
     "end_time": "2020-11-03T17:09:30.979242Z",
     "start_time": "2020-11-03T17:09:30.972289Z"
    }
   },
   "outputs": [],
   "source": [
    "# merge "
   ]
  },
  {
   "cell_type": "code",
   "execution_count": 18,
   "metadata": {
    "ExecuteTime": {
     "end_time": "2020-11-03T17:09:30.998123Z",
     "start_time": "2020-11-03T17:09:30.982221Z"
    }
   },
   "outputs": [
    {
     "data": {
      "text/plain": [
       "Low Fat    5517\n",
       "Regular    3006\n",
       "Name: Item_Fat_Content, dtype: int64"
      ]
     },
     "execution_count": 18,
     "metadata": {},
     "output_type": "execute_result"
    }
   ],
   "source": [
    "train['Item_Fat_Content'].value_counts()"
   ]
  },
  {
   "cell_type": "code",
   "execution_count": 19,
   "metadata": {
    "ExecuteTime": {
     "end_time": "2020-11-03T17:09:31.046812Z",
     "start_time": "2020-11-03T17:09:31.003128Z"
    }
   },
   "outputs": [
    {
     "data": {
      "text/html": [
       "<div>\n",
       "<style scoped>\n",
       "    .dataframe tbody tr th:only-of-type {\n",
       "        vertical-align: middle;\n",
       "    }\n",
       "\n",
       "    .dataframe tbody tr th {\n",
       "        vertical-align: top;\n",
       "    }\n",
       "\n",
       "    .dataframe thead th {\n",
       "        text-align: right;\n",
       "    }\n",
       "</style>\n",
       "<table border=\"1\" class=\"dataframe\">\n",
       "  <thead>\n",
       "    <tr style=\"text-align: right;\">\n",
       "      <th></th>\n",
       "      <th>Item_Identifier</th>\n",
       "      <th>Item_Fat_Content</th>\n",
       "      <th>Item_Type</th>\n",
       "      <th>Outlet_Identifier</th>\n",
       "      <th>Outlet_Size</th>\n",
       "      <th>Outlet_Location_Type</th>\n",
       "      <th>Outlet_Type</th>\n",
       "    </tr>\n",
       "  </thead>\n",
       "  <tbody>\n",
       "    <tr>\n",
       "      <td>0</td>\n",
       "      <td>FDA15</td>\n",
       "      <td>Low Fat</td>\n",
       "      <td>Dairy</td>\n",
       "      <td>OUT049</td>\n",
       "      <td>Medium</td>\n",
       "      <td>Tier 1</td>\n",
       "      <td>Supermarket Type1</td>\n",
       "    </tr>\n",
       "    <tr>\n",
       "      <td>1</td>\n",
       "      <td>DRC01</td>\n",
       "      <td>Regular</td>\n",
       "      <td>Soft Drinks</td>\n",
       "      <td>OUT018</td>\n",
       "      <td>Medium</td>\n",
       "      <td>Tier 3</td>\n",
       "      <td>Supermarket Type2</td>\n",
       "    </tr>\n",
       "    <tr>\n",
       "      <td>2</td>\n",
       "      <td>FDN15</td>\n",
       "      <td>Low Fat</td>\n",
       "      <td>Meat</td>\n",
       "      <td>OUT049</td>\n",
       "      <td>Medium</td>\n",
       "      <td>Tier 1</td>\n",
       "      <td>Supermarket Type1</td>\n",
       "    </tr>\n",
       "    <tr>\n",
       "      <td>3</td>\n",
       "      <td>FDX07</td>\n",
       "      <td>Regular</td>\n",
       "      <td>Fruits and Vegetables</td>\n",
       "      <td>OUT010</td>\n",
       "      <td>NaN</td>\n",
       "      <td>Tier 3</td>\n",
       "      <td>Grocery Store</td>\n",
       "    </tr>\n",
       "  </tbody>\n",
       "</table>\n",
       "</div>"
      ],
      "text/plain": [
       "  Item_Identifier Item_Fat_Content              Item_Type Outlet_Identifier  \\\n",
       "0           FDA15          Low Fat                  Dairy            OUT049   \n",
       "1           DRC01          Regular            Soft Drinks            OUT018   \n",
       "2           FDN15          Low Fat                   Meat            OUT049   \n",
       "3           FDX07          Regular  Fruits and Vegetables            OUT010   \n",
       "\n",
       "  Outlet_Size Outlet_Location_Type        Outlet_Type  \n",
       "0      Medium               Tier 1  Supermarket Type1  \n",
       "1      Medium               Tier 3  Supermarket Type2  \n",
       "2      Medium               Tier 1  Supermarket Type1  \n",
       "3         NaN               Tier 3      Grocery Store  "
      ]
     },
     "execution_count": 19,
     "metadata": {},
     "output_type": "execute_result"
    }
   ],
   "source": [
    "# select category column\n",
    "train_cat = train.select_dtypes(include=[\"object\"])\n",
    "train_cat.head(4)"
   ]
  },
  {
   "cell_type": "code",
   "execution_count": 20,
   "metadata": {
    "ExecuteTime": {
     "end_time": "2020-11-03T17:09:31.082586Z",
     "start_time": "2020-11-03T17:09:31.050787Z"
    }
   },
   "outputs": [
    {
     "data": {
      "text/html": [
       "<div>\n",
       "<style scoped>\n",
       "    .dataframe tbody tr th:only-of-type {\n",
       "        vertical-align: middle;\n",
       "    }\n",
       "\n",
       "    .dataframe tbody tr th {\n",
       "        vertical-align: top;\n",
       "    }\n",
       "\n",
       "    .dataframe thead th {\n",
       "        text-align: right;\n",
       "    }\n",
       "</style>\n",
       "<table border=\"1\" class=\"dataframe\">\n",
       "  <thead>\n",
       "    <tr style=\"text-align: right;\">\n",
       "      <th></th>\n",
       "      <th>Item_Identifier</th>\n",
       "      <th>Item_Fat_Content</th>\n",
       "      <th>Item_Type</th>\n",
       "      <th>Outlet_Identifier</th>\n",
       "      <th>Outlet_Size</th>\n",
       "      <th>Outlet_Location_Type</th>\n",
       "      <th>Outlet_Type</th>\n",
       "    </tr>\n",
       "  </thead>\n",
       "  <tbody>\n",
       "    <tr>\n",
       "      <td>0</td>\n",
       "      <td>FDW58</td>\n",
       "      <td>Low Fat</td>\n",
       "      <td>Snack Foods</td>\n",
       "      <td>OUT049</td>\n",
       "      <td>Medium</td>\n",
       "      <td>Tier 1</td>\n",
       "      <td>Supermarket Type1</td>\n",
       "    </tr>\n",
       "    <tr>\n",
       "      <td>1</td>\n",
       "      <td>FDW14</td>\n",
       "      <td>Regular</td>\n",
       "      <td>Dairy</td>\n",
       "      <td>OUT017</td>\n",
       "      <td>NaN</td>\n",
       "      <td>Tier 2</td>\n",
       "      <td>Supermarket Type1</td>\n",
       "    </tr>\n",
       "    <tr>\n",
       "      <td>2</td>\n",
       "      <td>NCN55</td>\n",
       "      <td>Low Fat</td>\n",
       "      <td>Others</td>\n",
       "      <td>OUT010</td>\n",
       "      <td>NaN</td>\n",
       "      <td>Tier 3</td>\n",
       "      <td>Grocery Store</td>\n",
       "    </tr>\n",
       "    <tr>\n",
       "      <td>3</td>\n",
       "      <td>FDQ58</td>\n",
       "      <td>Low Fat</td>\n",
       "      <td>Snack Foods</td>\n",
       "      <td>OUT017</td>\n",
       "      <td>NaN</td>\n",
       "      <td>Tier 2</td>\n",
       "      <td>Supermarket Type1</td>\n",
       "    </tr>\n",
       "  </tbody>\n",
       "</table>\n",
       "</div>"
      ],
      "text/plain": [
       "  Item_Identifier Item_Fat_Content    Item_Type Outlet_Identifier Outlet_Size  \\\n",
       "0           FDW58          Low Fat  Snack Foods            OUT049      Medium   \n",
       "1           FDW14          Regular        Dairy            OUT017         NaN   \n",
       "2           NCN55          Low Fat       Others            OUT010         NaN   \n",
       "3           FDQ58          Low Fat  Snack Foods            OUT017         NaN   \n",
       "\n",
       "  Outlet_Location_Type        Outlet_Type  \n",
       "0               Tier 1  Supermarket Type1  \n",
       "1               Tier 2  Supermarket Type1  \n",
       "2               Tier 3      Grocery Store  \n",
       "3               Tier 2  Supermarket Type1  "
      ]
     },
     "execution_count": 20,
     "metadata": {},
     "output_type": "execute_result"
    }
   ],
   "source": [
    "test_cat = test.select_dtypes(include =[\"object\"])\n",
    "test_cat.head(4)"
   ]
  },
  {
   "cell_type": "code",
   "execution_count": 21,
   "metadata": {
    "ExecuteTime": {
     "end_time": "2020-11-03T17:09:31.120346Z",
     "start_time": "2020-11-03T17:09:31.087559Z"
    }
   },
   "outputs": [
    {
     "data": {
      "text/html": [
       "<div>\n",
       "<style scoped>\n",
       "    .dataframe tbody tr th:only-of-type {\n",
       "        vertical-align: middle;\n",
       "    }\n",
       "\n",
       "    .dataframe tbody tr th {\n",
       "        vertical-align: top;\n",
       "    }\n",
       "\n",
       "    .dataframe thead th {\n",
       "        text-align: right;\n",
       "    }\n",
       "</style>\n",
       "<table border=\"1\" class=\"dataframe\">\n",
       "  <thead>\n",
       "    <tr style=\"text-align: right;\">\n",
       "      <th></th>\n",
       "      <th>Item_Weight</th>\n",
       "      <th>Item_Visibility</th>\n",
       "      <th>Item_MRP</th>\n",
       "      <th>Item_Outlet_Sales</th>\n",
       "      <th>old</th>\n",
       "    </tr>\n",
       "  </thead>\n",
       "  <tbody>\n",
       "    <tr>\n",
       "      <td>0</td>\n",
       "      <td>9.30000</td>\n",
       "      <td>0.01605</td>\n",
       "      <td>249.80920</td>\n",
       "      <td>3735.13800</td>\n",
       "      <td>14</td>\n",
       "    </tr>\n",
       "    <tr>\n",
       "      <td>1</td>\n",
       "      <td>5.92000</td>\n",
       "      <td>0.01928</td>\n",
       "      <td>48.26920</td>\n",
       "      <td>443.42280</td>\n",
       "      <td>4</td>\n",
       "    </tr>\n",
       "    <tr>\n",
       "      <td>2</td>\n",
       "      <td>17.50000</td>\n",
       "      <td>0.01676</td>\n",
       "      <td>141.61800</td>\n",
       "      <td>2097.27000</td>\n",
       "      <td>14</td>\n",
       "    </tr>\n",
       "    <tr>\n",
       "      <td>3</td>\n",
       "      <td>19.20000</td>\n",
       "      <td>0.00000</td>\n",
       "      <td>182.09500</td>\n",
       "      <td>732.38000</td>\n",
       "      <td>15</td>\n",
       "    </tr>\n",
       "  </tbody>\n",
       "</table>\n",
       "</div>"
      ],
      "text/plain": [
       "   Item_Weight  Item_Visibility  Item_MRP  Item_Outlet_Sales  old\n",
       "0      9.30000          0.01605 249.80920         3735.13800   14\n",
       "1      5.92000          0.01928  48.26920          443.42280    4\n",
       "2     17.50000          0.01676 141.61800         2097.27000   14\n",
       "3     19.20000          0.00000 182.09500          732.38000   15"
      ]
     },
     "execution_count": 21,
     "metadata": {},
     "output_type": "execute_result"
    }
   ],
   "source": [
    "train_num = train.select_dtypes(exclude=[\"object\"])\n",
    "train_num.head(4)"
   ]
  },
  {
   "cell_type": "code",
   "execution_count": 22,
   "metadata": {
    "ExecuteTime": {
     "end_time": "2020-11-03T17:09:31.154808Z",
     "start_time": "2020-11-03T17:09:31.125312Z"
    }
   },
   "outputs": [
    {
     "data": {
      "text/html": [
       "<div>\n",
       "<style scoped>\n",
       "    .dataframe tbody tr th:only-of-type {\n",
       "        vertical-align: middle;\n",
       "    }\n",
       "\n",
       "    .dataframe tbody tr th {\n",
       "        vertical-align: top;\n",
       "    }\n",
       "\n",
       "    .dataframe thead th {\n",
       "        text-align: right;\n",
       "    }\n",
       "</style>\n",
       "<table border=\"1\" class=\"dataframe\">\n",
       "  <thead>\n",
       "    <tr style=\"text-align: right;\">\n",
       "      <th></th>\n",
       "      <th>Item_Weight</th>\n",
       "      <th>Item_Visibility</th>\n",
       "      <th>Item_MRP</th>\n",
       "      <th>old</th>\n",
       "    </tr>\n",
       "  </thead>\n",
       "  <tbody>\n",
       "    <tr>\n",
       "      <td>0</td>\n",
       "      <td>20.75000</td>\n",
       "      <td>0.00756</td>\n",
       "      <td>107.86220</td>\n",
       "      <td>14</td>\n",
       "    </tr>\n",
       "    <tr>\n",
       "      <td>1</td>\n",
       "      <td>8.30000</td>\n",
       "      <td>0.03843</td>\n",
       "      <td>87.31980</td>\n",
       "      <td>6</td>\n",
       "    </tr>\n",
       "    <tr>\n",
       "      <td>2</td>\n",
       "      <td>14.60000</td>\n",
       "      <td>0.09957</td>\n",
       "      <td>241.75380</td>\n",
       "      <td>15</td>\n",
       "    </tr>\n",
       "    <tr>\n",
       "      <td>3</td>\n",
       "      <td>7.31500</td>\n",
       "      <td>0.01539</td>\n",
       "      <td>155.03400</td>\n",
       "      <td>6</td>\n",
       "    </tr>\n",
       "  </tbody>\n",
       "</table>\n",
       "</div>"
      ],
      "text/plain": [
       "   Item_Weight  Item_Visibility  Item_MRP  old\n",
       "0     20.75000          0.00756 107.86220   14\n",
       "1      8.30000          0.03843  87.31980    6\n",
       "2     14.60000          0.09957 241.75380   15\n",
       "3      7.31500          0.01539 155.03400    6"
      ]
     },
     "execution_count": 22,
     "metadata": {},
     "output_type": "execute_result"
    }
   ],
   "source": [
    "test_num = test.select_dtypes(exclude  = \"object\")\n",
    "test_num.head(4)"
   ]
  },
  {
   "cell_type": "code",
   "execution_count": 23,
   "metadata": {
    "ExecuteTime": {
     "end_time": "2020-11-03T17:09:31.679889Z",
     "start_time": "2020-11-03T17:09:31.164783Z"
    }
   },
   "outputs": [
    {
     "data": {
      "text/plain": [
       "<AxesSubplot:>"
      ]
     },
     "execution_count": 23,
     "metadata": {},
     "output_type": "execute_result"
    },
    {
     "data": {
      "image/png": "[encoded data removed]",
      "text/plain": [
       "<Figure size 432x288 with 1 Axes>"
      ]
     },
     "metadata": {
      "needs_background": "light"
     },
     "output_type": "display_data"
    }
   ],
   "source": [
    "train.Item_Outlet_Sales.hist()"
   ]
  },
  {
   "cell_type": "code",
   "execution_count": 24,
   "metadata": {
    "ExecuteTime": {
     "end_time": "2020-11-03T17:09:31.714729Z",
     "start_time": "2020-11-03T17:09:31.684854Z"
    }
   },
   "outputs": [
    {
     "data": {
      "text/plain": [
       "(Item_Identifier            0\n",
       " Item_Weight             1463\n",
       " Item_Fat_Content           0\n",
       " Item_Visibility            0\n",
       " Item_Type                  0\n",
       " Item_MRP                   0\n",
       " Outlet_Identifier          0\n",
       " Outlet_Size             2410\n",
       " Outlet_Location_Type       0\n",
       " Outlet_Type                0\n",
       " Item_Outlet_Sales          0\n",
       " old                        0\n",
       " dtype: int64,\n",
       " Item_Identifier            0\n",
       " Item_Weight              976\n",
       " Item_Fat_Content           0\n",
       " Item_Visibility            0\n",
       " Item_Type                  0\n",
       " Item_MRP                   0\n",
       " Outlet_Identifier          0\n",
       " Outlet_Size             1606\n",
       " Outlet_Location_Type       0\n",
       " Outlet_Type                0\n",
       " old                        0\n",
       " dtype: int64)"
      ]
     },
     "execution_count": 24,
     "metadata": {},
     "output_type": "execute_result"
    }
   ],
   "source": [
    "train.isna().sum() , test.isna().sum()"
   ]
  },
  {
   "cell_type": "code",
   "execution_count": 25,
   "metadata": {
    "ExecuteTime": {
     "end_time": "2020-11-03T17:09:31.723632Z",
     "start_time": "2020-11-03T17:09:31.717772Z"
    }
   },
   "outputs": [],
   "source": [
    "Item_Weight_mean = train['Item_Weight'].mean()"
   ]
  },
  {
   "cell_type": "code",
   "execution_count": 26,
   "metadata": {
    "ExecuteTime": {
     "end_time": "2020-11-03T17:09:31.741493Z",
     "start_time": "2020-11-03T17:09:31.726592Z"
    }
   },
   "outputs": [],
   "source": [
    "train['Item_Weight'] = train['Item_Weight'].fillna(Item_Weight_mean)\n",
    "test['Item_Weight'] = test['Item_Weight'].fillna(test['Item_Weight'].mean())"
   ]
  },
  {
   "cell_type": "code",
   "execution_count": 27,
   "metadata": {
    "ExecuteTime": {
     "end_time": "2020-11-03T17:09:31.760408Z",
     "start_time": "2020-11-03T17:09:31.746463Z"
    }
   },
   "outputs": [
    {
     "data": {
      "text/plain": [
       "Medium    2793\n",
       "Small     2388\n",
       "High       932\n",
       "Name: Outlet_Size, dtype: int64"
      ]
     },
     "execution_count": 27,
     "metadata": {},
     "output_type": "execute_result"
    }
   ],
   "source": [
    "train_cat.Outlet_Size.value_counts()"
   ]
  },
  {
   "cell_type": "code",
   "execution_count": 28,
   "metadata": {
    "ExecuteTime": {
     "end_time": "2020-11-03T17:09:31.771340Z",
     "start_time": "2020-11-03T17:09:31.764441Z"
    }
   },
   "outputs": [],
   "source": [
    "smp = SimpleImputer(missing_values=np.nan, strategy='most_frequent',verbose=1)\n",
    "smp_num = SimpleImputer (missing_values=np.nan, strategy= \"mean\",verbose =1 )"
   ]
  },
  {
   "cell_type": "code",
   "execution_count": 29,
   "metadata": {
    "ExecuteTime": {
     "end_time": "2020-11-03T17:09:31.788224Z",
     "start_time": "2020-11-03T17:09:31.775282Z"
    }
   },
   "outputs": [
    {
     "data": {
      "text/plain": [
       "SimpleImputer(strategy='most_frequent', verbose=1)"
      ]
     },
     "execution_count": 29,
     "metadata": {},
     "output_type": "execute_result"
    }
   ],
   "source": [
    "smp"
   ]
  },
  {
   "cell_type": "code",
   "execution_count": 30,
   "metadata": {
    "ExecuteTime": {
     "end_time": "2020-11-03T17:09:31.818052Z",
     "start_time": "2020-11-03T17:09:31.792175Z"
    }
   },
   "outputs": [],
   "source": [
    "train_cat = train_cat.astype(\"category\")"
   ]
  },
  {
   "cell_type": "code",
   "execution_count": 31,
   "metadata": {
    "ExecuteTime": {
     "end_time": "2020-11-03T17:09:32.076791Z",
     "start_time": "2020-11-03T17:09:31.821013Z"
    }
   },
   "outputs": [],
   "source": [
    "train_cat_impute = pd.DataFrame (smp.fit_transform(train_cat),columns= train_cat.columns)"
   ]
  },
  {
   "cell_type": "code",
   "execution_count": 32,
   "metadata": {
    "ExecuteTime": {
     "end_time": "2020-11-03T17:09:32.104551Z",
     "start_time": "2020-11-03T17:09:32.082687Z"
    }
   },
   "outputs": [
    {
     "name": "stdout",
     "output_type": "stream",
     "text": [
      "<class 'pandas.core.frame.DataFrame'>\n",
      "RangeIndex: 8523 entries, 0 to 8522\n",
      "Data columns (total 7 columns):\n",
      "Item_Identifier         8523 non-null object\n",
      "Item_Fat_Content        8523 non-null object\n",
      "Item_Type               8523 non-null object\n",
      "Outlet_Identifier       8523 non-null object\n",
      "Outlet_Size             8523 non-null object\n",
      "Outlet_Location_Type    8523 non-null object\n",
      "Outlet_Type             8523 non-null object\n",
      "dtypes: object(7)\n",
      "memory usage: 466.2+ KB\n"
     ]
    }
   ],
   "source": [
    "train_cat_impute.info()"
   ]
  },
  {
   "cell_type": "code",
   "execution_count": 33,
   "metadata": {
    "ExecuteTime": {
     "end_time": "2020-11-03T17:09:32.279639Z",
     "start_time": "2020-11-03T17:09:32.110577Z"
    }
   },
   "outputs": [],
   "source": [
    "test_cat_impute = pd.DataFrame(smp.fit_transform(test_cat),columns=test_cat.columns)"
   ]
  },
  {
   "cell_type": "code",
   "execution_count": 34,
   "metadata": {
    "ExecuteTime": {
     "end_time": "2020-11-03T17:09:32.305394Z",
     "start_time": "2020-11-03T17:09:32.283571Z"
    }
   },
   "outputs": [
    {
     "name": "stdout",
     "output_type": "stream",
     "text": [
      "<class 'pandas.core.frame.DataFrame'>\n",
      "RangeIndex: 5681 entries, 0 to 5680\n",
      "Data columns (total 7 columns):\n",
      "Item_Identifier         5681 non-null object\n",
      "Item_Fat_Content        5681 non-null object\n",
      "Item_Type               5681 non-null object\n",
      "Outlet_Identifier       5681 non-null object\n",
      "Outlet_Size             5681 non-null object\n",
      "Outlet_Location_Type    5681 non-null object\n",
      "Outlet_Type             5681 non-null object\n",
      "dtypes: object(7)\n",
      "memory usage: 310.8+ KB\n"
     ]
    }
   ],
   "source": [
    "test_cat_impute.info()"
   ]
  },
  {
   "cell_type": "code",
   "execution_count": 35,
   "metadata": {
    "ExecuteTime": {
     "end_time": "2020-11-03T17:09:32.334222Z",
     "start_time": "2020-11-03T17:09:32.310374Z"
    }
   },
   "outputs": [],
   "source": [
    "train_num_imput = pd.DataFrame(smp_num.fit_transform(train_num), columns= train_num.columns)"
   ]
  },
  {
   "cell_type": "code",
   "execution_count": 36,
   "metadata": {
    "ExecuteTime": {
     "end_time": "2020-11-03T17:09:32.352616Z",
     "start_time": "2020-11-03T17:09:32.338227Z"
    }
   },
   "outputs": [
    {
     "name": "stdout",
     "output_type": "stream",
     "text": [
      "<class 'pandas.core.frame.DataFrame'>\n",
      "RangeIndex: 8523 entries, 0 to 8522\n",
      "Data columns (total 5 columns):\n",
      "Item_Weight          8523 non-null float64\n",
      "Item_Visibility      8523 non-null float64\n",
      "Item_MRP             8523 non-null float64\n",
      "Item_Outlet_Sales    8523 non-null float64\n",
      "old                  8523 non-null float64\n",
      "dtypes: float64(5)\n",
      "memory usage: 333.1 KB\n"
     ]
    }
   ],
   "source": [
    "train_num_imput.info()"
   ]
  },
  {
   "cell_type": "code",
   "execution_count": 37,
   "metadata": {
    "ExecuteTime": {
     "end_time": "2020-11-03T17:09:32.379494Z",
     "start_time": "2020-11-03T17:09:32.357582Z"
    }
   },
   "outputs": [],
   "source": [
    "test_num_imput = pd.DataFrame(smp_num.fit_transform(test_num),columns= test_num.columns)"
   ]
  },
  {
   "cell_type": "code",
   "execution_count": 38,
   "metadata": {
    "ExecuteTime": {
     "end_time": "2020-11-03T17:09:32.445155Z",
     "start_time": "2020-11-03T17:09:32.383416Z"
    }
   },
   "outputs": [
    {
     "data": {
      "text/html": [
       "<div>\n",
       "<style scoped>\n",
       "    .dataframe tbody tr th:only-of-type {\n",
       "        vertical-align: middle;\n",
       "    }\n",
       "\n",
       "    .dataframe tbody tr th {\n",
       "        vertical-align: top;\n",
       "    }\n",
       "\n",
       "    .dataframe thead th {\n",
       "        text-align: right;\n",
       "    }\n",
       "</style>\n",
       "<table border=\"1\" class=\"dataframe\">\n",
       "  <thead>\n",
       "    <tr style=\"text-align: right;\">\n",
       "      <th></th>\n",
       "      <th>Item_Weight</th>\n",
       "      <th>Item_Visibility</th>\n",
       "      <th>Item_MRP</th>\n",
       "      <th>Item_Outlet_Sales</th>\n",
       "      <th>old</th>\n",
       "    </tr>\n",
       "  </thead>\n",
       "  <tbody>\n",
       "    <tr>\n",
       "      <td>count</td>\n",
       "      <td>8523.00000</td>\n",
       "      <td>8523.00000</td>\n",
       "      <td>8523.00000</td>\n",
       "      <td>8523.00000</td>\n",
       "      <td>8523.00000</td>\n",
       "    </tr>\n",
       "    <tr>\n",
       "      <td>mean</td>\n",
       "      <td>12.85765</td>\n",
       "      <td>0.06613</td>\n",
       "      <td>140.99278</td>\n",
       "      <td>2181.28891</td>\n",
       "      <td>15.16813</td>\n",
       "    </tr>\n",
       "    <tr>\n",
       "      <td>std</td>\n",
       "      <td>4.22612</td>\n",
       "      <td>0.05160</td>\n",
       "      <td>62.27507</td>\n",
       "      <td>1706.49962</td>\n",
       "      <td>8.37176</td>\n",
       "    </tr>\n",
       "    <tr>\n",
       "      <td>min</td>\n",
       "      <td>4.55500</td>\n",
       "      <td>0.00000</td>\n",
       "      <td>31.29000</td>\n",
       "      <td>33.29000</td>\n",
       "      <td>4.00000</td>\n",
       "    </tr>\n",
       "    <tr>\n",
       "      <td>25%</td>\n",
       "      <td>9.31000</td>\n",
       "      <td>0.02699</td>\n",
       "      <td>93.82650</td>\n",
       "      <td>834.24740</td>\n",
       "      <td>9.00000</td>\n",
       "    </tr>\n",
       "    <tr>\n",
       "      <td>50%</td>\n",
       "      <td>12.85765</td>\n",
       "      <td>0.05393</td>\n",
       "      <td>143.01280</td>\n",
       "      <td>1794.33100</td>\n",
       "      <td>14.00000</td>\n",
       "    </tr>\n",
       "    <tr>\n",
       "      <td>75%</td>\n",
       "      <td>16.00000</td>\n",
       "      <td>0.09459</td>\n",
       "      <td>185.64370</td>\n",
       "      <td>3101.29640</td>\n",
       "      <td>26.00000</td>\n",
       "    </tr>\n",
       "    <tr>\n",
       "      <td>max</td>\n",
       "      <td>21.35000</td>\n",
       "      <td>0.32839</td>\n",
       "      <td>266.88840</td>\n",
       "      <td>13086.96480</td>\n",
       "      <td>28.00000</td>\n",
       "    </tr>\n",
       "  </tbody>\n",
       "</table>\n",
       "</div>"
      ],
      "text/plain": [
       "       Item_Weight  Item_Visibility   Item_MRP  Item_Outlet_Sales        old\n",
       "count   8523.00000       8523.00000 8523.00000         8523.00000 8523.00000\n",
       "mean      12.85765          0.06613  140.99278         2181.28891   15.16813\n",
       "std        4.22612          0.05160   62.27507         1706.49962    8.37176\n",
       "min        4.55500          0.00000   31.29000           33.29000    4.00000\n",
       "25%        9.31000          0.02699   93.82650          834.24740    9.00000\n",
       "50%       12.85765          0.05393  143.01280         1794.33100   14.00000\n",
       "75%       16.00000          0.09459  185.64370         3101.29640   26.00000\n",
       "max       21.35000          0.32839  266.88840        13086.96480   28.00000"
      ]
     },
     "execution_count": 38,
     "metadata": {},
     "output_type": "execute_result"
    }
   ],
   "source": [
    "train_num_imput.describe()\n"
   ]
  },
  {
   "cell_type": "code",
   "execution_count": 39,
   "metadata": {
    "ExecuteTime": {
     "end_time": "2020-11-03T17:09:32.459037Z",
     "start_time": "2020-11-03T17:09:32.449140Z"
    }
   },
   "outputs": [
    {
     "data": {
      "text/plain": [
       "0.06613202877895127"
      ]
     },
     "execution_count": 39,
     "metadata": {},
     "output_type": "execute_result"
    }
   ],
   "source": [
    "train_num_imput['Item_Visibility'].mean()"
   ]
  },
  {
   "cell_type": "code",
   "execution_count": 40,
   "metadata": {
    "ExecuteTime": {
     "end_time": "2020-11-03T17:09:32.474974Z",
     "start_time": "2020-11-03T17:09:32.463010Z"
    }
   },
   "outputs": [],
   "source": [
    "train_num_imput['Item_Visibility'].replace(0,train_num_imput['Item_Visibility'].mean(),inplace = True) \n",
    "test_num_imput['Item_Visibility'].replace(0,test_num_imput['Item_Visibility'].mean(),inplace= True)"
   ]
  },
  {
   "cell_type": "code",
   "execution_count": 41,
   "metadata": {
    "ExecuteTime": {
     "end_time": "2020-11-03T17:09:32.509064Z",
     "start_time": "2020-11-03T17:09:32.480896Z"
    }
   },
   "outputs": [
    {
     "data": {
      "text/html": [
       "<div>\n",
       "<style scoped>\n",
       "    .dataframe tbody tr th:only-of-type {\n",
       "        vertical-align: middle;\n",
       "    }\n",
       "\n",
       "    .dataframe tbody tr th {\n",
       "        vertical-align: top;\n",
       "    }\n",
       "\n",
       "    .dataframe thead th {\n",
       "        text-align: right;\n",
       "    }\n",
       "</style>\n",
       "<table border=\"1\" class=\"dataframe\">\n",
       "  <thead>\n",
       "    <tr style=\"text-align: right;\">\n",
       "      <th></th>\n",
       "      <th>Item_Identifier</th>\n",
       "      <th>Item_Fat_Content</th>\n",
       "      <th>Item_Type</th>\n",
       "      <th>Outlet_Identifier</th>\n",
       "      <th>Outlet_Size</th>\n",
       "      <th>Outlet_Location_Type</th>\n",
       "      <th>Outlet_Type</th>\n",
       "    </tr>\n",
       "  </thead>\n",
       "  <tbody>\n",
       "    <tr>\n",
       "      <td>0</td>\n",
       "      <td>FDA15</td>\n",
       "      <td>Low Fat</td>\n",
       "      <td>Dairy</td>\n",
       "      <td>OUT049</td>\n",
       "      <td>Medium</td>\n",
       "      <td>Tier 1</td>\n",
       "      <td>Supermarket Type1</td>\n",
       "    </tr>\n",
       "    <tr>\n",
       "      <td>1</td>\n",
       "      <td>DRC01</td>\n",
       "      <td>Regular</td>\n",
       "      <td>Soft Drinks</td>\n",
       "      <td>OUT018</td>\n",
       "      <td>Medium</td>\n",
       "      <td>Tier 3</td>\n",
       "      <td>Supermarket Type2</td>\n",
       "    </tr>\n",
       "    <tr>\n",
       "      <td>2</td>\n",
       "      <td>FDN15</td>\n",
       "      <td>Low Fat</td>\n",
       "      <td>Meat</td>\n",
       "      <td>OUT049</td>\n",
       "      <td>Medium</td>\n",
       "      <td>Tier 1</td>\n",
       "      <td>Supermarket Type1</td>\n",
       "    </tr>\n",
       "    <tr>\n",
       "      <td>3</td>\n",
       "      <td>FDX07</td>\n",
       "      <td>Regular</td>\n",
       "      <td>Fruits and Vegetables</td>\n",
       "      <td>OUT010</td>\n",
       "      <td>Medium</td>\n",
       "      <td>Tier 3</td>\n",
       "      <td>Grocery Store</td>\n",
       "    </tr>\n",
       "    <tr>\n",
       "      <td>4</td>\n",
       "      <td>NCD19</td>\n",
       "      <td>Low Fat</td>\n",
       "      <td>Household</td>\n",
       "      <td>OUT013</td>\n",
       "      <td>High</td>\n",
       "      <td>Tier 3</td>\n",
       "      <td>Supermarket Type1</td>\n",
       "    </tr>\n",
       "  </tbody>\n",
       "</table>\n",
       "</div>"
      ],
      "text/plain": [
       "  Item_Identifier Item_Fat_Content              Item_Type Outlet_Identifier  \\\n",
       "0           FDA15          Low Fat                  Dairy            OUT049   \n",
       "1           DRC01          Regular            Soft Drinks            OUT018   \n",
       "2           FDN15          Low Fat                   Meat            OUT049   \n",
       "3           FDX07          Regular  Fruits and Vegetables            OUT010   \n",
       "4           NCD19          Low Fat              Household            OUT013   \n",
       "\n",
       "  Outlet_Size Outlet_Location_Type        Outlet_Type  \n",
       "0      Medium               Tier 1  Supermarket Type1  \n",
       "1      Medium               Tier 3  Supermarket Type2  \n",
       "2      Medium               Tier 1  Supermarket Type1  \n",
       "3      Medium               Tier 3      Grocery Store  \n",
       "4        High               Tier 3  Supermarket Type1  "
      ]
     },
     "execution_count": 41,
     "metadata": {},
     "output_type": "execute_result"
    }
   ],
   "source": [
    "train_cat_impute.head()"
   ]
  },
  {
   "cell_type": "code",
   "execution_count": 42,
   "metadata": {
    "ExecuteTime": {
     "end_time": "2020-11-03T17:09:32.525725Z",
     "start_time": "2020-11-03T17:09:32.513897Z"
    }
   },
   "outputs": [
    {
     "data": {
      "text/plain": [
       "Index(['Item_Identifier', 'Item_Fat_Content', 'Item_Type', 'Outlet_Identifier',\n",
       "       'Outlet_Size', 'Outlet_Location_Type', 'Outlet_Type'],\n",
       "      dtype='object')"
      ]
     },
     "execution_count": 42,
     "metadata": {},
     "output_type": "execute_result"
    }
   ],
   "source": [
    "#data = pd.get_dummies(data, columns=['Item_Fat_Content','Outlet_Location_Type','Outlet_Size','Outlet_Type',\n",
    "train_cat_impute.columns"
   ]
  },
  {
   "cell_type": "code",
   "execution_count": 43,
   "metadata": {
    "ExecuteTime": {
     "end_time": "2020-11-03T17:09:32.583535Z",
     "start_time": "2020-11-03T17:09:32.530584Z"
    }
   },
   "outputs": [],
   "source": [
    "train_cat_new =  pd.get_dummies(train_cat_impute,columns=['Item_Fat_Content','Item_Type','Outlet_Location_Type', \n",
    "                                                          'Outlet_Size','Outlet_Type'])\n",
    "test_cat_new = pd.get_dummies(test_cat_impute,columns=['Item_Fat_Content','Item_Type','Outlet_Location_Type', \n",
    "                                                          'Outlet_Size','Outlet_Type'])\n",
    "#test_cat_new = pd.get_dummies(test_cat_impute)"
   ]
  },
  {
   "cell_type": "code",
   "execution_count": 44,
   "metadata": {
    "ExecuteTime": {
     "end_time": "2020-11-03T17:09:32.600387Z",
     "start_time": "2020-11-03T17:09:32.587497Z"
    }
   },
   "outputs": [
    {
     "data": {
      "text/plain": [
       "((8523, 30), (8523, 5), (5681, 30), (5681, 4))"
      ]
     },
     "execution_count": 44,
     "metadata": {},
     "output_type": "execute_result"
    }
   ],
   "source": [
    "train_cat_new.shape, train_num.shape, test_cat_new.shape, test_num.shape"
   ]
  },
  {
   "cell_type": "code",
   "execution_count": 45,
   "metadata": {
    "ExecuteTime": {
     "end_time": "2020-11-03T17:09:32.622295Z",
     "start_time": "2020-11-03T17:09:32.605428Z"
    }
   },
   "outputs": [],
   "source": [
    "train_new = pd.concat([train_num_imput,train_cat_new],axis=1)\n",
    "test_new = pd.concat([test_num_imput, test_cat_new],axis =1)"
   ]
  },
  {
   "cell_type": "code",
   "execution_count": 46,
   "metadata": {
    "ExecuteTime": {
     "end_time": "2020-11-03T17:09:32.637150Z",
     "start_time": "2020-11-03T17:09:32.626220Z"
    }
   },
   "outputs": [
    {
     "data": {
      "text/plain": [
       "((8523, 35), (5681, 34))"
      ]
     },
     "execution_count": 46,
     "metadata": {},
     "output_type": "execute_result"
    }
   ],
   "source": [
    "train_new.shape, test_new.shape"
   ]
  },
  {
   "cell_type": "code",
   "execution_count": 47,
   "metadata": {
    "ExecuteTime": {
     "end_time": "2020-11-03T17:09:32.647088Z",
     "start_time": "2020-11-03T17:09:32.641122Z"
    }
   },
   "outputs": [],
   "source": [
    "#missing_col = train_new.columns.difference(test_new.columns)"
   ]
  },
  {
   "cell_type": "code",
   "execution_count": 48,
   "metadata": {
    "ExecuteTime": {
     "end_time": "2020-11-03T17:09:32.659006Z",
     "start_time": "2020-11-03T17:09:32.652092Z"
    }
   },
   "outputs": [],
   "source": [
    "#missing_col"
   ]
  },
  {
   "cell_type": "code",
   "execution_count": 49,
   "metadata": {
    "ExecuteTime": {
     "end_time": "2020-11-03T17:09:32.670933Z",
     "start_time": "2020-11-03T17:09:32.664021Z"
    }
   },
   "outputs": [],
   "source": [
    "# #missing_col1 = set(train_new) - set(test_new)\n",
    "# missing_col1\n",
    "# missing_col2 = missing_col1.copy()\n",
    "# missing_col3 = missing_col1"
   ]
  },
  {
   "cell_type": "code",
   "execution_count": 50,
   "metadata": {
    "ExecuteTime": {
     "end_time": "2020-11-03T17:09:32.681872Z",
     "start_time": "2020-11-03T17:09:32.675900Z"
    }
   },
   "outputs": [],
   "source": [
    "# missing_col2.remove('Item_Outlet_Sales')\n",
    "# for c in missing_col2:\n",
    "#     test_new[c] = 0"
   ]
  },
  {
   "cell_type": "code",
   "execution_count": 51,
   "metadata": {
    "ExecuteTime": {
     "end_time": "2020-11-03T17:09:32.700743Z",
     "start_time": "2020-11-03T17:09:32.688819Z"
    }
   },
   "outputs": [],
   "source": [
    "#X_test = X_test[X_train.columns]\n",
    "#test_new1 = test_new[x_test.columns]\n",
    "train_new_copy = train_new.copy()\n",
    "test_new_copy = test_new.copy()"
   ]
  },
  {
   "cell_type": "code",
   "execution_count": 52,
   "metadata": {
    "ExecuteTime": {
     "end_time": "2020-11-03T17:09:32.734602Z",
     "start_time": "2020-11-03T17:09:32.706709Z"
    }
   },
   "outputs": [
    {
     "data": {
      "text/plain": [
       "((8523, 32), (5681, 31))"
      ]
     },
     "execution_count": 52,
     "metadata": {},
     "output_type": "execute_result"
    }
   ],
   "source": [
    "train_new.drop(['Item_Identifier'],axis=1,inplace=True)\n",
    "test_new.drop(['Item_Identifier'],axis=1,inplace=True)\n",
    "train_new.drop(['Outlet_Identifier'],axis=1,inplace=True)\n",
    "test_new.drop(['Outlet_Identifier'],axis=1,inplace=True)\n",
    "train_new.drop(['Item_Weight'],axis=1,inplace=True)\n",
    "test_new.drop(['Item_Weight'],axis=1,inplace=True)\n",
    "\n",
    "train_new.shape , test_new.shape"
   ]
  },
  {
   "cell_type": "code",
   "execution_count": 53,
   "metadata": {
    "ExecuteTime": {
     "end_time": "2020-11-03T17:09:32.768907Z",
     "start_time": "2020-11-03T17:09:32.738505Z"
    }
   },
   "outputs": [],
   "source": [
    "#X_train, X_test,y_train, y_test = sk.model_selection.train_test_split(data.loc[:,data.columns != \"target\"],data[[\"target\"]], \n",
    " #                                                  test_size = 0.10 ,random_state = 123)\n",
    "\n",
    "x_train, x_test, y_train, y_test = train_test_split( train_new.loc[:,train_new.columns!= \"Item_Outlet_Sales\"],\n",
    "          train_new.loc[:,train_new.columns == \"Item_Outlet_Sales\"], test_size = .10 , random_state =123)"
   ]
  },
  {
   "cell_type": "code",
   "execution_count": 54,
   "metadata": {
    "ExecuteTime": {
     "end_time": "2020-11-03T17:09:32.785783Z",
     "start_time": "2020-11-03T17:09:32.773832Z"
    }
   },
   "outputs": [
    {
     "data": {
      "text/plain": [
       "((7670, 31), (853, 31), (7670, 1), (853, 1))"
      ]
     },
     "execution_count": 54,
     "metadata": {},
     "output_type": "execute_result"
    }
   ],
   "source": [
    "x_train.shape  , x_test.shape, y_train.shape, y_test.shape"
   ]
  },
  {
   "cell_type": "code",
   "execution_count": 55,
   "metadata": {
    "ExecuteTime": {
     "end_time": "2020-11-03T17:09:32.832528Z",
     "start_time": "2020-11-03T17:09:32.790721Z"
    }
   },
   "outputs": [],
   "source": [
    "from sklearn.feature_selection import SelectKBest\n",
    "from sklearn.feature_selection import chi2\n",
    "from sklearn.feature_selection import RFE\n",
    "pd.set_option('display.max_rows',500)\n",
    "pd.set_option('display.max_columns',500)\n",
    "pd.set_option('display.width',1000)\n",
    "\n",
    "array_x = x_train.values\n",
    "array_y = y_train.values"
   ]
  },
  {
   "cell_type": "code",
   "execution_count": 56,
   "metadata": {
    "ExecuteTime": {
     "end_time": "2020-11-03T17:09:32.841430Z",
     "start_time": "2020-11-03T17:09:32.836509Z"
    }
   },
   "outputs": [],
   "source": [
    "# kbest = SelectKBest(score_func=chi2, k=4)\n",
    "# fit = kbest.fit(array_x, array_y)\n",
    "# # summarize scores\n",
    "# set_printoptions(precision=3)\n",
    "# print(fit.scores_)\n",
    "# features = fit.transform(array_x)\n",
    "# # summarize selected features\n",
    "# print(features[0:5,:])"
   ]
  },
  {
   "cell_type": "code",
   "execution_count": 57,
   "metadata": {
    "ExecuteTime": {
     "end_time": "2020-11-03T17:09:33.194567Z",
     "start_time": "2020-11-03T17:09:32.846368Z"
    }
   },
   "outputs": [
    {
     "name": "stderr",
     "output_type": "stream",
     "text": [
      "C:\\Users\\esacsat\\AppData\\Local\\Continuum\\anaconda3\\lib\\site-packages\\sklearn\\utils\\validation.py:70: FutureWarning: Pass n_features_to_select=20 as keyword args. From version 0.25 passing these as positional arguments will result in an error\n",
      "  FutureWarning)\n"
     ]
    },
    {
     "name": "stdout",
     "output_type": "stream",
     "text": [
      "[ 1  7  4  5  1  1  1  1  9  1  1  8  1  1  1 11  1  1  1 12  6  2 10  1\n",
      "  1  3  1  1  1  1  1]\n",
      "[ True False False False  True  True  True  True False  True  True False\n",
      "  True  True  True False  True  True  True False False False False  True\n",
      "  True False  True  True  True  True  True]\n",
      "Index(['Item_Visibility', 'Item_Fat_Content_Regular', 'Item_Type_Baking Goods', 'Item_Type_Breads', 'Item_Type_Breakfast', 'Item_Type_Dairy', 'Item_Type_Frozen Foods', 'Item_Type_Hard Drinks', 'Item_Type_Health and Hygiene', 'Item_Type_Household', 'Item_Type_Others', 'Item_Type_Seafood', 'Item_Type_Snack Foods', 'Outlet_Location_Type_Tier 3', 'Outlet_Size_High', 'Outlet_Size_Small', 'Outlet_Type_Grocery Store', 'Outlet_Type_Supermarket Type1', 'Outlet_Type_Supermarket Type2', 'Outlet_Type_Supermarket Type3'], dtype='object')\n"
     ]
    },
    {
     "data": {
      "text/plain": [
       "Index(['Item_Visibility', 'Item_MRP', 'old', 'Item_Fat_Content_Low Fat', 'Item_Fat_Content_Regular', 'Item_Type_Baking Goods', 'Item_Type_Breads', 'Item_Type_Breakfast', 'Item_Type_Canned', 'Item_Type_Dairy', 'Item_Type_Frozen Foods', 'Item_Type_Fruits and Vegetables', 'Item_Type_Hard Drinks', 'Item_Type_Health and Hygiene', 'Item_Type_Household', 'Item_Type_Meat', 'Item_Type_Others', 'Item_Type_Seafood', 'Item_Type_Snack Foods', 'Item_Type_Soft Drinks', 'Item_Type_Starchy Foods', 'Outlet_Location_Type_Tier 1', 'Outlet_Location_Type_Tier 2', 'Outlet_Location_Type_Tier 3', 'Outlet_Size_High', 'Outlet_Size_Medium', 'Outlet_Size_Small', 'Outlet_Type_Grocery Store', 'Outlet_Type_Supermarket Type1', 'Outlet_Type_Supermarket Type2', 'Outlet_Type_Supermarket Type3'], dtype='object')"
      ]
     },
     "execution_count": 57,
     "metadata": {},
     "output_type": "execute_result"
    }
   ],
   "source": [
    "model = LinearRegression()\n",
    "rfe = RFE(model, 20)\n",
    "fit = rfe.fit(array_x, array_y)\n",
    "\n",
    "#set_printoptions(precision=)\n",
    "print (fit.ranking_)\n",
    "print (fit.support_)\n",
    "print(x_train.columns[fit.support_])\n",
    "x_train.columns"
   ]
  },
  {
   "cell_type": "code",
   "execution_count": 58,
   "metadata": {
    "ExecuteTime": {
     "end_time": "2020-11-03T17:09:33.204535Z",
     "start_time": "2020-11-03T17:09:33.199446Z"
    }
   },
   "outputs": [],
   "source": [
    "# from sklearn.linear_model import LogisticRegression\n",
    "# model = LogisticRegression()\n",
    "# fit = model.fit(array_x, array_y)\n",
    "\n",
    "# #set_printoptions(precision=)\n",
    "# print(\"Num Features: %d\") % fit.n_features_\n",
    "# print(\"Selected Features: %s\") % fit.support_\n",
    "# print(\"Feature Ranking: %s\") % fit.ranking\n",
    "# print(x_train.columns[fit.support_])\n",
    "# print(x_train.columns)"
   ]
  },
  {
   "cell_type": "markdown",
   "metadata": {},
   "source": [
    "# x_train, x_test, y_train, y_test and test_new1 for models`"
   ]
  },
  {
   "cell_type": "code",
   "execution_count": 59,
   "metadata": {
    "ExecuteTime": {
     "end_time": "2020-11-03T17:09:33.215419Z",
     "start_time": "2020-11-03T17:09:33.209142Z"
    }
   },
   "outputs": [],
   "source": [
    "modelLR = Ridge() #LinearRegression()"
   ]
  },
  {
   "cell_type": "code",
   "execution_count": 60,
   "metadata": {
    "ExecuteTime": {
     "end_time": "2020-11-03T17:09:33.229257Z",
     "start_time": "2020-11-03T17:09:33.219320Z"
    }
   },
   "outputs": [
    {
     "data": {
      "text/plain": [
       "Ridge()"
      ]
     },
     "execution_count": 60,
     "metadata": {},
     "output_type": "execute_result"
    }
   ],
   "source": [
    "modelLR"
   ]
  },
  {
   "cell_type": "code",
   "execution_count": 61,
   "metadata": {
    "ExecuteTime": {
     "end_time": "2020-11-03T17:09:33.271914Z",
     "start_time": "2020-11-03T17:09:33.234226Z"
    }
   },
   "outputs": [],
   "source": [
    "lm = modelLR.fit(x_train,y_train)"
   ]
  },
  {
   "cell_type": "code",
   "execution_count": 62,
   "metadata": {
    "ExecuteTime": {
     "end_time": "2020-11-03T17:09:33.297573Z",
     "start_time": "2020-11-03T17:09:33.276706Z"
    }
   },
   "outputs": [
    {
     "name": "stdout",
     "output_type": "stream",
     "text": [
      "coefficient of determination: 0.5631131717033941\n"
     ]
    }
   ],
   "source": [
    "print('coefficient of determination:',lm.score(x_train,y_train))"
   ]
  },
  {
   "cell_type": "code",
   "execution_count": 63,
   "metadata": {
    "ExecuteTime": {
     "end_time": "2020-11-03T17:09:33.309475Z",
     "start_time": "2020-11-03T17:09:33.301525Z"
    }
   },
   "outputs": [
    {
     "name": "stdout",
     "output_type": "stream",
     "text": [
      "slope: [[-1.32264900e+02  1.55855607e+01 -3.43487047e+01 -1.90210367e+01\n",
      "   1.90210367e+01 -2.24603135e+01 -1.30306097e+01  4.95777172e+01\n",
      "   1.15024802e+01 -3.03609762e+01 -3.31260970e+01  1.68551351e+01\n",
      "  -3.36677727e+01 -2.71489301e+01 -3.78681758e+01  5.42955800e+00\n",
      "  -4.38300269e+01  2.35942315e+02 -3.58316392e+01 -4.20886435e-01\n",
      "  -4.15617779e+01  1.91906738e+02  6.46249359e+00 -1.98369231e+02\n",
      "   5.05241701e+02 -2.92345839e+02 -2.12895862e+02 -1.65518862e+03\n",
      "  -1.29914306e+02 -3.89475334e+02  2.17457826e+03]]\n",
      "intercept: [840.21481399]\n"
     ]
    }
   ],
   "source": [
    "print('slope:', lm.coef_)\n",
    "print('intercept:', lm.intercept_)"
   ]
  },
  {
   "cell_type": "code",
   "execution_count": 64,
   "metadata": {
    "ExecuteTime": {
     "end_time": "2020-11-03T17:09:33.333322Z",
     "start_time": "2020-11-03T17:09:33.313450Z"
    }
   },
   "outputs": [],
   "source": [
    " y_train_pred = lm.predict(x_train)"
   ]
  },
  {
   "cell_type": "code",
   "execution_count": 65,
   "metadata": {
    "ExecuteTime": {
     "end_time": "2020-11-03T17:09:33.390538Z",
     "start_time": "2020-11-03T17:09:33.338291Z"
    }
   },
   "outputs": [],
   "source": [
    "y_pred = lm.intercept_ + np.sum(lm.coef_ * x_train, axis=1)"
   ]
  },
  {
   "cell_type": "code",
   "execution_count": 66,
   "metadata": {
    "ExecuteTime": {
     "end_time": "2020-11-03T17:09:33.409419Z",
     "start_time": "2020-11-03T17:09:33.395540Z"
    }
   },
   "outputs": [
    {
     "data": {
      "text/plain": [
       "(array([[ 837.97932896],\n",
       "        [2763.23614979],\n",
       "        [1588.48663775],\n",
       "        [3000.76009307]]),\n",
       "       Item_Outlet_Sales\n",
       " 7681          575.25120\n",
       " 7385         4234.48800\n",
       " 7553         1177.13440\n",
       " 6217         4649.94720)"
      ]
     },
     "execution_count": 66,
     "metadata": {},
     "output_type": "execute_result"
    }
   ],
   "source": [
    "y_train_pred[1:5] , y_train[1:5],"
   ]
  },
  {
   "cell_type": "code",
   "execution_count": 67,
   "metadata": {
    "ExecuteTime": {
     "end_time": "2020-11-03T17:09:33.420404Z",
     "start_time": "2020-11-03T17:09:33.414387Z"
    },
    "scrolled": true
   },
   "outputs": [],
   "source": [
    "#y_train.head(), x_train.head()"
   ]
  },
  {
   "cell_type": "code",
   "execution_count": 68,
   "metadata": {
    "ExecuteTime": {
     "end_time": "2020-11-03T17:09:33.448195Z",
     "start_time": "2020-11-03T17:09:33.436248Z"
    }
   },
   "outputs": [],
   "source": [
    "y_test_pred = lm.predict(x_test)"
   ]
  },
  {
   "cell_type": "code",
   "execution_count": 69,
   "metadata": {
    "ExecuteTime": {
     "end_time": "2020-11-03T17:09:33.488939Z",
     "start_time": "2020-11-03T17:09:33.455156Z"
    }
   },
   "outputs": [
    {
     "data": {
      "text/plain": [
       "(0.5631131717033941, 0.5645685102266854)"
      ]
     },
     "execution_count": 69,
     "metadata": {},
     "output_type": "execute_result"
    }
   ],
   "source": [
    "lm.score(x_train,y_train) , lm.score(x_test,y_test)"
   ]
  },
  {
   "cell_type": "code",
   "execution_count": 70,
   "metadata": {
    "ExecuteTime": {
     "end_time": "2020-11-03T17:09:33.508812Z",
     "start_time": "2020-11-03T17:09:33.492914Z"
    }
   },
   "outputs": [],
   "source": [
    "test_result = lm.predict(test_new)"
   ]
  },
  {
   "cell_type": "code",
   "execution_count": 71,
   "metadata": {
    "ExecuteTime": {
     "end_time": "2020-11-03T17:09:33.518750Z",
     "start_time": "2020-11-03T17:09:33.512789Z"
    }
   },
   "outputs": [],
   "source": [
    "from sklearn.metrics import mean_squared_error,mean_absolute_error"
   ]
  },
  {
   "cell_type": "code",
   "execution_count": 72,
   "metadata": {
    "ExecuteTime": {
     "end_time": "2020-11-03T17:09:33.546602Z",
     "start_time": "2020-11-03T17:09:33.522725Z"
    }
   },
   "outputs": [
    {
     "data": {
      "text/plain": [
       "(1279565.1330651357, 838.6418727183082, 0.5631131717033941)"
      ]
     },
     "execution_count": 72,
     "metadata": {},
     "output_type": "execute_result"
    }
   ],
   "source": [
    "from sklearn.metrics import r2_score\n",
    "mean_squared_error(y_train, y_train_pred),mean_absolute_error(y_train, y_train_pred) , r2_score(y_train, y_train_pred)"
   ]
  },
  {
   "cell_type": "code",
   "execution_count": 73,
   "metadata": {
    "ExecuteTime": {
     "end_time": "2020-11-03T17:09:33.560012Z",
     "start_time": "2020-11-03T17:09:33.552063Z"
    }
   },
   "outputs": [],
   "source": [
    "submit =pd.DataFrame()"
   ]
  },
  {
   "cell_type": "code",
   "execution_count": 74,
   "metadata": {
    "ExecuteTime": {
     "end_time": "2020-11-03T17:09:33.577898Z",
     "start_time": "2020-11-03T17:09:33.565975Z"
    }
   },
   "outputs": [],
   "source": [
    "submit = test[['Item_Identifier', 'Outlet_Identifier']].copy()"
   ]
  },
  {
   "cell_type": "code",
   "execution_count": 75,
   "metadata": {
    "ExecuteTime": {
     "end_time": "2020-11-03T17:09:33.590569Z",
     "start_time": "2020-11-03T17:09:33.582520Z"
    }
   },
   "outputs": [],
   "source": [
    "submit['Item_Outlet_Sales'] = test_result"
   ]
  },
  {
   "cell_type": "code",
   "execution_count": 76,
   "metadata": {
    "ExecuteTime": {
     "end_time": "2020-11-03T17:09:33.611684Z",
     "start_time": "2020-11-03T17:09:33.594791Z"
    }
   },
   "outputs": [
    {
     "data": {
      "text/html": [
       "<div>\n",
       "<style scoped>\n",
       "    .dataframe tbody tr th:only-of-type {\n",
       "        vertical-align: middle;\n",
       "    }\n",
       "\n",
       "    .dataframe tbody tr th {\n",
       "        vertical-align: top;\n",
       "    }\n",
       "\n",
       "    .dataframe thead th {\n",
       "        text-align: right;\n",
       "    }\n",
       "</style>\n",
       "<table border=\"1\" class=\"dataframe\">\n",
       "  <thead>\n",
       "    <tr style=\"text-align: right;\">\n",
       "      <th></th>\n",
       "      <th>Item_Identifier</th>\n",
       "      <th>Outlet_Identifier</th>\n",
       "      <th>Item_Outlet_Sales</th>\n",
       "    </tr>\n",
       "  </thead>\n",
       "  <tbody>\n",
       "    <tr>\n",
       "      <td>0</td>\n",
       "      <td>FDW58</td>\n",
       "      <td>OUT049</td>\n",
       "      <td>1754.21917</td>\n",
       "    </tr>\n",
       "    <tr>\n",
       "      <td>1</td>\n",
       "      <td>FDW14</td>\n",
       "      <td>OUT017</td>\n",
       "      <td>1562.83041</td>\n",
       "    </tr>\n",
       "    <tr>\n",
       "      <td>2</td>\n",
       "      <td>NCN55</td>\n",
       "      <td>OUT010</td>\n",
       "      <td>1870.92775</td>\n",
       "    </tr>\n",
       "    <tr>\n",
       "      <td>3</td>\n",
       "      <td>FDQ58</td>\n",
       "      <td>OUT017</td>\n",
       "      <td>2577.72874</td>\n",
       "    </tr>\n",
       "    <tr>\n",
       "      <td>4</td>\n",
       "      <td>FDY38</td>\n",
       "      <td>OUT027</td>\n",
       "      <td>5185.89370</td>\n",
       "    </tr>\n",
       "  </tbody>\n",
       "</table>\n",
       "</div>"
      ],
      "text/plain": [
       "  Item_Identifier Outlet_Identifier  Item_Outlet_Sales\n",
       "0           FDW58            OUT049         1754.21917\n",
       "1           FDW14            OUT017         1562.83041\n",
       "2           NCN55            OUT010         1870.92775\n",
       "3           FDQ58            OUT017         2577.72874\n",
       "4           FDY38            OUT027         5185.89370"
      ]
     },
     "execution_count": 76,
     "metadata": {},
     "output_type": "execute_result"
    }
   ],
   "source": [
    "submit.head(5)"
   ]
  },
  {
   "cell_type": "code",
   "execution_count": 77,
   "metadata": {
    "ExecuteTime": {
     "end_time": "2020-11-03T17:09:33.625593Z",
     "start_time": "2020-11-03T17:09:33.616650Z"
    }
   },
   "outputs": [],
   "source": [
    "submit= submit.set_index('Item_Identifier')"
   ]
  },
  {
   "cell_type": "code",
   "execution_count": 78,
   "metadata": {
    "ExecuteTime": {
     "end_time": "2020-11-03T17:09:33.680246Z",
     "start_time": "2020-11-03T17:09:33.628576Z"
    }
   },
   "outputs": [],
   "source": [
    "submit.to_csv(\"c:/aa mtas/AA_ER/ml/python-code/bigmart-sales-data/bigmarket-sales-linear_29_feb_delweight_yearold.csv\")"
   ]
  },
  {
   "cell_type": "code",
   "execution_count": 79,
   "metadata": {
    "ExecuteTime": {
     "end_time": "2020-11-03T17:09:33.777629Z",
     "start_time": "2020-11-03T17:09:33.684221Z"
    }
   },
   "outputs": [],
   "source": [
    "#XGboost Regressor\n",
    "from sklearn.model_selection import KFold, cross_val_score\n",
    "from xgboost import XGBRegressor"
   ]
  },
  {
   "cell_type": "code",
   "execution_count": 80,
   "metadata": {
    "ExecuteTime": {
     "end_time": "2020-11-03T17:09:33.785576Z",
     "start_time": "2020-11-03T17:09:33.780609Z"
    }
   },
   "outputs": [],
   "source": [
    "xgmodel = XGBRegressor(n_estimators=100,  booster=\"gbtree\",silent=0,max_depth=4)"
   ]
  },
  {
   "cell_type": "code",
   "execution_count": 81,
   "metadata": {
    "ExecuteTime": {
     "end_time": "2020-11-03T17:09:33.800481Z",
     "start_time": "2020-11-03T17:09:33.790545Z"
    }
   },
   "outputs": [
    {
     "name": "stdout",
     "output_type": "stream",
     "text": [
      "XGBRegressor(max_depth=4, silent=0)\n"
     ]
    }
   ],
   "source": [
    "print(xgmodel)"
   ]
  },
  {
   "cell_type": "code",
   "execution_count": 82,
   "metadata": {
    "ExecuteTime": {
     "end_time": "2020-11-03T17:09:35.286407Z",
     "start_time": "2020-11-03T17:09:33.806443Z"
    }
   },
   "outputs": [
    {
     "name": "stdout",
     "output_type": "stream",
     "text": [
      "[22:39:33] WARNING: src/objective/regression_obj.cu:152: reg:linear is now deprecated in favor of reg:squarederror.\n"
     ]
    }
   ],
   "source": [
    "from sklearn.model_selection import cross_val_score, KFold\n",
    "xg = xgmodel.fit(x_train,y_train)"
   ]
  },
  {
   "cell_type": "code",
   "execution_count": 83,
   "metadata": {
    "ExecuteTime": {
     "end_time": "2020-11-03T17:09:48.313716Z",
     "start_time": "2020-11-03T17:09:35.289336Z"
    }
   },
   "outputs": [
    {
     "name": "stdout",
     "output_type": "stream",
     "text": [
      "[22:39:35] WARNING: src/objective/regression_obj.cu:152: reg:linear is now deprecated in favor of reg:squarederror.\n",
      "[22:39:36] WARNING: src/objective/regression_obj.cu:152: reg:linear is now deprecated in favor of reg:squarederror.\n",
      "[22:39:37] WARNING: src/objective/regression_obj.cu:152: reg:linear is now deprecated in favor of reg:squarederror.\n",
      "[22:39:39] WARNING: src/objective/regression_obj.cu:152: reg:linear is now deprecated in favor of reg:squarederror.\n",
      "[22:39:40] WARNING: src/objective/regression_obj.cu:152: reg:linear is now deprecated in favor of reg:squarederror.\n",
      "[22:39:41] WARNING: src/objective/regression_obj.cu:152: reg:linear is now deprecated in favor of reg:squarederror.\n",
      "[22:39:43] WARNING: src/objective/regression_obj.cu:152: reg:linear is now deprecated in favor of reg:squarederror.\n",
      "[22:39:44] WARNING: src/objective/regression_obj.cu:152: reg:linear is now deprecated in favor of reg:squarederror.\n",
      "[22:39:45] WARNING: src/objective/regression_obj.cu:152: reg:linear is now deprecated in favor of reg:squarederror.\n",
      "[22:39:47] WARNING: src/objective/regression_obj.cu:152: reg:linear is now deprecated in favor of reg:squarederror.\n",
      "K-fold CV average score: 0.59\n"
     ]
    }
   ],
   "source": [
    " kfold = KFold(n_splits=10, shuffle=True)\n",
    " kf_cv_scores = cross_val_score(xgmodel, x_train, y_train, cv=kfold )\n",
    " print(\"K-fold CV average score: %.2f\" % kf_cv_scores.mean())"
   ]
  },
  {
   "cell_type": "code",
   "execution_count": 84,
   "metadata": {
    "ExecuteTime": {
     "end_time": "2020-11-03T17:09:48.411906Z",
     "start_time": "2020-11-03T17:09:48.317729Z"
    }
   },
   "outputs": [],
   "source": [
    "#y_train_pred_xg   = xg.predict(x_train)\n",
    "y_train_pred_xgkfold  = xgmodel.predict(x_train)\n",
    "y_test_pred_xgkfold  = xgmodel.predict(x_test)\n",
    "test_result_xgkfold  = xgmodel.predict(test_new)\n"
   ]
  },
  {
   "cell_type": "code",
   "execution_count": 85,
   "metadata": {
    "ExecuteTime": {
     "end_time": "2020-11-03T17:09:48.499214Z",
     "start_time": "2020-11-03T17:09:48.415784Z"
    }
   },
   "outputs": [
    {
     "data": {
      "text/plain": [
       "(0.6560475109316883, 0.5827489676340204)"
      ]
     },
     "execution_count": 85,
     "metadata": {},
     "output_type": "execute_result"
    }
   ],
   "source": [
    "xg.score(x_train,y_train) , xg.score(x_test,y_test) "
   ]
  },
  {
   "cell_type": "code",
   "execution_count": 86,
   "metadata": {
    "ExecuteTime": {
     "end_time": "2020-11-03T17:09:48.603752Z",
     "start_time": "2020-11-03T17:09:48.503123Z"
    }
   },
   "outputs": [
    {
     "name": "stdout",
     "output_type": "stream",
     "text": [
      "coefficient of determination: 0.6560475109316883\n",
      " MSE :  1007376.7024717557\n",
      "RMSE: 1003.68\n",
      " MAE :  710.4944250740961\n"
     ]
    }
   ],
   "source": [
    "print('coefficient of determination:',xg.score(x_train,y_train))\n",
    "print (\" MSE : \", mean_squared_error(y_train, y_train_pred_xgkfold))\n",
    "print(\"RMSE: %.2f\" % np.sqrt(mean_squared_error(y_train, y_train_pred_xgkfold)))\n",
    "print (\" MAE : \", mean_absolute_error(y_train, y_train_pred_xgkfold))"
   ]
  },
  {
   "cell_type": "code",
   "execution_count": 87,
   "metadata": {
    "ExecuteTime": {
     "end_time": "2020-11-03T17:09:48.653441Z",
     "start_time": "2020-11-03T17:09:48.607763Z"
    }
   },
   "outputs": [],
   "source": [
    " submit =pd.DataFrame()\n",
    " submit = test[['Item_Identifier', 'Outlet_Identifier']].copy()\n",
    " submit['Item_Outlet_Sales'] = test_result_xgkfold\n",
    " submit= submit.set_index('Item_Identifier')\n",
    " submit.to_csv(\"c:/aa mtas/AA_ER/ml/python-code/bigmart-sales-data/bigmarket-sales-xgboost.csv\")"
   ]
  },
  {
   "cell_type": "code",
   "execution_count": 88,
   "metadata": {
    "ExecuteTime": {
     "end_time": "2020-11-03T17:09:48.666358Z",
     "start_time": "2020-11-03T17:09:48.659400Z"
    }
   },
   "outputs": [],
   "source": [
    "from sklearn.model_selection import cross_val_score\n",
    "from sklearn.ensemble import RandomForestRegressor\n"
   ]
  },
  {
   "cell_type": "code",
   "execution_count": 89,
   "metadata": {
    "ExecuteTime": {
     "end_time": "2020-11-03T17:09:48.683248Z",
     "start_time": "2020-11-03T17:09:48.670329Z"
    }
   },
   "outputs": [
    {
     "name": "stdout",
     "output_type": "stream",
     "text": [
      "RandomForestRegressor(max_depth=50, max_features='sqrt', min_samples_leaf=5,\n",
      "                      n_estimators=400, oob_score=True, random_state=123)\n"
     ]
    }
   ],
   "source": [
    "rf = RandomForestRegressor(n_estimators = 400,random_state=123,max_features=\"sqrt\",max_depth=50,min_samples_leaf=5, oob_score = True)\n",
    "\n",
    "# Train the model on training data\n",
    "print(rf) \n"
   ]
  },
  {
   "cell_type": "code",
   "execution_count": 90,
   "metadata": {
    "ExecuteTime": {
     "end_time": "2020-11-03T17:09:57.797241Z",
     "start_time": "2020-11-03T17:09:48.689209Z"
    }
   },
   "outputs": [
    {
     "name": "stderr",
     "output_type": "stream",
     "text": [
      "C:\\Users\\esacsat\\AppData\\Local\\Continuum\\anaconda3\\lib\\site-packages\\ipykernel_launcher.py:1: DataConversionWarning: A column-vector y was passed when a 1d array was expected. Please change the shape of y to (n_samples,), for example using ravel().\n",
      "  \"\"\"Entry point for launching an IPython kernel.\n"
     ]
    },
    {
     "data": {
      "text/plain": [
       "(0.6708007561006579, 0.5989243172194826)"
      ]
     },
     "execution_count": 90,
     "metadata": {},
     "output_type": "execute_result"
    }
   ],
   "source": [
    "rf.fit(x_train, y_train)\n",
    "y_train_pred_rf  = rf.predict(x_train)\n",
    "y_test_pred_rf   = rf.predict(x_test)\n",
    "test_result_rf   = rf.predict(test_new)\n",
    "rf.score(x_train,y_train) , rf.score(x_test,y_test) "
   ]
  },
  {
   "cell_type": "code",
   "execution_count": 91,
   "metadata": {
    "ExecuteTime": {
     "end_time": "2020-11-03T17:09:57.812147Z",
     "start_time": "2020-11-03T17:09:57.802239Z"
    }
   },
   "outputs": [
    {
     "data": {
      "text/plain": [
       "(0.6708007561006579, 0.5989243172194826)"
      ]
     },
     "execution_count": 91,
     "metadata": {},
     "output_type": "execute_result"
    }
   ],
   "source": [
    "(0.6708007561006579, 0.5989243172194826)"
   ]
  },
  {
   "cell_type": "code",
   "execution_count": 92,
   "metadata": {
    "ExecuteTime": {
     "end_time": "2020-11-03T17:10:52.884175Z",
     "start_time": "2020-11-03T17:09:57.818108Z"
    }
   },
   "outputs": [
    {
     "name": "stderr",
     "output_type": "stream",
     "text": [
      "C:\\Users\\esacsat\\AppData\\Local\\Continuum\\anaconda3\\lib\\site-packages\\sklearn\\model_selection\\_validation.py:531: DataConversionWarning: A column-vector y was passed when a 1d array was expected. Please change the shape of y to (n_samples,), for example using ravel().\n",
      "  estimator.fit(X_train, y_train, **fit_params)\n",
      "C:\\Users\\esacsat\\AppData\\Local\\Continuum\\anaconda3\\lib\\site-packages\\sklearn\\model_selection\\_validation.py:531: DataConversionWarning: A column-vector y was passed when a 1d array was expected. Please change the shape of y to (n_samples,), for example using ravel().\n",
      "  estimator.fit(X_train, y_train, **fit_params)\n",
      "C:\\Users\\esacsat\\AppData\\Local\\Continuum\\anaconda3\\lib\\site-packages\\sklearn\\model_selection\\_validation.py:531: DataConversionWarning: A column-vector y was passed when a 1d array was expected. Please change the shape of y to (n_samples,), for example using ravel().\n",
      "  estimator.fit(X_train, y_train, **fit_params)\n",
      "C:\\Users\\esacsat\\AppData\\Local\\Continuum\\anaconda3\\lib\\site-packages\\sklearn\\model_selection\\_validation.py:531: DataConversionWarning: A column-vector y was passed when a 1d array was expected. Please change the shape of y to (n_samples,), for example using ravel().\n",
      "  estimator.fit(X_train, y_train, **fit_params)\n",
      "C:\\Users\\esacsat\\AppData\\Local\\Continuum\\anaconda3\\lib\\site-packages\\sklearn\\model_selection\\_validation.py:531: DataConversionWarning: A column-vector y was passed when a 1d array was expected. Please change the shape of y to (n_samples,), for example using ravel().\n",
      "  estimator.fit(X_train, y_train, **fit_params)\n",
      "C:\\Users\\esacsat\\AppData\\Local\\Continuum\\anaconda3\\lib\\site-packages\\sklearn\\model_selection\\_validation.py:531: DataConversionWarning: A column-vector y was passed when a 1d array was expected. Please change the shape of y to (n_samples,), for example using ravel().\n",
      "  estimator.fit(X_train, y_train, **fit_params)\n",
      "C:\\Users\\esacsat\\AppData\\Local\\Continuum\\anaconda3\\lib\\site-packages\\sklearn\\model_selection\\_validation.py:531: DataConversionWarning: A column-vector y was passed when a 1d array was expected. Please change the shape of y to (n_samples,), for example using ravel().\n",
      "  estimator.fit(X_train, y_train, **fit_params)\n",
      "C:\\Users\\esacsat\\AppData\\Local\\Continuum\\anaconda3\\lib\\site-packages\\sklearn\\model_selection\\_validation.py:531: DataConversionWarning: A column-vector y was passed when a 1d array was expected. Please change the shape of y to (n_samples,), for example using ravel().\n",
      "  estimator.fit(X_train, y_train, **fit_params)\n",
      "C:\\Users\\esacsat\\AppData\\Local\\Continuum\\anaconda3\\lib\\site-packages\\sklearn\\model_selection\\_validation.py:531: DataConversionWarning: A column-vector y was passed when a 1d array was expected. Please change the shape of y to (n_samples,), for example using ravel().\n",
      "  estimator.fit(X_train, y_train, **fit_params)\n",
      "C:\\Users\\esacsat\\AppData\\Local\\Continuum\\anaconda3\\lib\\site-packages\\sklearn\\model_selection\\_validation.py:531: DataConversionWarning: A column-vector y was passed when a 1d array was expected. Please change the shape of y to (n_samples,), for example using ravel().\n",
      "  estimator.fit(X_train, y_train, **fit_params)\n"
     ]
    },
    {
     "name": "stdout",
     "output_type": "stream",
     "text": [
      "K-fold CV average score: 0.58\n"
     ]
    }
   ],
   "source": [
    "kfold = KFold(n_splits=10, shuffle=True)\n",
    "kf_cv_scores = cross_val_score (rf, x_train, y_train, cv=kfold )\n",
    "print(\"K-fold CV average score: %.2f\" % kf_cv_scores.mean())\n"
   ]
  },
  {
   "cell_type": "code",
   "execution_count": 93,
   "metadata": {
    "ExecuteTime": {
     "end_time": "2020-11-03T17:10:52.899214Z",
     "start_time": "2020-11-03T17:10:52.888165Z"
    }
   },
   "outputs": [
    {
     "data": {
      "text/plain": [
       "array([0.59229318, 0.57576704, 0.57271643, 0.54162889, 0.56817007,\n",
       "       0.59298615, 0.53825317, 0.57786588, 0.55222322, 0.65191905])"
      ]
     },
     "execution_count": 93,
     "metadata": {},
     "output_type": "execute_result"
    }
   ],
   "source": [
    "kf_cv_scores"
   ]
  },
  {
   "cell_type": "code",
   "execution_count": 94,
   "metadata": {
    "ExecuteTime": {
     "end_time": "2020-11-03T17:10:55.334499Z",
     "start_time": "2020-11-03T17:10:52.903751Z"
    }
   },
   "outputs": [
    {
     "data": {
      "text/plain": [
       "(0.6708007561006579, 0.5989243172194826)"
      ]
     },
     "execution_count": 94,
     "metadata": {},
     "output_type": "execute_result"
    }
   ],
   "source": [
    "y_train_pred_rf  = rf.predict(x_train)\n",
    "y_test_pred_rf   = rf.predict(x_test)\n",
    "test_result_rf   = rf.predict(test_new)\n",
    "rf.score(x_train,y_train) , rf.score(x_test,y_test) "
   ]
  },
  {
   "cell_type": "code",
   "execution_count": 95,
   "metadata": {
    "ExecuteTime": {
     "end_time": "2020-11-03T17:10:56.248186Z",
     "start_time": "2020-11-03T17:10:55.337521Z"
    }
   },
   "outputs": [
    {
     "name": "stdout",
     "output_type": "stream",
     "text": [
      "coefficient of determination: 0.6708007561006579\n",
      " MSE :  964167.0268873984\n",
      "RMSE: 981.92\n",
      " MAE :  694.1223523117305\n"
     ]
    }
   ],
   "source": [
    "print('coefficient of determination:',rf.score(x_train,y_train))\n",
    "#print('slope:', xg.coef_())\n",
    "#print('intercept:', xg.intercept_)\n",
    "print (\" MSE : \", mean_squared_error(y_train, y_train_pred_rf ))\n",
    "print(\"RMSE: %.2f\" % np.sqrt(mean_squared_error(y_train, y_train_pred_rf )))\n",
    "print (\" MAE : \", mean_absolute_error(y_train, y_train_pred_rf ))"
   ]
  },
  {
   "cell_type": "code",
   "execution_count": 96,
   "metadata": {
    "ExecuteTime": {
     "end_time": "2020-11-03T17:10:56.278808Z",
     "start_time": "2020-11-03T17:10:56.256160Z"
    }
   },
   "outputs": [
    {
     "data": {
      "text/plain": [
       "55.64679668377368"
      ]
     },
     "execution_count": 96,
     "metadata": {},
     "output_type": "execute_result"
    }
   ],
   "source": [
    "a = np.array(y_train['Item_Outlet_Sales'])\n",
    "np.mean(np.abs((a - y_train_pred_rf) / a)) * 100\n"
   ]
  },
  {
   "cell_type": "code",
   "execution_count": 97,
   "metadata": {
    "ExecuteTime": {
     "end_time": "2020-11-03T17:10:56.304892Z",
     "start_time": "2020-11-03T17:10:56.286793Z"
    }
   },
   "outputs": [],
   "source": [
    "def mean_absolute_percentage_error(y_true, y_pred): \n",
    "    y_true, y_pred = np.array(y_true), np.array(y_pred)\n",
    "    return np.mean(np.abs((y_true - y_pred) / y_true)) * 100"
   ]
  },
  {
   "cell_type": "code",
   "execution_count": 98,
   "metadata": {
    "ExecuteTime": {
     "end_time": "2020-11-03T17:10:56.335678Z",
     "start_time": "2020-11-03T17:10:56.315717Z"
    }
   },
   "outputs": [
    {
     "data": {
      "text/plain": [
       "55.64679668377368"
      ]
     },
     "execution_count": 98,
     "metadata": {},
     "output_type": "execute_result"
    }
   ],
   "source": [
    "mean_absolute_percentage_error(y_train['Item_Outlet_Sales'],y_train_pred_rf)"
   ]
  },
  {
   "cell_type": "code",
   "execution_count": 99,
   "metadata": {
    "ExecuteTime": {
     "end_time": "2020-11-03T17:10:56.424420Z",
     "start_time": "2020-11-03T17:10:56.346634Z"
    }
   },
   "outputs": [],
   "source": [
    " submit =pd.DataFrame()\n",
    " submit = test[['Item_Identifier', 'Outlet_Identifier']].copy()\n",
    " submit['Item_Outlet_Sales'] = test_result_rf\n",
    " submit= submit.set_index('Item_Identifier')\n",
    " submit.to_csv(\"c:/aa mtas/AA_ER/ml/python-code/bigmart-sales-data/bigmarket-sales-random.csv\")"
   ]
  },
  {
   "cell_type": "code",
   "execution_count": 100,
   "metadata": {
    "ExecuteTime": {
     "end_time": "2020-11-03T17:10:56.435434Z",
     "start_time": "2020-11-03T17:10:56.428407Z"
    }
   },
   "outputs": [],
   "source": [
    " def write2csv (test_result, file):\n",
    "    submit =pd.DataFrame()\n",
    "    submit = test[['Item_Identifier', 'Outlet_Identifier']].copy()\n",
    "    submit['Item_Outlet_Sales'] = test_result\n",
    "    submit= submit.set_index('Item_Identifier')\n",
    "    filename = \"c:/aa mtas/AA_ER/ml/python-code/bigmart-sales-data/\" + file \n",
    "    print(filename)\n",
    "    submit.to_csv(filename)"
   ]
  },
  {
   "cell_type": "code",
   "execution_count": 101,
   "metadata": {
    "ExecuteTime": {
     "end_time": "2020-11-03T17:10:56.504274Z",
     "start_time": "2020-11-03T17:10:56.441374Z"
    }
   },
   "outputs": [
    {
     "name": "stdout",
     "output_type": "stream",
     "text": [
      "c:/aa mtas/AA_ER/ml/python-code/bigmart-sales-data/rf.csv\n"
     ]
    }
   ],
   "source": [
    "write2csv(test_result_rf,\"rf.csv\")"
   ]
  },
  {
   "cell_type": "code",
   "execution_count": 102,
   "metadata": {
    "ExecuteTime": {
     "end_time": "2020-11-03T17:10:56.512219Z",
     "start_time": "2020-11-03T17:10:56.508197Z"
    }
   },
   "outputs": [],
   "source": [
    "from sklearn.decomposition import PCA"
   ]
  },
  {
   "cell_type": "code",
   "execution_count": 103,
   "metadata": {
    "ExecuteTime": {
     "end_time": "2020-11-03T17:10:56.604530Z",
     "start_time": "2020-11-03T17:10:56.516174Z"
    }
   },
   "outputs": [
    {
     "name": "stdout",
     "output_type": "stream",
     "text": [
      "pca.explained_variance_ratio_ [0.98120265]\n"
     ]
    },
    {
     "data": {
      "text/plain": [
       "((7670, 1), (7670, 31))"
      ]
     },
     "execution_count": 103,
     "metadata": {},
     "output_type": "execute_result"
    }
   ],
   "source": [
    "pca = PCA(n_components=.95)\n",
    "x_train_pca = pca.fit_transform(x_train)\n",
    "x_test_pca = pca.fit_transform(x_test)\n",
    "test_new_pca = pca.fit_transform(test_new)\n",
    "print(\"pca.explained_variance_ratio_\", pca.explained_variance_ratio_ )\n",
    "x_train_pca.shape, x_train.shape"
   ]
  },
  {
   "cell_type": "code",
   "execution_count": 104,
   "metadata": {
    "ExecuteTime": {
     "end_time": "2020-11-03T17:10:56.617492Z",
     "start_time": "2020-11-03T17:10:56.609513Z"
    }
   },
   "outputs": [
    {
     "data": {
      "text/plain": [
       "PCA(n_components=0.95)"
      ]
     },
     "execution_count": 104,
     "metadata": {},
     "output_type": "execute_result"
    }
   ],
   "source": [
    "pca"
   ]
  },
  {
   "cell_type": "code",
   "execution_count": 105,
   "metadata": {
    "ExecuteTime": {
     "end_time": "2020-11-03T17:10:56.658383Z",
     "start_time": "2020-11-03T17:10:56.622478Z"
    }
   },
   "outputs": [
    {
     "name": "stdout",
     "output_type": "stream",
     "text": [
      "coefficient of determination: 0.32245910222650565\n",
      "slope: [[15.61982033]]\n",
      "intercept: [2185.01115525]\n"
     ]
    }
   ],
   "source": [
    "lm = modelLR.fit(x_train_pca,y_train)\n",
    "print('coefficient of determination:',lm.score(x_train_pca,y_train))\n",
    "print('slope:', lm.coef_)\n",
    "print('intercept:', lm.intercept_)\n",
    "y_train_pred_pca = lm.predict(x_train_pca)\n",
    "y_test_pred_pca = lm.predict(x_test_pca)\n",
    "test_pred_pca = lm.predict(test_new_pca)"
   ]
  },
  {
   "cell_type": "code",
   "execution_count": 106,
   "metadata": {
    "ExecuteTime": {
     "end_time": "2020-11-03T17:10:56.668357Z",
     "start_time": "2020-11-03T17:10:56.662371Z"
    }
   },
   "outputs": [],
   "source": [
    " from sklearn import metrics"
   ]
  },
  {
   "cell_type": "code",
   "execution_count": 107,
   "metadata": {
    "ExecuteTime": {
     "end_time": "2020-11-03T17:10:56.697277Z",
     "start_time": "2020-11-03T17:10:56.673343Z"
    }
   },
   "outputs": [
    {
     "name": "stdout",
     "output_type": "stream",
     "text": [
      "1035.222054747786\n",
      "0.32245910222650565\n"
     ]
    }
   ],
   "source": [
    "print(metrics.mean_absolute_error(y_train, y_train_pred_pca))\n",
    "print(metrics.r2_score(y_train,y_train_pred_pca)) \n",
    "    "
   ]
  },
  {
   "cell_type": "code",
   "execution_count": 108,
   "metadata": {
    "ExecuteTime": {
     "end_time": "2020-11-03T17:10:56.756720Z",
     "start_time": "2020-11-03T17:10:56.702270Z"
    }
   },
   "outputs": [
    {
     "name": "stdout",
     "output_type": "stream",
     "text": [
      "c:/aa mtas/AA_ER/ml/python-code/bigmart-sales-data/pca_95.csv\n"
     ]
    }
   ],
   "source": [
    "write2csv(test_pred_pca,\"pca_95.csv\")"
   ]
  },
  {
   "cell_type": "code",
   "execution_count": null,
   "metadata": {},
   "outputs": [],
   "source": []
  }
 ],
 "metadata": {
  "kernelspec": {
   "display_name": "Python 3",
   "language": "python",
   "name": "python3"
  },
  "language_info": {
   "codemirror_mode": {
    "name": "ipython",
    "version": 3
   },
   "file_extension": ".py",
   "mimetype": "text/x-python",
   "name": "python",
   "nbconvert_exporter": "python",
   "pygments_lexer": "ipython3",
   "version": "3.6.9"
  }
 },
 "nbformat": 4,
 "nbformat_minor": 2
}
